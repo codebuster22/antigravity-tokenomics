{
 "cells": [
  {
   "cell_type": "markdown",
   "metadata": {},
   "source": [
    "## Import packages and modules"
   ]
  },
  {
   "cell_type": "code",
   "execution_count": 7,
   "metadata": {},
   "outputs": [],
   "source": [
    "# Import necessary packages and modules\n",
    "\n",
    "# General packages\n",
    "import numpy as np\n",
    "import random\n",
    "import sys\n",
    "import os\n",
    "project_root = os.path.abspath(os.path.join(os.getcwd(), '..'))\n",
    "if project_root not in sys.path:\n",
    "    sys.path.append(project_root)\n",
    "import numpy as np\n",
    "import plotly.graph_objects as go\n",
    "import plotly.io as pio\n",
    "from plotly.subplots import make_subplots\n",
    "from constants.constants import exports_dir\n",
    "\n",
    "# Import custom modules\n",
    "from modules.Account import Account\n",
    "from modules.Dark import DarkToken\n",
    "from modules.FuelCells import FuelCellsToken\n",
    "from modules.JourneyPhaseManager import JourneyPhaseManager\n",
    "from modules.Treasury import Treasury\n",
    "from modules.LaunchControlCenter import LaunchControlCenter\n",
    "from modules.EvilAddress import EvilAddress\n",
    "from modules.Jackpot import Jackpot\n",
    "from modules.Pool import Pool\n",
    "from modules.Team import Team\n",
    "from modules.DAIStableCoin import DAIStableCoin\n",
    "\n",
    "# Set up initial configurations for the simulation\n",
    "np.random.seed(42)\n",
    "random.seed(42)\n"
   ]
  },
  {
   "cell_type": "markdown",
   "metadata": {},
   "source": [
    "## Initialize accounts"
   ]
  },
  {
   "cell_type": "code",
   "execution_count": 8,
   "metadata": {},
   "outputs": [
    {
     "name": "stdout",
     "output_type": "stream",
     "text": [
      "Initial Balances:\n",
      "Public Account: 100000 Dark tokens\n",
      "MagicBox Account: 250000 Dark tokens\n",
      "Evil Address Account: 650000 Dark tokens\n",
      "Team Account: 0 Dark tokens\n"
     ]
    }
   ],
   "source": [
    "# Import necessary packages and modules\n",
    "\n",
    "# Initialize Accounts\n",
    "\n",
    "# Public account\n",
    "public_account = Account()\n",
    "\n",
    "# MagicBox account managed by the team\n",
    "magic_box_account = Account()\n",
    "\n",
    "# Team account to collect share of Dark tokens used to mint NFTs\n",
    "team_account = Team()\n",
    "\n",
    "# Initialize Dark token\n",
    "dark_token = DarkToken()\n",
    "\n",
    "# Mint initial Dark token supply to Public, MagicBox, and Evil address\n",
    "initial_dark_supply = 1000000  # Total initial supply\n",
    "public_initial_balance = int(initial_dark_supply * 0.10)\n",
    "magic_box_initial_balance = int(initial_dark_supply * 0.25)\n",
    "evil_address_initial_balance = int(initial_dark_supply * 0.65)\n",
    "\n",
    "dark_token.mint(public_account, public_initial_balance)\n",
    "dark_token.mint(magic_box_account, magic_box_initial_balance)\n",
    "\n",
    "# Initialize FuelCells token\n",
    "fuel_cells_token = FuelCellsToken()\n",
    "\n",
    "# Initialize JourneyPhaseManager\n",
    "journey_phase_manager = JourneyPhaseManager()\n",
    "\n",
    "# Initialize Treasury\n",
    "treasury_account = Account()\n",
    "treasury = Treasury(treasury_account, dark_token)\n",
    "\n",
    "# Initialize Jackpot\n",
    "jackpot_account = Account()\n",
    "jackpot = Jackpot(jackpot_account, dark_token, journey_phase_manager, fuel_cells_token)\n",
    "\n",
    "# Initialize LaunchControlCenter\n",
    "lcc = LaunchControlCenter(dark_token, fuel_cells_token, treasury_account, jackpot_account, team_account, journey_phase_manager)\n",
    "\n",
    "# Initialize EvilAddress\n",
    "evil_address_account = EvilAddress(dark_token, fuel_cells_token, lcc, journey_phase_manager, evil_address_initial_balance)\n",
    "dark_token.mint(evil_address_account, evil_address_initial_balance)\n",
    "\n",
    "# Initialize Pool\n",
    "dai_token = DAIStableCoin()\n",
    "pool = Pool(dark_token, dai_token)\n",
    "\n",
    "# Initialize accounts and variables summary\n",
    "print(\"Initial Balances:\")\n",
    "print(f\"Public Account: {dark_token.balance_of(public_account)} Dark tokens\")\n",
    "print(f\"MagicBox Account: {dark_token.balance_of(magic_box_account)} Dark tokens\")\n",
    "print(f\"Evil Address Account: {dark_token.balance_of(evil_address_account)} Dark tokens\")\n",
    "print(f\"Team Account: {dark_token.balance_of(team_account)} Dark tokens\")\n"
   ]
  },
  {
   "cell_type": "markdown",
   "metadata": {},
   "source": [
    "# Initialize Liquidity Pool"
   ]
  },
  {
   "cell_type": "code",
   "execution_count": 9,
   "metadata": {},
   "outputs": [
    {
     "name": "stdout",
     "output_type": "stream",
     "text": [
      "Liquidity Pool Initialized:\n",
      "Pool: Dark reserve = 100000, DAI reserve = 300000, Fee = 0.003, Total volume = 0\n",
      "3.0\n"
     ]
    }
   ],
   "source": [
    "# Initialize Liquidity Pool\n",
    "\n",
    "# Mint initial DAI supply to MagicBox account\n",
    "initial_dai_supply = 300000  # Total initial DAI supply for liquidity\n",
    "dai_token.mint(magic_box_account, initial_dai_supply)\n",
    "\n",
    "# Define liquidity amounts\n",
    "dark_liquidity_amount = 100000  # Dark tokens from MagicBox balance\n",
    "dai_liquidity_amount = 300000   # DAI tokens\n",
    "\n",
    "# Add liquidity to the pool from MagicBox\n",
    "pool.add_liquidity(magic_box_account, dark_liquidity_amount, dai_liquidity_amount)\n",
    "\n",
    "# Print pool status after adding liquidity\n",
    "print(f\"Liquidity Pool Initialized:\")\n",
    "print(pool)\n",
    "print(pool.get_price())\n"
   ]
  },
  {
   "cell_type": "markdown",
   "metadata": {},
   "source": [
    "## Utility Functions"
   ]
  },
  {
   "cell_type": "code",
   "execution_count": 10,
   "metadata": {},
   "outputs": [],
   "source": [
    "# Utility functions\n",
    "\n",
    "# Helper function to simulate trades\n",
    "def simulate_trades(account, pool, total_trades, buy_pressure, sell_pressure, nft_purchase_share_from_public_buy, journey_phase_manager, dai_token):\n",
    "    for _ in range(total_trades):\n",
    "        trade_type = np.random.choice([\"buy\", \"sell\"], p=[buy_pressure, sell_pressure])\n",
    "        if trade_type == \"buy\":\n",
    "            dai_amount = np.random.randint(100, 1000)  # Random DAI amount to buy Dark tokens\n",
    "            if dai_token.balance_of(account) < dai_amount:\n",
    "                dai_token.mint(account, dai_amount)  # Mint DAI tokens if account has insufficient balance\n",
    "            if pool.dai_reserve >= dai_amount:\n",
    "                pool.buy(account, dai_amount)\n",
    "                dark_tokens_purchased = dai_amount / pool.get_price()\n",
    "                nft_purchase_amount = int(dark_tokens_purchased * nft_purchase_share_from_public_buy)\n",
    "                if journey_phase_manager.get_current_phase() == 1 and dark_tokens_purchased >= nft_purchase_amount:\n",
    "                    lcc.mint_nft(account, nft_purchase_amount)\n",
    "        else:\n",
    "            dark_amount = np.random.randint(100, 1000)  # Random Dark amount to sell for DAI\n",
    "            if dark_token.balance_of(account) >= dark_amount and pool.dark_reserve >= dark_amount:\n",
    "                pool.sell(account, dark_amount)\n"
   ]
  },
  {
   "cell_type": "markdown",
   "metadata": {},
   "source": [
    "## Variables"
   ]
  },
  {
   "cell_type": "code",
   "execution_count": 11,
   "metadata": {},
   "outputs": [
    {
     "name": "stdout",
     "output_type": "stream",
     "text": [
      "Initial Dark reserve: 100000\n",
      "Initial DAI reserve: 300000\n",
      "Initial Dark token price: 3.0\n"
     ]
    }
   ],
   "source": [
    "# Variables for controlling buy/sell pressures and trades\n",
    "\n",
    "buy_pressure = 0.6  # 60% of the trades will be buys\n",
    "sell_pressure = 0.4  # 40% of the trades will be sells\n",
    "total_trades = 10000  # Total number of trades in the journey\n",
    "nft_purchase_share_from_public_buy = 0.3  # 30% of the Dark tokens from buys will be used for minting NFTs\n",
    "public_nft_mint_percentage = 0.10  # 10% of the public Dark token balance will be used to mint NFTs\n",
    "\n",
    "# Initial pool status\n",
    "initial_dark_reserve = pool.dark_reserve\n",
    "initial_dai_reserve = pool.dai_reserve\n",
    "initial_price = pool.get_price()\n",
    "\n",
    "print(f\"Initial Dark reserve: {initial_dark_reserve}\")\n",
    "print(f\"Initial DAI reserve: {initial_dai_reserve}\")\n",
    "print(f\"Initial Dark token price: {initial_price}\")\n"
   ]
  },
  {
   "cell_type": "markdown",
   "metadata": {},
   "source": [
    "## Run through the journeys"
   ]
  },
  {
   "cell_type": "code",
   "execution_count": 12,
   "metadata": {},
   "outputs": [
    {
     "name": "stdout",
     "output_type": "stream",
     "text": [
      "Lottery conducted and payouts distributed.\n",
      "Total lottery payouts: 15407.330367000002\n",
      "Total lottery winnings for public: 1997.4703783610328\n",
      "Total volume in Pool at end of Phase 1: 2112386.2639784855\n",
      "Total volume in Pool at end of Phase 2: 5521513.616443323\n",
      "Total volume in Pool at end of Phase 3: 6724153.197771029\n",
      "Total yield given by the treasury in Journey 1: 7789.553309999996\n",
      "Total yield per NFT: 0.04388999999999998\n",
      "Final Dark reserve: 91002.37016187528\n",
      "Final DAI reserve: 319520.80222896655\n",
      "Final Dark token price: 3.5111261570506573\n",
      "Journey 1 Summary:\n",
      "Public Account: 110441 FuelCells NFTs\n",
      "Evil Address Account: 67038 FuelCells NFTs\n",
      "Treasury Balance: 136658.8299999999 Dark tokens\n",
      "Jackpot Balance: 20088.469633000055 Dark tokens\n",
      "Pool: Pool: Dark reserve = 91002.37016187528, DAI reserve = 319520.80222896655, Fee = 0.003, Total volume = 6724153.197771029\n",
      "Total trades: 10000\n",
      "Buy pressure: 60.0%\n",
      "Sell pressure: 40.0%\n",
      "Total lottery winnings per winner: 0.19974703783610329\n",
      "Total volume in Pool: 6724153.197771029\n"
     ]
    }
   ],
   "source": [
    "# Journey 1 Simulation\n",
    "\n",
    "# Simulate the minting phase\n",
    "public_initial_balance = dark_token.balance_of(public_account)\n",
    "public_nft_mint_amount = int(public_initial_balance * public_nft_mint_percentage)  # 10% of the public Dark token balance\n",
    "\n",
    "evil_address_nft_mint_amount = int(evil_address_account.starting_balance * evil_address_account.b * (evil_address_account.r ** (journey_phase_manager.get_current_journey() - 1)) / 100)\n",
    "\n",
    "# Public mints NFTs\n",
    "lcc.mint_nft(public_account, public_nft_mint_amount)\n",
    "\n",
    "# Evil address mints NFTs\n",
    "evil_address_account.mint_fuel_cells()\n",
    "\n",
    "# Update phase to lottery phase\n",
    "journey_phase_manager.increment_phase()\n",
    "\n",
    "# Capture the jackpot balance before the lottery\n",
    "initial_jackpot_balance = dark_token.balance_of(jackpot.account)\n",
    "\n",
    "# Conduct the lottery\n",
    "lottery_result = jackpot.conduct_lottery()\n",
    "print(lottery_result)\n",
    "\n",
    "# Total lottery payouts\n",
    "total_lottery_payouts = sum(jackpot.calculate_payouts(journey_phase_manager.get_current_journey(), initial_jackpot_balance))\n",
    "print(f\"Total lottery payouts: {total_lottery_payouts}\")\n",
    "\n",
    "# Public sells all their lottery winnings\n",
    "lottery_winnings = jackpot.get_lottery_winnings(journey_phase_manager.get_current_journey(), public_account)\n",
    "if lottery_winnings > 0:\n",
    "    pool.sell(public_account, lottery_winnings)\n",
    "\n",
    "print(f\"Total lottery winnings for public: {lottery_winnings}\")\n",
    "\n",
    "# Simulate trades in Phase 1\n",
    "phase_1_trades = int(total_trades * 0.3)  # 30% of the trades in Phase 1\n",
    "simulate_trades(public_account, pool, phase_1_trades, buy_pressure, sell_pressure, nft_purchase_share_from_public_buy, journey_phase_manager, dai_token)\n",
    "print(f\"Total volume in Pool at end of Phase 1: {pool.total_volume}\")\n",
    "\n",
    "# Update phase to yield distribution\n",
    "journey_phase_manager.increment_phase()\n",
    "\n",
    "# Simulate trades in Phase 2\n",
    "phase_2_trades = int(total_trades * 0.5)  # 50% of the trades in Phase 2\n",
    "simulate_trades(public_account, pool, phase_2_trades, buy_pressure, sell_pressure, nft_purchase_share_from_public_buy, journey_phase_manager, dai_token)\n",
    "print(f\"Total volume in Pool at end of Phase 2: {pool.total_volume}\")\n",
    "\n",
    "# Update phase to next journey\n",
    "journey_phase_manager.increment_phase()\n",
    "\n",
    "# Simulate trades in Phase 3\n",
    "phase_3_trades = total_trades - (phase_1_trades + phase_2_trades)  # Remaining trades in Phase 3\n",
    "simulate_trades(public_account, pool, phase_3_trades, buy_pressure, sell_pressure, nft_purchase_share_from_public_buy, journey_phase_manager, dai_token)\n",
    "print(f\"Total volume in Pool at end of Phase 3: {pool.total_volume}\")\n",
    "\n",
    "# Distribute yield to NFT holders\n",
    "treasury.distribute_yield(journey_phase_manager)\n",
    "\n",
    "# Calculate the total yield given by the treasury\n",
    "total_yield_given = treasury.total_yield_distributed\n",
    "print(f\"Total yield given by the treasury in Journey 1: {total_yield_given}\")\n",
    "\n",
    "# Calculate the yield per NFT for public and evil address\n",
    "public_nft_count = fuel_cells_token.balance_of(public_account)\n",
    "evil_nft_count = fuel_cells_token.balance_of(evil_address_account)\n",
    "total_nft_count = public_nft_count + evil_nft_count\n",
    "\n",
    "yield_per_nft = total_yield_given / total_nft_count if total_nft_count else 0\n",
    "print(f\"Total yield per NFT: {yield_per_nft}\")\n",
    "\n",
    "# Final pool status\n",
    "final_dark_reserve = pool.dark_reserve\n",
    "final_dai_reserve = pool.dai_reserve\n",
    "final_price = pool.get_price()\n",
    "\n",
    "print(f\"Final Dark reserve: {final_dark_reserve}\")\n",
    "print(f\"Final DAI reserve: {final_dai_reserve}\")\n",
    "print(f\"Final Dark token price: {final_price}\")\n",
    "\n",
    "# Print summary of Journey 1\n",
    "print(\"Journey 1 Summary:\")\n",
    "print(f\"Public Account: {fuel_cells_token.balance_of(public_account)} FuelCells NFTs\")\n",
    "print(f\"Evil Address Account: {fuel_cells_token.balance_of(evil_address_account)} FuelCells NFTs\")\n",
    "print(f\"Treasury Balance: {dark_token.balance_of(treasury_account)} Dark tokens\")\n",
    "print(f\"Jackpot Balance: {dark_token.balance_of(jackpot_account)} Dark tokens\")\n",
    "print(f\"Pool: {pool}\")\n",
    "print(f\"Total trades: {total_trades}\")\n",
    "print(f\"Buy pressure: {buy_pressure * 100}%\")\n",
    "print(f\"Sell pressure: {sell_pressure * 100}%\")\n",
    "print(f\"Total lottery winnings per winner: {lottery_winnings / total_trades if total_trades else 0}\")\n",
    "print(f\"Total volume in Pool: {pool.total_volume}\")\n",
    "\n",
    "# Move to next journey\n",
    "journey_phase_manager.increment_phase()\n"
   ]
  }
 ],
 "metadata": {
  "kernelspec": {
   "display_name": "venv",
   "language": "python",
   "name": "python3"
  },
  "language_info": {
   "codemirror_mode": {
    "name": "ipython",
    "version": 3
   },
   "file_extension": ".py",
   "mimetype": "text/x-python",
   "name": "python",
   "nbconvert_exporter": "python",
   "pygments_lexer": "ipython3",
   "version": "3.11.6"
  }
 },
 "nbformat": 4,
 "nbformat_minor": 2
}
