{
 "cells": [
  {
   "cell_type": "markdown",
   "metadata": {},
   "source": [
    "## Import packages and modules"
   ]
  },
  {
   "cell_type": "code",
   "execution_count": 4,
   "metadata": {},
   "outputs": [],
   "source": [
    "# Import necessary packages and modules\n",
    "\n",
    "# General packages\n",
    "import numpy as np\n",
    "import random\n",
    "import sys\n",
    "import os\n",
    "project_root = os.path.abspath(os.path.join(os.getcwd(), '..'))\n",
    "if project_root not in sys.path:\n",
    "    sys.path.append(project_root)\n",
    "import numpy as np\n",
    "import plotly.graph_objects as go\n",
    "import plotly.io as pio\n",
    "from plotly.subplots import make_subplots\n",
    "from constants.constants import exports_dir\n",
    "\n",
    "# Import custom modules\n",
    "from modules.Account import Account\n",
    "from modules.Dark import DarkToken\n",
    "from modules.FuelCells import FuelCellsToken\n",
    "from modules.JourneyPhaseManager import JourneyPhaseManager\n",
    "from modules.Treasury import Treasury\n",
    "from modules.LaunchControlCenter import LaunchControlCenter\n",
    "from modules.EvilAddress import EvilAddress\n",
    "from modules.Jackpot import Jackpot\n",
    "from modules.Pool import Pool\n",
    "from modules.Team import Team\n",
    "from modules.DAIStableCoin import DAIStableCoin\n",
    "\n",
    "# Set up initial configurations for the simulation\n",
    "np.random.seed(42)\n",
    "random.seed(42)\n"
   ]
  },
  {
   "cell_type": "markdown",
   "metadata": {},
   "source": [
    "## Initialize accounts"
   ]
  },
  {
   "cell_type": "code",
   "execution_count": 7,
   "metadata": {},
   "outputs": [
    {
     "name": "stdout",
     "output_type": "stream",
     "text": [
      "Initial Balances:\n",
      "Public Account: 1000000 Dark tokens\n",
      "MagicBox Account: 2500000 Dark tokens\n",
      "Evil Address Account: 6500000 Dark tokens\n",
      "Team Account: 0 Dark tokens\n"
     ]
    }
   ],
   "source": [
    "# Initialize Accounts\n",
    "\n",
    "# Public account\n",
    "public_account = Account()\n",
    "\n",
    "# MagicBox account managed by the team\n",
    "magic_box_account = Account()\n",
    "\n",
    "# Team account to collect share of Dark tokens used to mint NFTs\n",
    "team_account = Team()\n",
    "\n",
    "# Initialize Dark token\n",
    "dark_token = DarkToken()\n",
    "\n",
    "# Mint initial Dark token supply to Public, MagicBox, and Evil address\n",
    "initial_dark_supply = 1000000  # Total initial supply = 1 million\n",
    "public_initial_balance = int(initial_dark_supply * 0.10)\n",
    "magic_box_initial_balance = int(initial_dark_supply * 0.25)\n",
    "evil_address_initial_balance = int(initial_dark_supply * 0.65)\n",
    "\n",
    "dark_token.mint(public_account, public_initial_balance)\n",
    "dark_token.mint(magic_box_account, magic_box_initial_balance)\n",
    "\n",
    "# Initialize FuelCells token\n",
    "fuel_cells_token = FuelCellsToken()\n",
    "\n",
    "# Initialize JourneyPhaseManager\n",
    "journey_phase_manager = JourneyPhaseManager()\n",
    "\n",
    "# Initialize Treasury\n",
    "treasury_account = Account()\n",
    "treasury = Treasury(treasury_account, dark_token)\n",
    "\n",
    "# Initialize LaunchControlCenter\n",
    "lcc = LaunchControlCenter(dark_token, fuel_cells_token, treasury_account, magic_box_account, team_account, journey_phase_manager)\n",
    "\n",
    "# Initialize EvilAddress\n",
    "evil_address_account = EvilAddress(dark_token, fuel_cells_token, lcc, journey_phase_manager, evil_address_initial_balance)\n",
    "dark_token.mint(evil_address_account, evil_address_initial_balance)\n",
    "\n",
    "# Initialize Jackpot\n",
    "jackpot_account = Account()\n",
    "jackpot = Jackpot(jackpot_account, dark_token, journey_phase_manager, fuel_cells_token)\n",
    "\n",
    "# Initialize Pool\n",
    "dai_token = DAIStableCoin()\n",
    "pool = Pool(dark_token, dai_token)\n",
    "\n",
    "# Initialize accounts and variables summary\n",
    "print(\"Initial Balances:\")\n",
    "print(f\"Public Account: {dark_token.balance_of(public_account)} Dark tokens\")\n",
    "print(f\"MagicBox Account: {dark_token.balance_of(magic_box_account)} Dark tokens\")\n",
    "print(f\"Evil Address Account: {dark_token.balance_of(evil_address_account)} Dark tokens\")\n",
    "print(f\"Team Account: {dark_token.balance_of(team_account)} Dark tokens\")\n"
   ]
  }
 ],
 "metadata": {
  "kernelspec": {
   "display_name": "venv",
   "language": "python",
   "name": "python3"
  },
  "language_info": {
   "codemirror_mode": {
    "name": "ipython",
    "version": 3
   },
   "file_extension": ".py",
   "mimetype": "text/x-python",
   "name": "python",
   "nbconvert_exporter": "python",
   "pygments_lexer": "ipython3",
   "version": "3.11.6"
  }
 },
 "nbformat": 4,
 "nbformat_minor": 2
}
