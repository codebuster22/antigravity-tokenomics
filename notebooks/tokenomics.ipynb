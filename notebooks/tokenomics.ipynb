{
 "cells": [
  {
   "cell_type": "markdown",
   "metadata": {},
   "source": [
    "## Import packages and modules"
   ]
  },
  {
   "cell_type": "code",
   "execution_count": 56,
   "metadata": {},
   "outputs": [],
   "source": [
    "# Import necessary packages and modules\n",
    "\n",
    "# General packages\n",
    "import numpy as np\n",
    "import random\n",
    "import sys\n",
    "import os\n",
    "project_root = os.path.abspath(os.path.join(os.getcwd(), '..'))\n",
    "if project_root not in sys.path:\n",
    "    sys.path.append(project_root)\n",
    "import plotly.graph_objects as go\n",
    "import pandas as pd\n",
    "from plotly.subplots import make_subplots\n",
    "from constants.constants import exports_dir\n",
    "\n",
    "# Import custom modules\n",
    "from modules.Account import Account\n",
    "from modules.Dark import DarkToken\n",
    "from modules.FuelCells import FuelCellsToken\n",
    "from modules.JourneyPhaseManager import JourneyPhaseManager\n",
    "from modules.Treasury import Treasury\n",
    "from modules.LaunchControlCenter import LaunchControlCenter\n",
    "from modules.EvilAddress import EvilAddress\n",
    "from modules.Jackpot import Jackpot\n",
    "from modules.Pool import Pool\n",
    "from modules.Team import Team\n",
    "from modules.DAIStableCoin import DAIStableCoin\n",
    "\n",
    "# Set up initial configurations for the simulation\n",
    "np.random.seed(42)\n",
    "random.seed(42)\n"
   ]
  },
  {
   "cell_type": "markdown",
   "metadata": {},
   "source": [
    "## Initialize accounts"
   ]
  },
  {
   "cell_type": "code",
   "execution_count": 57,
   "metadata": {},
   "outputs": [
    {
     "name": "stdout",
     "output_type": "stream",
     "text": [
      "Initial Balances:\n",
      "Public Account: 100000 Dark tokens\n",
      "MagicBox Account: 250000 Dark tokens\n",
      "Evil Address Account: 650000 Dark tokens\n",
      "Team Account: 0 Dark tokens\n"
     ]
    }
   ],
   "source": [
    "# Import necessary packages and modules\n",
    "\n",
    "# Initialize Accounts\n",
    "\n",
    "# Public account\n",
    "public_account = Account()\n",
    "\n",
    "# MagicBox account managed by the team\n",
    "magic_box_account = Account()\n",
    "\n",
    "# Team account to collect share of Dark tokens used to mint NFTs\n",
    "team_account = Team()\n",
    "\n",
    "# Initialize Dark token\n",
    "dark_token = DarkToken()\n",
    "\n",
    "# Mint initial Dark token supply to Public, MagicBox, and Evil address\n",
    "initial_dark_supply = 1000000  # Total initial supply\n",
    "public_initial_balance = int(initial_dark_supply * 0.10)\n",
    "magic_box_initial_balance = int(initial_dark_supply * 0.25)\n",
    "evil_address_initial_balance = int(initial_dark_supply * 0.65)\n",
    "\n",
    "dark_token.mint(public_account, public_initial_balance)\n",
    "dark_token.mint(magic_box_account, magic_box_initial_balance)\n",
    "\n",
    "# Initialize FuelCells token\n",
    "fuel_cells_token = FuelCellsToken()\n",
    "\n",
    "# Initialize JourneyPhaseManager\n",
    "journey_phase_manager = JourneyPhaseManager()\n",
    "\n",
    "# Initialize Treasury\n",
    "treasury_account = Account()\n",
    "treasury = Treasury(treasury_account, dark_token)\n",
    "\n",
    "# Initialize Jackpot\n",
    "jackpot_account = Account()\n",
    "jackpot = Jackpot(jackpot_account, dark_token, journey_phase_manager, fuel_cells_token)\n",
    "\n",
    "# Initialize LaunchControlCenter\n",
    "lcc = LaunchControlCenter(dark_token, fuel_cells_token, treasury_account, jackpot_account, team_account, journey_phase_manager)\n",
    "\n",
    "# Initialize EvilAddress\n",
    "evil_address_account = EvilAddress(dark_token, fuel_cells_token, lcc, journey_phase_manager, evil_address_initial_balance)\n",
    "dark_token.mint(evil_address_account, evil_address_initial_balance)\n",
    "\n",
    "# Initialize Pool\n",
    "dai_token = DAIStableCoin()\n",
    "pool = Pool(dark_token, dai_token)\n",
    "\n",
    "# Initialize accounts and variables summary\n",
    "print(\"Initial Balances:\")\n",
    "print(f\"Public Account: {dark_token.balance_of(public_account)} Dark tokens\")\n",
    "print(f\"MagicBox Account: {dark_token.balance_of(magic_box_account)} Dark tokens\")\n",
    "print(f\"Evil Address Account: {dark_token.balance_of(evil_address_account)} Dark tokens\")\n",
    "print(f\"Team Account: {dark_token.balance_of(team_account)} Dark tokens\")\n"
   ]
  },
  {
   "cell_type": "markdown",
   "metadata": {},
   "source": [
    "## Data Storage and Helper Functions"
   ]
  },
  {
   "cell_type": "code",
   "execution_count": 58,
   "metadata": {},
   "outputs": [],
   "source": [
    "# Initialize data storage\n",
    "prices = []\n",
    "volumes = []\n",
    "nfts_minted = []\n",
    "evil_address_balances = []\n",
    "yields_per_journey = []\n",
    "cumulative_yield_per_journey_1 = []\n",
    "yields_per_journey_accumulated = []\n",
    "yield_per_nft_per_journey = []\n",
    "pool_dark_reserves = []\n",
    "pool_dai_reserves = []\n",
    "token_distribution = []\n",
    "\n",
    "# Helper function to accumulate data\n",
    "def accumulate_data(journey, phase, pool, fuel_cells_token, evil_address_account, treasury, jackpot_account, treasury_account):\n",
    "    prices.append({\n",
    "        'journey': journey,\n",
    "        'phase': phase,\n",
    "        'price': pool.get_price()\n",
    "    })\n",
    "    volumes.append({\n",
    "        'journey': journey,\n",
    "        'phase': phase,\n",
    "        'volume': pool.total_volume\n",
    "    })\n",
    "    evil_address_balances.append({\n",
    "        'journey': journey,\n",
    "        'phase': phase,\n",
    "        'balance': dark_token.balance_of(evil_address_account)\n",
    "    })\n",
    "    pool_dark_reserves.append({\n",
    "        'journey': journey,\n",
    "        'phase': phase,\n",
    "        'dark_reserve': pool.dark_reserve\n",
    "    })\n",
    "    pool_dai_reserves.append({\n",
    "        'journey': journey,\n",
    "        'phase': phase,\n",
    "        'dai_reserve': pool.dai_reserve\n",
    "    })\n",
    "    token_distribution.append({\n",
    "        'journey': journey,\n",
    "        'phase': phase,\n",
    "        'public_balance': dark_token.balance_of(public_account),\n",
    "        'magic_box_balance': dark_token.balance_of(magic_box_account),\n",
    "        'evil_address_balance': dark_token.balance_of(evil_address_account),\n",
    "        'team_balance': dark_token.balance_of(team_account),\n",
    "        'treasury_balance': dark_token.balance_of(treasury_account),\n",
    "        'jackpot_balance': dark_token.balance_of(jackpot_account),\n",
    "        'pool_balance': pool.dark_reserve\n",
    "    })\n",
    "    if phase == 3 and journey > 0:\n",
    "        yield_for_journey = treasury.get_total_yield_for_journey(journey)\n",
    "        yields_per_journey.append({\n",
    "            'journey': journey,\n",
    "            'total_yield': yield_for_journey\n",
    "        })\n",
    "\n",
    "        nfts_minted.append({\n",
    "            'journey': journey,\n",
    "            'nfts_minted': fuel_cells_token.balance_of(public_account) + fuel_cells_token.balance_of(evil_address_account)\n",
    "        })\n",
    "\n",
    "        # Accumulate yield for NFTs minted in journey 1\n",
    "        cumulative_yield_per_journey_1.append({\n",
    "            'journey': journey,\n",
    "            'total_yield': (treasury.get_total_yield_for_journey(1) / journey_phase_manager.get_nft_count(1))\n",
    "        })\n",
    "\n",
    "        yield_per_nft_per_journey.append({\n",
    "            'journey': journey,\n",
    "            'total_yield': treasury.get_total_yield_for_journey(1)\n",
    "        })\n",
    "        # Accumulate yield for NFTs minted in previous journeys\n",
    "        total_yield_accumulated = treasury.total_yield_distributed\n",
    "        yields_per_journey_accumulated.append({\n",
    "            'journey': journey,\n",
    "            'total_yield': total_yield_accumulated\n",
    "        })\n"
   ]
  },
  {
   "cell_type": "markdown",
   "metadata": {},
   "source": [
    "# Initialize Liquidity Pool"
   ]
  },
  {
   "cell_type": "code",
   "execution_count": 59,
   "metadata": {},
   "outputs": [
    {
     "name": "stdout",
     "output_type": "stream",
     "text": [
      "Liquidity Pool Initialized:\n",
      "Pool: Dark reserve = 100000, DAI reserve = 300000, Fee = 0.003, Total volume = 0\n",
      "3.0\n"
     ]
    }
   ],
   "source": [
    "# Initialize Liquidity Pool\n",
    "\n",
    "# Mint initial DAI supply to MagicBox account\n",
    "initial_dai_supply = 300000  # Total initial DAI supply for liquidity\n",
    "dai_token.mint(magic_box_account, initial_dai_supply)\n",
    "\n",
    "# Define liquidity amounts\n",
    "dark_liquidity_amount = 100000  # Dark tokens from MagicBox balance\n",
    "dai_liquidity_amount = 300000   # DAI tokens\n",
    "\n",
    "# Add liquidity to the pool from MagicBox\n",
    "pool.add_liquidity(magic_box_account, dark_liquidity_amount, dai_liquidity_amount)\n",
    "\n",
    "# Print pool status after adding liquidity\n",
    "print(f\"Liquidity Pool Initialized:\")\n",
    "print(pool)\n",
    "print(pool.get_price())\n"
   ]
  },
  {
   "cell_type": "markdown",
   "metadata": {},
   "source": [
    "## Utility Functions"
   ]
  },
  {
   "cell_type": "code",
   "execution_count": 60,
   "metadata": {},
   "outputs": [],
   "source": [
    "# Utility functions\n",
    "\n",
    "# Helper function to simulate trades\n",
    "def simulate_trades(account, pool, total_trades, buy_pressure, sell_pressure, nft_purchase_share_from_public_buy, journey_phase_manager, dai_token):\n",
    "    for _ in range(total_trades):\n",
    "        trade_type = np.random.choice([\"buy\", \"sell\"], p=[buy_pressure, sell_pressure])\n",
    "        if trade_type == \"buy\":\n",
    "            dai_amount = np.random.randint(10, 1000)  # Random DAI amount to buy Dark tokens\n",
    "            if dai_token.balance_of(account) < dai_amount:\n",
    "                dai_token.mint(account, dai_amount)  # Mint DAI tokens if account has insufficient balance\n",
    "            if pool.dai_reserve >= dai_amount:\n",
    "                pool.buy(account, dai_amount)\n",
    "                dark_tokens_purchased = dai_amount / pool.get_price()\n",
    "                nft_purchase_amount = int(dark_tokens_purchased * nft_purchase_share_from_public_buy)\n",
    "                if journey_phase_manager.get_current_phase() == 1 and dark_tokens_purchased >= nft_purchase_amount:\n",
    "                    lcc.mint_nft(account, nft_purchase_amount)\n",
    "        else:\n",
    "            dark_amount = np.random.randint(10, 1000)  # Random Dark amount to sell for DAI\n",
    "            if dark_token.balance_of(account) >= dark_amount and pool.dark_reserve >= dark_amount:\n",
    "                pool.sell(account, dark_amount)\n"
   ]
  },
  {
   "cell_type": "markdown",
   "metadata": {},
   "source": [
    "## Variables"
   ]
  },
  {
   "cell_type": "code",
   "execution_count": 61,
   "metadata": {},
   "outputs": [
    {
     "name": "stdout",
     "output_type": "stream",
     "text": [
      "Initial Dark reserve: 100000\n",
      "Initial DAI reserve: 300000\n",
      "Initial Dark token price: 3.0\n"
     ]
    }
   ],
   "source": [
    "# Variables for controlling buy/sell pressures and trades\n",
    "\n",
    "buy_pressure = 0.6  # 60% of the trades will be buys\n",
    "sell_pressure = 0.4  # 40% of the trades will be sells\n",
    "total_trades = 10000  # Total number of trades in the journey\n",
    "nft_purchase_share_from_public_buy = 0.3  # 30% of the Dark tokens from buys will be used for minting NFTs\n",
    "public_nft_mint_percentage = 0.10  # 10% of the public Dark token balance will be used to mint NFTs\n",
    "\n",
    "# Initial pool status\n",
    "initial_dark_reserve = pool.dark_reserve\n",
    "initial_dai_reserve = pool.dai_reserve\n",
    "initial_price = pool.get_price()\n",
    "\n",
    "print(f\"Initial Dark reserve: {initial_dark_reserve}\")\n",
    "print(f\"Initial DAI reserve: {initial_dai_reserve}\")\n",
    "print(f\"Initial Dark token price: {initial_price}\")\n"
   ]
  },
  {
   "cell_type": "markdown",
   "metadata": {},
   "source": [
    "## Run through the journeys"
   ]
  },
  {
   "cell_type": "code",
   "execution_count": 62,
   "metadata": {},
   "outputs": [],
   "source": [
    "# # Journey 1 Simulation\n",
    "\n",
    "# # Simulate the minting phase\n",
    "# public_initial_balance = dark_token.balance_of(public_account)\n",
    "# public_nft_mint_amount = int(public_initial_balance * public_nft_mint_percentage)  # 10% of the public Dark token balance\n",
    "\n",
    "# evil_address_nft_mint_amount = int(evil_address_account.starting_balance * evil_address_account.b * (evil_address_account.r ** (journey_phase_manager.get_current_journey() - 1)) / 100)\n",
    "\n",
    "# # Public mints NFTs\n",
    "# lcc.mint_nft(public_account, public_nft_mint_amount)\n",
    "\n",
    "# # Evil address mints NFTs\n",
    "# evil_address_account.mint_fuel_cells()\n",
    "\n",
    "# # Update phase to lottery phase\n",
    "# journey_phase_manager.increment_phase()\n",
    "\n",
    "# # Capture the jackpot balance before the lottery\n",
    "# initial_jackpot_balance = dark_token.balance_of(jackpot.account)\n",
    "\n",
    "# # Conduct the lottery\n",
    "# lottery_result = jackpot.conduct_lottery()\n",
    "# print(lottery_result)\n",
    "\n",
    "# # Total lottery payouts\n",
    "# total_lottery_payouts = sum(jackpot.calculate_payouts(journey_phase_manager.get_current_journey(), initial_jackpot_balance))\n",
    "# print(f\"Total lottery payouts: {total_lottery_payouts}\")\n",
    "\n",
    "# # Public sells all their lottery winnings\n",
    "# lottery_winnings = jackpot.get_lottery_winnings(journey_phase_manager.get_current_journey(), public_account)\n",
    "# if lottery_winnings > 0:\n",
    "#     pool.sell(public_account, lottery_winnings)\n",
    "\n",
    "# print(f\"Total lottery winnings for public: {lottery_winnings}\")\n",
    "\n",
    "# # Simulate trades in Phase 1\n",
    "# phase_1_trades = int(total_trades * 0.3)  # 30% of the trades in Phase 1\n",
    "# simulate_trades(public_account, pool, phase_1_trades, buy_pressure, sell_pressure, nft_purchase_share_from_public_buy, journey_phase_manager, dai_token)\n",
    "# print(f\"Total volume in Pool at end of Phase 1: {pool.total_volume}\")\n",
    "\n",
    "# # Update phase to yield distribution\n",
    "# journey_phase_manager.increment_phase()\n",
    "\n",
    "# # Simulate trades in Phase 2\n",
    "# phase_2_trades = int(total_trades * 0.5)  # 50% of the trades in Phase 2\n",
    "# simulate_trades(public_account, pool, phase_2_trades, buy_pressure, sell_pressure, nft_purchase_share_from_public_buy, journey_phase_manager, dai_token)\n",
    "# print(f\"Total volume in Pool at end of Phase 2: {pool.total_volume}\")\n",
    "\n",
    "# # Update phase to next journey\n",
    "# journey_phase_manager.increment_phase()\n",
    "\n",
    "# # Simulate trades in Phase 3\n",
    "# phase_3_trades = total_trades - (phase_1_trades + phase_2_trades)  # Remaining trades in Phase 3\n",
    "# simulate_trades(public_account, pool, phase_3_trades, buy_pressure, sell_pressure, nft_purchase_share_from_public_buy, journey_phase_manager, dai_token)\n",
    "# print(f\"Total volume in Pool at end of Phase 3: {pool.total_volume}\")\n",
    "\n",
    "# # Distribute yield to NFT holders\n",
    "# treasury.distribute_yield(journey_phase_manager)\n",
    "\n",
    "# # Calculate the total yield given by the treasury\n",
    "# total_yield_given = treasury.total_yield_distributed\n",
    "# print(f\"Total yield given by the treasury in Journey 1: {total_yield_given}\")\n",
    "\n",
    "# # Calculate the yield per NFT for public and evil address\n",
    "# public_nft_count = fuel_cells_token.balance_of(public_account)\n",
    "# evil_nft_count = fuel_cells_token.balance_of(evil_address_account)\n",
    "# total_nft_count = public_nft_count + evil_nft_count\n",
    "\n",
    "# yield_per_nft = total_yield_given / total_nft_count if total_nft_count else 0\n",
    "# print(f\"Total yield per NFT: {yield_per_nft}\")\n",
    "\n",
    "# # Final pool status\n",
    "# final_dark_reserve = pool.dark_reserve\n",
    "# final_dai_reserve = pool.dai_reserve\n",
    "# final_price = pool.get_price()\n",
    "\n",
    "# print(f\"Final Dark reserve: {final_dark_reserve}\")\n",
    "# print(f\"Final DAI reserve: {final_dai_reserve}\")\n",
    "# print(f\"Final Dark token price: {final_price}\")\n",
    "\n",
    "# # Print summary of Journey 1\n",
    "# print(\"Journey 1 Summary:\")\n",
    "# print(f\"Public Account: {fuel_cells_token.balance_of(public_account)} FuelCells NFTs\")\n",
    "# print(f\"Evil Address Account: {fuel_cells_token.balance_of(evil_address_account)} FuelCells NFTs\")\n",
    "# print(f\"Treasury Balance: {dark_token.balance_of(treasury_account)} Dark tokens\")\n",
    "# print(f\"Jackpot Balance: {dark_token.balance_of(jackpot_account)} Dark tokens\")\n",
    "# print(f\"Pool: {pool}\")\n",
    "# print(f\"Total trades: {total_trades}\")\n",
    "# print(f\"Buy pressure: {buy_pressure * 100}%\")\n",
    "# print(f\"Sell pressure: {sell_pressure * 100}%\")\n",
    "# print(f\"Total lottery winnings per winner: {lottery_winnings / total_trades if total_trades else 0}\")\n",
    "# print(f\"Total volume in Pool: {pool.total_volume}\")\n",
    "\n",
    "# # Move to next journey\n",
    "# journey_phase_manager.increment_phase()\n"
   ]
  },
  {
   "cell_type": "markdown",
   "metadata": {},
   "source": [
    "## Simualte for 33 journeys"
   ]
  },
  {
   "cell_type": "code",
   "execution_count": 63,
   "metadata": {},
   "outputs": [
    {
     "name": "stdout",
     "output_type": "stream",
     "text": [
      "Simulating Journey 1\n",
      "Total volume in Pool at end of Phase 1: 1737310.1665641838\n",
      "Lottery conducted and payouts distributed.\n",
      "Total lottery payouts: 38108.533088999975\n",
      "Total lottery winnings for public: 24854.503797537003\n",
      "Total volume in Pool at end of Phase 2: 4860298.021938917\n",
      "Total volume in Pool at end of Phase 3: 6058847.312352384\n",
      "Simulating Journey 2\n",
      "Total volume in Pool at end of Phase 1: 7596559.89412905\n",
      "Lottery conducted and payouts distributed.\n",
      "Total lottery payouts: 22258.877373833726\n",
      "Total lottery winnings for public: 10351.065952320563\n",
      "Total volume in Pool at end of Phase 2: 10769958.941756224\n",
      "Total volume in Pool at end of Phase 3: 11956912.08000568\n",
      "Simulating Journey 3\n",
      "Total volume in Pool at end of Phase 1: 13565142.783214249\n",
      "Lottery conducted and payouts distributed.\n",
      "Total lottery payouts: 15679.31514435483\n",
      "Total lottery winnings for public: 4845.973141332152\n",
      "Total volume in Pool at end of Phase 2: 16687679.363059968\n",
      "Total volume in Pool at end of Phase 3: 17928080.219638176\n",
      "Simulating Journey 4\n",
      "Total volume in Pool at end of Phase 1: 19526480.826353375\n",
      "Lottery conducted and payouts distributed.\n",
      "Total lottery payouts: 12316.058858014778\n",
      "Total lottery winnings for public: 2405.047343360644\n",
      "Total volume in Pool at end of Phase 2: 22599030.302539017\n",
      "Total volume in Pool at end of Phase 3: 23791160.60879799\n",
      "Simulating Journey 5\n",
      "Total volume in Pool at end of Phase 1: 25357966.688739188\n",
      "Lottery conducted and payouts distributed.\n",
      "Total lottery payouts: 10292.635410530042\n",
      "Total lottery winnings for public: 1230.5233186278986\n",
      "Total volume in Pool at end of Phase 2: 28376432.297958635\n",
      "Total volume in Pool at end of Phase 3: 29592786.56335686\n",
      "Simulating Journey 6\n",
      "Total volume in Pool at end of Phase 1: 31260388.878947306\n",
      "Lottery conducted and payouts distributed.\n",
      "Total lottery payouts: 8921.6239931196\n",
      "Total lottery winnings for public: 1057.8660714502987\n",
      "Total volume in Pool at end of Phase 2: 34362587.1064578\n",
      "Total volume in Pool at end of Phase 3: 35552489.40062611\n",
      "Simulating Journey 7\n",
      "Total volume in Pool at end of Phase 1: 37144100.243249\n",
      "Lottery conducted and payouts distributed.\n",
      "Total lottery payouts: 7792.819754419721\n",
      "Total lottery winnings for public: 478.4568769215482\n",
      "Total volume in Pool at end of Phase 2: 40264826.96466053\n",
      "Total volume in Pool at end of Phase 3: 41486714.18482712\n",
      "Simulating Journey 8\n",
      "Total volume in Pool at end of Phase 1: 43142203.338442855\n",
      "Lottery conducted and payouts distributed.\n",
      "Total lottery payouts: 6906.615508845451\n",
      "Total lottery winnings for public: 450.4160867717014\n",
      "Total volume in Pool at end of Phase 2: 46154715.10760995\n",
      "Total volume in Pool at end of Phase 3: 47395869.73069293\n",
      "Simulating Journey 9\n",
      "Total volume in Pool at end of Phase 1: 49009125.92043012\n",
      "Lottery conducted and payouts distributed.\n",
      "Total lottery payouts: 6127.4136362712015\n",
      "Total lottery winnings for public: 357.73488080198723\n",
      "Total volume in Pool at end of Phase 2: 52066396.720868155\n",
      "Total volume in Pool at end of Phase 3: 53241079.253111854\n",
      "Simulating Journey 10\n",
      "Total volume in Pool at end of Phase 1: 54858997.386144675\n",
      "Lottery conducted and payouts distributed.\n",
      "Total lottery payouts: 5476.411392738312\n",
      "Total lottery winnings for public: 298.64249638250794\n",
      "Total volume in Pool at end of Phase 2: 57912087.068065815\n",
      "Total volume in Pool at end of Phase 3: 59134003.71151658\n",
      "Simulating Journey 11\n",
      "Total volume in Pool at end of Phase 1: 60818782.34014405\n",
      "Lottery conducted and payouts distributed.\n",
      "Total lottery payouts: 4903.010034699188\n",
      "Total lottery winnings for public: 197.80023015488374\n",
      "Total volume in Pool at end of Phase 2: 63857387.82156931\n",
      "Total volume in Pool at end of Phase 3: 65031699.28283695\n",
      "Simulating Journey 12\n",
      "Total volume in Pool at end of Phase 1: 66669857.61978725\n",
      "Lottery conducted and payouts distributed.\n",
      "Total lottery payouts: 4378.209184175459\n",
      "Total lottery winnings for public: 52.29962812488644\n",
      "Total volume in Pool at end of Phase 2: 69654442.86316994\n",
      "Total volume in Pool at end of Phase 3: 70855067.49245831\n",
      "Simulating Journey 13\n",
      "Total volume in Pool at end of Phase 1: 72520421.03795016\n",
      "Lottery conducted and payouts distributed.\n",
      "Total lottery payouts: 3932.007808660581\n",
      "Total lottery winnings for public: 125.50546599351507\n",
      "Total volume in Pool at end of Phase 2: 75625728.5250341\n",
      "Total volume in Pool at end of Phase 3: 76863517.72774214\n",
      "Simulating Journey 14\n",
      "Total volume in Pool at end of Phase 1: 78564922.65167867\n",
      "Lottery conducted and payouts distributed.\n",
      "Total lottery payouts: 3537.606902136531\n",
      "Total lottery winnings for public: 121.38616058717393\n",
      "Total volume in Pool at end of Phase 2: 81690688.08494271\n",
      "Total volume in Pool at end of Phase 3: 82858565.88394544\n",
      "Simulating Journey 15\n",
      "Total volume in Pool at end of Phase 1: 84535287.40568256\n",
      "Lottery conducted and payouts distributed.\n",
      "Total lottery payouts: 3172.606387620721\n",
      "Total lottery winnings for public: 84.9121795714221\n",
      "Total volume in Pool at end of Phase 2: 87528559.05653128\n",
      "Total volume in Pool at end of Phase 3: 88710775.93293215\n",
      "Simulating Journey 16\n",
      "Total volume in Pool at end of Phase 1: 90476866.30415133\n",
      "Lottery conducted and payouts distributed.\n",
      "Total lottery payouts: 2846.40570861172\n",
      "Total lottery winnings for public: 142.25562378341175\n",
      "Total volume in Pool at end of Phase 2: 93435024.8637425\n",
      "Total volume in Pool at end of Phase 3: 94638692.81434934\n",
      "Simulating Journey 17\n",
      "Total volume in Pool at end of Phase 1: 96392294.08031155\n",
      "Lottery conducted and payouts distributed.\n",
      "Total lottery payouts: 2556.405075099843\n",
      "Total lottery winnings for public: 132.28461148284654\n",
      "Total volume in Pool at end of Phase 2: 99428245.47027652\n",
      "Total volume in Pool at end of Phase 3: 100618921.01363711\n",
      "Simulating Journey 18\n",
      "Total volume in Pool at end of Phase 1: 102360030.7175179\n",
      "Lottery conducted and payouts distributed.\n",
      "Total lottery payouts: 2294.404585088758\n",
      "Total lottery winnings for public: 76.96412972567114\n",
      "Total volume in Pool at end of Phase 2: 105428532.34122431\n",
      "Total volume in Pool at end of Phase 3: 106675378.17915055\n",
      "Simulating Journey 19\n",
      "Total volume in Pool at end of Phase 1: 108453919.15339302\n",
      "Lottery conducted and payouts distributed.\n",
      "Total lottery payouts: 2058.204133580254\n",
      "Total lottery winnings for public: 29.27160537282787\n",
      "Total volume in Pool at end of Phase 2: 111491462.91309072\n",
      "Total volume in Pool at end of Phase 3: 112736877.41006711\n",
      "Simulating Journey 20\n",
      "Total volume in Pool at end of Phase 1: 114504099.4375309\n",
      "Lottery conducted and payouts distributed.\n",
      "Total lottery payouts: 1849.4036540723491\n",
      "Total lottery winnings for public: 9.864429367422323\n",
      "Total volume in Pool at end of Phase 2: 117486742.24624708\n",
      "Total volume in Pool at end of Phase 3: 118707522.30741698\n",
      "Simulating Journey 21\n",
      "Total volume in Pool at end of Phase 1: 120475823.61250608\n",
      "Lottery conducted and payouts distributed.\n",
      "Total lottery payouts: 1653.6034265639437\n",
      "Total lottery winnings for public: 22.23570876146352\n",
      "Total volume in Pool at end of Phase 2: 123528378.6550267\n",
      "Total volume in Pool at end of Phase 3: 124702550.59803304\n",
      "Simulating Journey 22\n",
      "Total volume in Pool at end of Phase 1: 126507099.83869824\n",
      "Lottery conducted and payouts distributed.\n",
      "Total lottery payouts: 1487.4029085599657\n",
      "Total lottery winnings for public: 18.901503236832404\n",
      "Total volume in Pool at end of Phase 2: 129561121.26767057\n",
      "Total volume in Pool at end of Phase 3: 130780559.15895982\n",
      "Simulating Journey 23\n",
      "Total volume in Pool at end of Phase 1: 132534202.943981\n",
      "Lottery conducted and payouts distributed.\n",
      "Total lottery payouts: 1332.802705550902\n",
      "Total lottery winnings for public: 0.07895984511098682\n",
      "Total volume in Pool at end of Phase 2: 135530959.6768389\n",
      "Total volume in Pool at end of Phase 3: 136759521.23229986\n",
      "Simulating Journey 24\n",
      "Total volume in Pool at end of Phase 1: 138549540.81823525\n",
      "Lottery conducted and payouts distributed.\n",
      "Total lottery payouts: 1196.8023800473438\n",
      "Total lottery winnings for public: 0.32272959990490274\n",
      "Total volume in Pool at end of Phase 2: 141645029.824824\n",
      "Total volume in Pool at end of Phase 3: 142852676.44572833\n",
      "Simulating Journey 25\n",
      "Total volume in Pool at end of Phase 1: 144627726.63683477\n",
      "Lottery conducted and payouts distributed.\n",
      "Total lottery payouts: 1078.6020685416552\n",
      "Total lottery winnings for public: 0.9732479752236908\n",
      "Total volume in Pool at end of Phase 2: 147638805.19859678\n",
      "Total volume in Pool at end of Phase 3: 148846342.8307021\n",
      "Simulating Journey 26\n",
      "Total volume in Pool at end of Phase 1: 150671506.5276634\n",
      "Lottery conducted and payouts distributed.\n",
      "Total lottery payouts: 970.6018900361977\n",
      "Total lottery winnings for public: 1.7394299104591355\n",
      "Total volume in Pool at end of Phase 2: 153655743.4503721\n",
      "Total volume in Pool at end of Phase 3: 154859183.00798148\n",
      "Simulating Journey 27\n",
      "Total volume in Pool at end of Phase 1: 156693905.8107434\n",
      "Lottery conducted and payouts distributed.\n",
      "Total lottery payouts: 871.201739533077\n",
      "Total lottery winnings for public: 0\n",
      "Total volume in Pool at end of Phase 2: 159723177.21060994\n",
      "Total volume in Pool at end of Phase 3: 160898563.4096847\n",
      "Simulating Journey 28\n",
      "Total volume in Pool at end of Phase 1: 162724421.23799613\n",
      "Lottery conducted and payouts distributed.\n",
      "Total lottery payouts: 782.4015540304422\n",
      "Total lottery winnings for public: 0\n",
      "Total volume in Pool at end of Phase 2: 165681011.9118309\n",
      "Total volume in Pool at end of Phase 3: 166835151.07454234\n",
      "Simulating Journey 29\n",
      "Total volume in Pool at end of Phase 1: 168564616.65547493\n",
      "Lottery conducted and payouts distributed.\n",
      "Total lottery payouts: 705.6013440271954\n",
      "Total lottery winnings for public: 0.6491645968854654\n",
      "Total volume in Pool at end of Phase 2: 171610269.1627002\n",
      "Total volume in Pool at end of Phase 3: 172789802.47354317\n",
      "Simulating Journey 30\n",
      "Total volume in Pool at end of Phase 1: 174580165.15674403\n",
      "Lottery conducted and payouts distributed.\n",
      "Total lottery payouts: 635.6012250235215\n",
      "Total lottery winnings for public: 0\n",
      "Total volume in Pool at end of Phase 2: 177578418.67927936\n",
      "Total volume in Pool at end of Phase 3: 178861404.69085783\n",
      "Simulating Journey 31\n",
      "Total volume in Pool at end of Phase 1: 180683476.39134774\n",
      "Lottery conducted and payouts distributed.\n",
      "Total lottery payouts: 569.4011585214384\n",
      "Total lottery winnings for public: 0\n",
      "Total volume in Pool at end of Phase 2: 183733529.73670486\n",
      "Total volume in Pool at end of Phase 3: 184936319.79883122\n",
      "Simulating Journey 32\n",
      "Total volume in Pool at end of Phase 1: 186725802.50217018\n",
      "Lottery conducted and payouts distributed.\n",
      "Total lottery payouts: 512.6009940202734\n",
      "Total lottery winnings for public: 0\n",
      "Total volume in Pool at end of Phase 2: 189752492.48994318\n",
      "Total volume in Pool at end of Phase 3: 190952758.6186373\n",
      "Simulating Journey 33\n",
      "Total volume in Pool at end of Phase 1: 192761475.0365892\n",
      "Lottery conducted and payouts distributed.\n",
      "Total lottery payouts: 462.2008820173947\n",
      "Total lottery winnings for public: 2.6287084732172095\n",
      "Total volume in Pool at end of Phase 2: 195763910.9117823\n",
      "Total volume in Pool at end of Phase 3: 196973678.7687487\n"
     ]
    }
   ],
   "source": [
    "# Simulate 33 Journeys with data accumulation\n",
    "\n",
    "accumulate_data(0, 1, pool, fuel_cells_token, evil_address_account, treasury, jackpot_account, treasury_account)\n",
    "accumulate_data(0, 2, pool, fuel_cells_token, evil_address_account, treasury, jackpot_account, treasury_account)\n",
    "accumulate_data(0, 3, pool, fuel_cells_token, evil_address_account, treasury, jackpot_account, treasury_account)\n",
    "\n",
    "\n",
    "for journey in range(1, 34):\n",
    "    print(f\"Simulating Journey {journey}\")\n",
    "\n",
    "    # Phase 1: Minting Phase\n",
    "    public_initial_balance = dark_token.balance_of(public_account)\n",
    "    public_nft_mint_amount = int(public_initial_balance * public_nft_mint_percentage)  # 10% of the public Dark token balance\n",
    "\n",
    "    # Public mints NFTs\n",
    "    lcc.mint_nft(public_account, public_nft_mint_amount)\n",
    "\n",
    "    # Evil address mints NFTs\n",
    "    evil_address_account.mint_fuel_cells()\n",
    "\n",
    "\n",
    "    # Simulate trades in Phase 1\n",
    "    phase_1_trades = int(total_trades * 0.3)  # 30% of the trades in Phase 1\n",
    "    simulate_trades(public_account, pool, phase_1_trades, buy_pressure, sell_pressure, nft_purchase_share_from_public_buy, journey_phase_manager, dai_token)\n",
    "    print(f\"Total volume in Pool at end of Phase 1: {pool.total_volume}\")\n",
    "\n",
    "    # Accumulate data at the end of Phase 1\n",
    "    accumulate_data(journey, 1, pool, fuel_cells_token, evil_address_account, treasury, jackpot_account, treasury_account)\n",
    "    # Increment to Phase 2\n",
    "    journey_phase_manager.increment_phase()\n",
    "\n",
    "    # Phase 2: Lottery Phase\n",
    "    # Capture the jackpot balance before the lottery\n",
    "    initial_jackpot_balance = dark_token.balance_of(jackpot.account)\n",
    "\n",
    "    # Conduct the lottery\n",
    "    lottery_result = jackpot.conduct_lottery()\n",
    "    print(lottery_result)\n",
    "\n",
    "    # Total lottery payouts\n",
    "    total_lottery_payouts = sum(jackpot.calculate_payouts(journey_phase_manager.get_current_journey(), initial_jackpot_balance))\n",
    "    print(f\"Total lottery payouts: {total_lottery_payouts}\")\n",
    "\n",
    "    # Public sells all their lottery winnings\n",
    "    lottery_winnings = jackpot.get_lottery_winnings(journey_phase_manager.get_current_journey(), public_account)\n",
    "    if lottery_winnings > 0:\n",
    "        pool.sell(public_account, lottery_winnings)\n",
    "\n",
    "    print(f\"Total lottery winnings for public: {lottery_winnings}\")\n",
    "\n",
    "    # Simulate trades in Phase 2\n",
    "    phase_2_trades = int(total_trades * 0.5)  # 50% of the trades in Phase 2\n",
    "    simulate_trades(public_account, pool, phase_2_trades, buy_pressure, sell_pressure, nft_purchase_share_from_public_buy, journey_phase_manager, dai_token)\n",
    "    print(f\"Total volume in Pool at end of Phase 2: {pool.total_volume}\")\n",
    "\n",
    "    # Accumulate data at the end of Phase 2\n",
    "    accumulate_data(journey, 2, pool, fuel_cells_token, evil_address_account, treasury, jackpot_account, treasury_account)\n",
    "\n",
    "    # Increment to Phase 3\n",
    "    journey_phase_manager.increment_phase()\n",
    "\n",
    "    # Phase 3: Yield Distribution Phase\n",
    "    # Simulate trades in Phase 3\n",
    "    phase_3_trades = total_trades - (phase_1_trades + phase_2_trades)  # Remaining trades in Phase 3\n",
    "    simulate_trades(public_account, pool, phase_3_trades, buy_pressure, sell_pressure, nft_purchase_share_from_public_buy, journey_phase_manager, dai_token)\n",
    "    print(f\"Total volume in Pool at end of Phase 3: {pool.total_volume}\")\n",
    "\n",
    "    # Distribute yield to NFT holders\n",
    "    treasury.distribute_yield(journey_phase_manager)\n",
    "\n",
    "    # Accumulate data at the end of Phase 3\n",
    "    accumulate_data(journey, 3, pool, fuel_cells_token, evil_address_account, treasury, jackpot_account, treasury_account)\n",
    "\n",
    "    # Increment to next journey (Phase 1 of the new journey)\n",
    "    if journey < 33:  # Avoid incrementing past the last journey\n",
    "        journey_phase_manager.increment_phase()\n"
   ]
  },
  {
   "cell_type": "markdown",
   "metadata": {},
   "source": [
    "## Graphs"
   ]
  },
  {
   "cell_type": "code",
   "execution_count": 64,
   "metadata": {},
   "outputs": [
    {
     "data": {
      "application/vnd.plotly.v1+json": {
       "config": {
        "plotlyServerURL": "https://plot.ly"
       },
       "data": [
        {
         "mode": "lines+markers",
         "name": "Price of Dark Token",
         "type": "scatter",
         "x": [
          0.3333333333333333,
          0.6666666666666666,
          1,
          1.3333333333333333,
          1.6666666666666665,
          2,
          2.3333333333333335,
          2.6666666666666665,
          3,
          3.3333333333333335,
          3.6666666666666665,
          4,
          4.333333333333333,
          4.666666666666667,
          5,
          5.333333333333333,
          5.666666666666667,
          6,
          6.333333333333333,
          6.666666666666667,
          7,
          7.333333333333333,
          7.666666666666667,
          8,
          8.333333333333334,
          8.666666666666666,
          9,
          9.333333333333334,
          9.666666666666666,
          10,
          10.333333333333334,
          10.666666666666666,
          11,
          11.333333333333334,
          11.666666666666666,
          12,
          12.333333333333334,
          12.666666666666666,
          13,
          13.333333333333334,
          13.666666666666666,
          14,
          14.333333333333334,
          14.666666666666666,
          15,
          15.333333333333334,
          15.666666666666666,
          16,
          16.333333333333332,
          16.666666666666668,
          17,
          17.333333333333332,
          17.666666666666668,
          18,
          18.333333333333332,
          18.666666666666668,
          19,
          19.333333333333332,
          19.666666666666668,
          20,
          20.333333333333332,
          20.666666666666668,
          21,
          21.333333333333332,
          21.666666666666668,
          22,
          22.333333333333332,
          22.666666666666668,
          23,
          23.333333333333332,
          23.666666666666668,
          24,
          24.333333333333332,
          24.666666666666668,
          25,
          25.333333333333332,
          25.666666666666668,
          26,
          26.333333333333332,
          26.666666666666668,
          27,
          27.333333333333332,
          27.666666666666668,
          28,
          28.333333333333332,
          28.666666666666668,
          29,
          29.333333333333332,
          29.666666666666668,
          30,
          30.333333333333332,
          30.666666666666668,
          31,
          31.333333333333332,
          31.666666666666668,
          32,
          32.333333333333336,
          32.666666666666664,
          33,
          33.333333333333336,
          33.666666666666664,
          34
         ],
         "y": [
          3,
          3,
          3,
          5.146056149848632,
          2.607457273366273,
          2.5779291190593896,
          10.37918133328986,
          6.811359890852786,
          6.8731684105475415,
          18.70395705425658,
          14.33859933174193,
          14.23009354518542,
          29.119551250342628,
          24.549180877397244,
          24.748446157145384,
          43.21168694696598,
          38.87499542796382,
          38.99968228342124,
          60.01937744488138,
          53.82700291465948,
          54.21640838565431,
          76.22572666582731,
          72.38288278772065,
          72.01374211408047,
          96.32892478449898,
          90.29195140835185,
          90.97923642144376,
          115.08747016673472,
          109.6810858512826,
          110.21289683421118,
          134.84211753636538,
          127.82256198747523,
          128.91747027014165,
          153.1626039158062,
          146.58451056047113,
          147.10958548233353,
          168.5522060196964,
          167.42281759914198,
          170.59358151345492,
          188.62162386458016,
          185.4054494971615,
          183.26808014341518,
          206.26807732060848,
          201.83221664324122,
          204.5310845157511,
          226.08912100718865,
          220.05038055594417,
          223.0293935657215,
          239.83736903145314,
          236.0727510147099,
          233.7144358003241,
          253.99067137660177,
          241.30771326532158,
          245.11128419363126,
          260.12738327495373,
          253.3251839607443,
          256.5999454712629,
          266.96412179650576,
          266.2523368143158,
          264.2014604961227,
          275.9398188052414,
          275.88080500106196,
          278.3668743405349,
          281.26815235763485,
          280.6340256713744,
          281.1129944093114,
          287.18506388642845,
          284.82564666305933,
          282.7401625611403,
          292.4045875002749,
          285.8712597766801,
          287.7643166069101,
          291.1948849795745,
          291.4321797652253,
          289.01866681675637,
          291.9667368071807,
          294.97127420362585,
          295.1111403297379,
          295.024601118885,
          296.02910875168607,
          297.6741070180991,
          298.16547677291396,
          296.69334182582946,
          296.1228652353993,
          299.84175040513344,
          298.5907561983981,
          301.20478518275803,
          298.647476376336,
          300.9919156962376,
          300.9482348023229,
          297.4876735681827,
          299.62830110997476,
          295.1184700185427,
          296.8056521487777,
          299.79138818257155,
          294.8358726336476,
          297.17117934271914,
          297.23298357252565,
          297.5788607419974,
          303.6130508681039,
          300.89400436328117,
          304.07467190771985
         ]
        }
       ],
       "layout": {
        "template": {
         "data": {
          "bar": [
           {
            "error_x": {
             "color": "#2a3f5f"
            },
            "error_y": {
             "color": "#2a3f5f"
            },
            "marker": {
             "line": {
              "color": "#E5ECF6",
              "width": 0.5
             },
             "pattern": {
              "fillmode": "overlay",
              "size": 10,
              "solidity": 0.2
             }
            },
            "type": "bar"
           }
          ],
          "barpolar": [
           {
            "marker": {
             "line": {
              "color": "#E5ECF6",
              "width": 0.5
             },
             "pattern": {
              "fillmode": "overlay",
              "size": 10,
              "solidity": 0.2
             }
            },
            "type": "barpolar"
           }
          ],
          "carpet": [
           {
            "aaxis": {
             "endlinecolor": "#2a3f5f",
             "gridcolor": "white",
             "linecolor": "white",
             "minorgridcolor": "white",
             "startlinecolor": "#2a3f5f"
            },
            "baxis": {
             "endlinecolor": "#2a3f5f",
             "gridcolor": "white",
             "linecolor": "white",
             "minorgridcolor": "white",
             "startlinecolor": "#2a3f5f"
            },
            "type": "carpet"
           }
          ],
          "choropleth": [
           {
            "colorbar": {
             "outlinewidth": 0,
             "ticks": ""
            },
            "type": "choropleth"
           }
          ],
          "contour": [
           {
            "colorbar": {
             "outlinewidth": 0,
             "ticks": ""
            },
            "colorscale": [
             [
              0,
              "#0d0887"
             ],
             [
              0.1111111111111111,
              "#46039f"
             ],
             [
              0.2222222222222222,
              "#7201a8"
             ],
             [
              0.3333333333333333,
              "#9c179e"
             ],
             [
              0.4444444444444444,
              "#bd3786"
             ],
             [
              0.5555555555555556,
              "#d8576b"
             ],
             [
              0.6666666666666666,
              "#ed7953"
             ],
             [
              0.7777777777777778,
              "#fb9f3a"
             ],
             [
              0.8888888888888888,
              "#fdca26"
             ],
             [
              1,
              "#f0f921"
             ]
            ],
            "type": "contour"
           }
          ],
          "contourcarpet": [
           {
            "colorbar": {
             "outlinewidth": 0,
             "ticks": ""
            },
            "type": "contourcarpet"
           }
          ],
          "heatmap": [
           {
            "colorbar": {
             "outlinewidth": 0,
             "ticks": ""
            },
            "colorscale": [
             [
              0,
              "#0d0887"
             ],
             [
              0.1111111111111111,
              "#46039f"
             ],
             [
              0.2222222222222222,
              "#7201a8"
             ],
             [
              0.3333333333333333,
              "#9c179e"
             ],
             [
              0.4444444444444444,
              "#bd3786"
             ],
             [
              0.5555555555555556,
              "#d8576b"
             ],
             [
              0.6666666666666666,
              "#ed7953"
             ],
             [
              0.7777777777777778,
              "#fb9f3a"
             ],
             [
              0.8888888888888888,
              "#fdca26"
             ],
             [
              1,
              "#f0f921"
             ]
            ],
            "type": "heatmap"
           }
          ],
          "heatmapgl": [
           {
            "colorbar": {
             "outlinewidth": 0,
             "ticks": ""
            },
            "colorscale": [
             [
              0,
              "#0d0887"
             ],
             [
              0.1111111111111111,
              "#46039f"
             ],
             [
              0.2222222222222222,
              "#7201a8"
             ],
             [
              0.3333333333333333,
              "#9c179e"
             ],
             [
              0.4444444444444444,
              "#bd3786"
             ],
             [
              0.5555555555555556,
              "#d8576b"
             ],
             [
              0.6666666666666666,
              "#ed7953"
             ],
             [
              0.7777777777777778,
              "#fb9f3a"
             ],
             [
              0.8888888888888888,
              "#fdca26"
             ],
             [
              1,
              "#f0f921"
             ]
            ],
            "type": "heatmapgl"
           }
          ],
          "histogram": [
           {
            "marker": {
             "pattern": {
              "fillmode": "overlay",
              "size": 10,
              "solidity": 0.2
             }
            },
            "type": "histogram"
           }
          ],
          "histogram2d": [
           {
            "colorbar": {
             "outlinewidth": 0,
             "ticks": ""
            },
            "colorscale": [
             [
              0,
              "#0d0887"
             ],
             [
              0.1111111111111111,
              "#46039f"
             ],
             [
              0.2222222222222222,
              "#7201a8"
             ],
             [
              0.3333333333333333,
              "#9c179e"
             ],
             [
              0.4444444444444444,
              "#bd3786"
             ],
             [
              0.5555555555555556,
              "#d8576b"
             ],
             [
              0.6666666666666666,
              "#ed7953"
             ],
             [
              0.7777777777777778,
              "#fb9f3a"
             ],
             [
              0.8888888888888888,
              "#fdca26"
             ],
             [
              1,
              "#f0f921"
             ]
            ],
            "type": "histogram2d"
           }
          ],
          "histogram2dcontour": [
           {
            "colorbar": {
             "outlinewidth": 0,
             "ticks": ""
            },
            "colorscale": [
             [
              0,
              "#0d0887"
             ],
             [
              0.1111111111111111,
              "#46039f"
             ],
             [
              0.2222222222222222,
              "#7201a8"
             ],
             [
              0.3333333333333333,
              "#9c179e"
             ],
             [
              0.4444444444444444,
              "#bd3786"
             ],
             [
              0.5555555555555556,
              "#d8576b"
             ],
             [
              0.6666666666666666,
              "#ed7953"
             ],
             [
              0.7777777777777778,
              "#fb9f3a"
             ],
             [
              0.8888888888888888,
              "#fdca26"
             ],
             [
              1,
              "#f0f921"
             ]
            ],
            "type": "histogram2dcontour"
           }
          ],
          "mesh3d": [
           {
            "colorbar": {
             "outlinewidth": 0,
             "ticks": ""
            },
            "type": "mesh3d"
           }
          ],
          "parcoords": [
           {
            "line": {
             "colorbar": {
              "outlinewidth": 0,
              "ticks": ""
             }
            },
            "type": "parcoords"
           }
          ],
          "pie": [
           {
            "automargin": true,
            "type": "pie"
           }
          ],
          "scatter": [
           {
            "fillpattern": {
             "fillmode": "overlay",
             "size": 10,
             "solidity": 0.2
            },
            "type": "scatter"
           }
          ],
          "scatter3d": [
           {
            "line": {
             "colorbar": {
              "outlinewidth": 0,
              "ticks": ""
             }
            },
            "marker": {
             "colorbar": {
              "outlinewidth": 0,
              "ticks": ""
             }
            },
            "type": "scatter3d"
           }
          ],
          "scattercarpet": [
           {
            "marker": {
             "colorbar": {
              "outlinewidth": 0,
              "ticks": ""
             }
            },
            "type": "scattercarpet"
           }
          ],
          "scattergeo": [
           {
            "marker": {
             "colorbar": {
              "outlinewidth": 0,
              "ticks": ""
             }
            },
            "type": "scattergeo"
           }
          ],
          "scattergl": [
           {
            "marker": {
             "colorbar": {
              "outlinewidth": 0,
              "ticks": ""
             }
            },
            "type": "scattergl"
           }
          ],
          "scattermapbox": [
           {
            "marker": {
             "colorbar": {
              "outlinewidth": 0,
              "ticks": ""
             }
            },
            "type": "scattermapbox"
           }
          ],
          "scatterpolar": [
           {
            "marker": {
             "colorbar": {
              "outlinewidth": 0,
              "ticks": ""
             }
            },
            "type": "scatterpolar"
           }
          ],
          "scatterpolargl": [
           {
            "marker": {
             "colorbar": {
              "outlinewidth": 0,
              "ticks": ""
             }
            },
            "type": "scatterpolargl"
           }
          ],
          "scatterternary": [
           {
            "marker": {
             "colorbar": {
              "outlinewidth": 0,
              "ticks": ""
             }
            },
            "type": "scatterternary"
           }
          ],
          "surface": [
           {
            "colorbar": {
             "outlinewidth": 0,
             "ticks": ""
            },
            "colorscale": [
             [
              0,
              "#0d0887"
             ],
             [
              0.1111111111111111,
              "#46039f"
             ],
             [
              0.2222222222222222,
              "#7201a8"
             ],
             [
              0.3333333333333333,
              "#9c179e"
             ],
             [
              0.4444444444444444,
              "#bd3786"
             ],
             [
              0.5555555555555556,
              "#d8576b"
             ],
             [
              0.6666666666666666,
              "#ed7953"
             ],
             [
              0.7777777777777778,
              "#fb9f3a"
             ],
             [
              0.8888888888888888,
              "#fdca26"
             ],
             [
              1,
              "#f0f921"
             ]
            ],
            "type": "surface"
           }
          ],
          "table": [
           {
            "cells": {
             "fill": {
              "color": "#EBF0F8"
             },
             "line": {
              "color": "white"
             }
            },
            "header": {
             "fill": {
              "color": "#C8D4E3"
             },
             "line": {
              "color": "white"
             }
            },
            "type": "table"
           }
          ]
         },
         "layout": {
          "annotationdefaults": {
           "arrowcolor": "#2a3f5f",
           "arrowhead": 0,
           "arrowwidth": 1
          },
          "autotypenumbers": "strict",
          "coloraxis": {
           "colorbar": {
            "outlinewidth": 0,
            "ticks": ""
           }
          },
          "colorscale": {
           "diverging": [
            [
             0,
             "#8e0152"
            ],
            [
             0.1,
             "#c51b7d"
            ],
            [
             0.2,
             "#de77ae"
            ],
            [
             0.3,
             "#f1b6da"
            ],
            [
             0.4,
             "#fde0ef"
            ],
            [
             0.5,
             "#f7f7f7"
            ],
            [
             0.6,
             "#e6f5d0"
            ],
            [
             0.7,
             "#b8e186"
            ],
            [
             0.8,
             "#7fbc41"
            ],
            [
             0.9,
             "#4d9221"
            ],
            [
             1,
             "#276419"
            ]
           ],
           "sequential": [
            [
             0,
             "#0d0887"
            ],
            [
             0.1111111111111111,
             "#46039f"
            ],
            [
             0.2222222222222222,
             "#7201a8"
            ],
            [
             0.3333333333333333,
             "#9c179e"
            ],
            [
             0.4444444444444444,
             "#bd3786"
            ],
            [
             0.5555555555555556,
             "#d8576b"
            ],
            [
             0.6666666666666666,
             "#ed7953"
            ],
            [
             0.7777777777777778,
             "#fb9f3a"
            ],
            [
             0.8888888888888888,
             "#fdca26"
            ],
            [
             1,
             "#f0f921"
            ]
           ],
           "sequentialminus": [
            [
             0,
             "#0d0887"
            ],
            [
             0.1111111111111111,
             "#46039f"
            ],
            [
             0.2222222222222222,
             "#7201a8"
            ],
            [
             0.3333333333333333,
             "#9c179e"
            ],
            [
             0.4444444444444444,
             "#bd3786"
            ],
            [
             0.5555555555555556,
             "#d8576b"
            ],
            [
             0.6666666666666666,
             "#ed7953"
            ],
            [
             0.7777777777777778,
             "#fb9f3a"
            ],
            [
             0.8888888888888888,
             "#fdca26"
            ],
            [
             1,
             "#f0f921"
            ]
           ]
          },
          "colorway": [
           "#636efa",
           "#EF553B",
           "#00cc96",
           "#ab63fa",
           "#FFA15A",
           "#19d3f3",
           "#FF6692",
           "#B6E880",
           "#FF97FF",
           "#FECB52"
          ],
          "font": {
           "color": "#2a3f5f"
          },
          "geo": {
           "bgcolor": "white",
           "lakecolor": "white",
           "landcolor": "#E5ECF6",
           "showlakes": true,
           "showland": true,
           "subunitcolor": "white"
          },
          "hoverlabel": {
           "align": "left"
          },
          "hovermode": "closest",
          "mapbox": {
           "style": "light"
          },
          "paper_bgcolor": "white",
          "plot_bgcolor": "#E5ECF6",
          "polar": {
           "angularaxis": {
            "gridcolor": "white",
            "linecolor": "white",
            "ticks": ""
           },
           "bgcolor": "#E5ECF6",
           "radialaxis": {
            "gridcolor": "white",
            "linecolor": "white",
            "ticks": ""
           }
          },
          "scene": {
           "xaxis": {
            "backgroundcolor": "#E5ECF6",
            "gridcolor": "white",
            "gridwidth": 2,
            "linecolor": "white",
            "showbackground": true,
            "ticks": "",
            "zerolinecolor": "white"
           },
           "yaxis": {
            "backgroundcolor": "#E5ECF6",
            "gridcolor": "white",
            "gridwidth": 2,
            "linecolor": "white",
            "showbackground": true,
            "ticks": "",
            "zerolinecolor": "white"
           },
           "zaxis": {
            "backgroundcolor": "#E5ECF6",
            "gridcolor": "white",
            "gridwidth": 2,
            "linecolor": "white",
            "showbackground": true,
            "ticks": "",
            "zerolinecolor": "white"
           }
          },
          "shapedefaults": {
           "line": {
            "color": "#2a3f5f"
           }
          },
          "ternary": {
           "aaxis": {
            "gridcolor": "white",
            "linecolor": "white",
            "ticks": ""
           },
           "baxis": {
            "gridcolor": "white",
            "linecolor": "white",
            "ticks": ""
           },
           "bgcolor": "#E5ECF6",
           "caxis": {
            "gridcolor": "white",
            "linecolor": "white",
            "ticks": ""
           }
          },
          "title": {
           "x": 0.05
          },
          "xaxis": {
           "automargin": true,
           "gridcolor": "white",
           "linecolor": "white",
           "ticks": "",
           "title": {
            "standoff": 15
           },
           "zerolinecolor": "white",
           "zerolinewidth": 2
          },
          "yaxis": {
           "automargin": true,
           "gridcolor": "white",
           "linecolor": "white",
           "ticks": "",
           "title": {
            "standoff": 15
           },
           "zerolinecolor": "white",
           "zerolinewidth": 2
          }
         }
        },
        "title": {
         "text": "Price of Dark Token Across Journeys and Their Phase"
        },
        "xaxis": {
         "title": {
          "text": "Journey and Phase"
         }
        },
        "yaxis": {
         "title": {
          "text": "Price of Dark Token"
         }
        }
       }
      }
     },
     "metadata": {},
     "output_type": "display_data"
    },
    {
     "data": {
      "application/vnd.plotly.v1+json": {
       "config": {
        "plotlyServerURL": "https://plot.ly"
       },
       "data": [
        {
         "mode": "lines+markers",
         "name": "Cumulative Volume",
         "type": "scatter",
         "x": [
          0.3333333333333333,
          0.6666666666666666,
          1,
          1.3333333333333333,
          1.6666666666666665,
          2,
          2.3333333333333335,
          2.6666666666666665,
          3,
          3.3333333333333335,
          3.6666666666666665,
          4,
          4.333333333333333,
          4.666666666666667,
          5,
          5.333333333333333,
          5.666666666666667,
          6,
          6.333333333333333,
          6.666666666666667,
          7,
          7.333333333333333,
          7.666666666666667,
          8,
          8.333333333333334,
          8.666666666666666,
          9,
          9.333333333333334,
          9.666666666666666,
          10,
          10.333333333333334,
          10.666666666666666,
          11,
          11.333333333333334,
          11.666666666666666,
          12,
          12.333333333333334,
          12.666666666666666,
          13,
          13.333333333333334,
          13.666666666666666,
          14,
          14.333333333333334,
          14.666666666666666,
          15,
          15.333333333333334,
          15.666666666666666,
          16,
          16.333333333333332,
          16.666666666666668,
          17,
          17.333333333333332,
          17.666666666666668,
          18,
          18.333333333333332,
          18.666666666666668,
          19,
          19.333333333333332,
          19.666666666666668,
          20,
          20.333333333333332,
          20.666666666666668,
          21,
          21.333333333333332,
          21.666666666666668,
          22,
          22.333333333333332,
          22.666666666666668,
          23,
          23.333333333333332,
          23.666666666666668,
          24,
          24.333333333333332,
          24.666666666666668,
          25,
          25.333333333333332,
          25.666666666666668,
          26,
          26.333333333333332,
          26.666666666666668,
          27,
          27.333333333333332,
          27.666666666666668,
          28,
          28.333333333333332,
          28.666666666666668,
          29,
          29.333333333333332,
          29.666666666666668,
          30,
          30.333333333333332,
          30.666666666666668,
          31,
          31.333333333333332,
          31.666666666666668,
          32,
          32.333333333333336,
          32.666666666666664,
          33,
          33.333333333333336,
          33.666666666666664,
          34
         ],
         "y": [
          0,
          0,
          0,
          1737310.1665641838,
          4860298.021938917,
          6058847.312352384,
          7596559.89412905,
          10769958.941756224,
          11956912.08000568,
          13565142.783214249,
          16687679.363059968,
          17928080.219638176,
          19526480.826353375,
          22599030.302539017,
          23791160.60879799,
          25357966.688739188,
          28376432.297958635,
          29592786.56335686,
          31260388.878947306,
          34362587.1064578,
          35552489.40062611,
          37144100.243249,
          40264826.96466053,
          41486714.18482712,
          43142203.338442855,
          46154715.10760995,
          47395869.73069293,
          49009125.92043012,
          52066396.720868155,
          53241079.253111854,
          54858997.386144675,
          57912087.068065815,
          59134003.71151658,
          60818782.34014405,
          63857387.82156931,
          65031699.28283695,
          66669857.61978725,
          69654442.86316994,
          70855067.49245831,
          72520421.03795016,
          75625728.5250341,
          76863517.72774214,
          78564922.65167867,
          81690688.08494271,
          82858565.88394544,
          84535287.40568256,
          87528559.05653128,
          88710775.93293215,
          90476866.30415133,
          93435024.8637425,
          94638692.81434934,
          96392294.08031155,
          99428245.47027652,
          100618921.01363711,
          102360030.7175179,
          105428532.34122431,
          106675378.17915055,
          108453919.15339302,
          111491462.91309072,
          112736877.41006711,
          114504099.4375309,
          117486742.24624708,
          118707522.30741698,
          120475823.61250608,
          123528378.6550267,
          124702550.59803304,
          126507099.83869824,
          129561121.26767057,
          130780559.15895982,
          132534202.943981,
          135530959.6768389,
          136759521.23229986,
          138549540.81823525,
          141645029.824824,
          142852676.44572833,
          144627726.63683477,
          147638805.19859678,
          148846342.8307021,
          150671506.5276634,
          153655743.4503721,
          154859183.00798148,
          156693905.8107434,
          159723177.21060994,
          160898563.4096847,
          162724421.23799613,
          165681011.9118309,
          166835151.07454234,
          168564616.65547493,
          171610269.1627002,
          172789802.47354317,
          174580165.15674403,
          177578418.67927936,
          178861404.69085783,
          180683476.39134774,
          183733529.73670486,
          184936319.79883122,
          186725802.50217018,
          189752492.48994318,
          190952758.6186373,
          192761475.0365892,
          195763910.9117823,
          196973678.7687487
         ]
        }
       ],
       "layout": {
        "template": {
         "data": {
          "bar": [
           {
            "error_x": {
             "color": "#2a3f5f"
            },
            "error_y": {
             "color": "#2a3f5f"
            },
            "marker": {
             "line": {
              "color": "#E5ECF6",
              "width": 0.5
             },
             "pattern": {
              "fillmode": "overlay",
              "size": 10,
              "solidity": 0.2
             }
            },
            "type": "bar"
           }
          ],
          "barpolar": [
           {
            "marker": {
             "line": {
              "color": "#E5ECF6",
              "width": 0.5
             },
             "pattern": {
              "fillmode": "overlay",
              "size": 10,
              "solidity": 0.2
             }
            },
            "type": "barpolar"
           }
          ],
          "carpet": [
           {
            "aaxis": {
             "endlinecolor": "#2a3f5f",
             "gridcolor": "white",
             "linecolor": "white",
             "minorgridcolor": "white",
             "startlinecolor": "#2a3f5f"
            },
            "baxis": {
             "endlinecolor": "#2a3f5f",
             "gridcolor": "white",
             "linecolor": "white",
             "minorgridcolor": "white",
             "startlinecolor": "#2a3f5f"
            },
            "type": "carpet"
           }
          ],
          "choropleth": [
           {
            "colorbar": {
             "outlinewidth": 0,
             "ticks": ""
            },
            "type": "choropleth"
           }
          ],
          "contour": [
           {
            "colorbar": {
             "outlinewidth": 0,
             "ticks": ""
            },
            "colorscale": [
             [
              0,
              "#0d0887"
             ],
             [
              0.1111111111111111,
              "#46039f"
             ],
             [
              0.2222222222222222,
              "#7201a8"
             ],
             [
              0.3333333333333333,
              "#9c179e"
             ],
             [
              0.4444444444444444,
              "#bd3786"
             ],
             [
              0.5555555555555556,
              "#d8576b"
             ],
             [
              0.6666666666666666,
              "#ed7953"
             ],
             [
              0.7777777777777778,
              "#fb9f3a"
             ],
             [
              0.8888888888888888,
              "#fdca26"
             ],
             [
              1,
              "#f0f921"
             ]
            ],
            "type": "contour"
           }
          ],
          "contourcarpet": [
           {
            "colorbar": {
             "outlinewidth": 0,
             "ticks": ""
            },
            "type": "contourcarpet"
           }
          ],
          "heatmap": [
           {
            "colorbar": {
             "outlinewidth": 0,
             "ticks": ""
            },
            "colorscale": [
             [
              0,
              "#0d0887"
             ],
             [
              0.1111111111111111,
              "#46039f"
             ],
             [
              0.2222222222222222,
              "#7201a8"
             ],
             [
              0.3333333333333333,
              "#9c179e"
             ],
             [
              0.4444444444444444,
              "#bd3786"
             ],
             [
              0.5555555555555556,
              "#d8576b"
             ],
             [
              0.6666666666666666,
              "#ed7953"
             ],
             [
              0.7777777777777778,
              "#fb9f3a"
             ],
             [
              0.8888888888888888,
              "#fdca26"
             ],
             [
              1,
              "#f0f921"
             ]
            ],
            "type": "heatmap"
           }
          ],
          "heatmapgl": [
           {
            "colorbar": {
             "outlinewidth": 0,
             "ticks": ""
            },
            "colorscale": [
             [
              0,
              "#0d0887"
             ],
             [
              0.1111111111111111,
              "#46039f"
             ],
             [
              0.2222222222222222,
              "#7201a8"
             ],
             [
              0.3333333333333333,
              "#9c179e"
             ],
             [
              0.4444444444444444,
              "#bd3786"
             ],
             [
              0.5555555555555556,
              "#d8576b"
             ],
             [
              0.6666666666666666,
              "#ed7953"
             ],
             [
              0.7777777777777778,
              "#fb9f3a"
             ],
             [
              0.8888888888888888,
              "#fdca26"
             ],
             [
              1,
              "#f0f921"
             ]
            ],
            "type": "heatmapgl"
           }
          ],
          "histogram": [
           {
            "marker": {
             "pattern": {
              "fillmode": "overlay",
              "size": 10,
              "solidity": 0.2
             }
            },
            "type": "histogram"
           }
          ],
          "histogram2d": [
           {
            "colorbar": {
             "outlinewidth": 0,
             "ticks": ""
            },
            "colorscale": [
             [
              0,
              "#0d0887"
             ],
             [
              0.1111111111111111,
              "#46039f"
             ],
             [
              0.2222222222222222,
              "#7201a8"
             ],
             [
              0.3333333333333333,
              "#9c179e"
             ],
             [
              0.4444444444444444,
              "#bd3786"
             ],
             [
              0.5555555555555556,
              "#d8576b"
             ],
             [
              0.6666666666666666,
              "#ed7953"
             ],
             [
              0.7777777777777778,
              "#fb9f3a"
             ],
             [
              0.8888888888888888,
              "#fdca26"
             ],
             [
              1,
              "#f0f921"
             ]
            ],
            "type": "histogram2d"
           }
          ],
          "histogram2dcontour": [
           {
            "colorbar": {
             "outlinewidth": 0,
             "ticks": ""
            },
            "colorscale": [
             [
              0,
              "#0d0887"
             ],
             [
              0.1111111111111111,
              "#46039f"
             ],
             [
              0.2222222222222222,
              "#7201a8"
             ],
             [
              0.3333333333333333,
              "#9c179e"
             ],
             [
              0.4444444444444444,
              "#bd3786"
             ],
             [
              0.5555555555555556,
              "#d8576b"
             ],
             [
              0.6666666666666666,
              "#ed7953"
             ],
             [
              0.7777777777777778,
              "#fb9f3a"
             ],
             [
              0.8888888888888888,
              "#fdca26"
             ],
             [
              1,
              "#f0f921"
             ]
            ],
            "type": "histogram2dcontour"
           }
          ],
          "mesh3d": [
           {
            "colorbar": {
             "outlinewidth": 0,
             "ticks": ""
            },
            "type": "mesh3d"
           }
          ],
          "parcoords": [
           {
            "line": {
             "colorbar": {
              "outlinewidth": 0,
              "ticks": ""
             }
            },
            "type": "parcoords"
           }
          ],
          "pie": [
           {
            "automargin": true,
            "type": "pie"
           }
          ],
          "scatter": [
           {
            "fillpattern": {
             "fillmode": "overlay",
             "size": 10,
             "solidity": 0.2
            },
            "type": "scatter"
           }
          ],
          "scatter3d": [
           {
            "line": {
             "colorbar": {
              "outlinewidth": 0,
              "ticks": ""
             }
            },
            "marker": {
             "colorbar": {
              "outlinewidth": 0,
              "ticks": ""
             }
            },
            "type": "scatter3d"
           }
          ],
          "scattercarpet": [
           {
            "marker": {
             "colorbar": {
              "outlinewidth": 0,
              "ticks": ""
             }
            },
            "type": "scattercarpet"
           }
          ],
          "scattergeo": [
           {
            "marker": {
             "colorbar": {
              "outlinewidth": 0,
              "ticks": ""
             }
            },
            "type": "scattergeo"
           }
          ],
          "scattergl": [
           {
            "marker": {
             "colorbar": {
              "outlinewidth": 0,
              "ticks": ""
             }
            },
            "type": "scattergl"
           }
          ],
          "scattermapbox": [
           {
            "marker": {
             "colorbar": {
              "outlinewidth": 0,
              "ticks": ""
             }
            },
            "type": "scattermapbox"
           }
          ],
          "scatterpolar": [
           {
            "marker": {
             "colorbar": {
              "outlinewidth": 0,
              "ticks": ""
             }
            },
            "type": "scatterpolar"
           }
          ],
          "scatterpolargl": [
           {
            "marker": {
             "colorbar": {
              "outlinewidth": 0,
              "ticks": ""
             }
            },
            "type": "scatterpolargl"
           }
          ],
          "scatterternary": [
           {
            "marker": {
             "colorbar": {
              "outlinewidth": 0,
              "ticks": ""
             }
            },
            "type": "scatterternary"
           }
          ],
          "surface": [
           {
            "colorbar": {
             "outlinewidth": 0,
             "ticks": ""
            },
            "colorscale": [
             [
              0,
              "#0d0887"
             ],
             [
              0.1111111111111111,
              "#46039f"
             ],
             [
              0.2222222222222222,
              "#7201a8"
             ],
             [
              0.3333333333333333,
              "#9c179e"
             ],
             [
              0.4444444444444444,
              "#bd3786"
             ],
             [
              0.5555555555555556,
              "#d8576b"
             ],
             [
              0.6666666666666666,
              "#ed7953"
             ],
             [
              0.7777777777777778,
              "#fb9f3a"
             ],
             [
              0.8888888888888888,
              "#fdca26"
             ],
             [
              1,
              "#f0f921"
             ]
            ],
            "type": "surface"
           }
          ],
          "table": [
           {
            "cells": {
             "fill": {
              "color": "#EBF0F8"
             },
             "line": {
              "color": "white"
             }
            },
            "header": {
             "fill": {
              "color": "#C8D4E3"
             },
             "line": {
              "color": "white"
             }
            },
            "type": "table"
           }
          ]
         },
         "layout": {
          "annotationdefaults": {
           "arrowcolor": "#2a3f5f",
           "arrowhead": 0,
           "arrowwidth": 1
          },
          "autotypenumbers": "strict",
          "coloraxis": {
           "colorbar": {
            "outlinewidth": 0,
            "ticks": ""
           }
          },
          "colorscale": {
           "diverging": [
            [
             0,
             "#8e0152"
            ],
            [
             0.1,
             "#c51b7d"
            ],
            [
             0.2,
             "#de77ae"
            ],
            [
             0.3,
             "#f1b6da"
            ],
            [
             0.4,
             "#fde0ef"
            ],
            [
             0.5,
             "#f7f7f7"
            ],
            [
             0.6,
             "#e6f5d0"
            ],
            [
             0.7,
             "#b8e186"
            ],
            [
             0.8,
             "#7fbc41"
            ],
            [
             0.9,
             "#4d9221"
            ],
            [
             1,
             "#276419"
            ]
           ],
           "sequential": [
            [
             0,
             "#0d0887"
            ],
            [
             0.1111111111111111,
             "#46039f"
            ],
            [
             0.2222222222222222,
             "#7201a8"
            ],
            [
             0.3333333333333333,
             "#9c179e"
            ],
            [
             0.4444444444444444,
             "#bd3786"
            ],
            [
             0.5555555555555556,
             "#d8576b"
            ],
            [
             0.6666666666666666,
             "#ed7953"
            ],
            [
             0.7777777777777778,
             "#fb9f3a"
            ],
            [
             0.8888888888888888,
             "#fdca26"
            ],
            [
             1,
             "#f0f921"
            ]
           ],
           "sequentialminus": [
            [
             0,
             "#0d0887"
            ],
            [
             0.1111111111111111,
             "#46039f"
            ],
            [
             0.2222222222222222,
             "#7201a8"
            ],
            [
             0.3333333333333333,
             "#9c179e"
            ],
            [
             0.4444444444444444,
             "#bd3786"
            ],
            [
             0.5555555555555556,
             "#d8576b"
            ],
            [
             0.6666666666666666,
             "#ed7953"
            ],
            [
             0.7777777777777778,
             "#fb9f3a"
            ],
            [
             0.8888888888888888,
             "#fdca26"
            ],
            [
             1,
             "#f0f921"
            ]
           ]
          },
          "colorway": [
           "#636efa",
           "#EF553B",
           "#00cc96",
           "#ab63fa",
           "#FFA15A",
           "#19d3f3",
           "#FF6692",
           "#B6E880",
           "#FF97FF",
           "#FECB52"
          ],
          "font": {
           "color": "#2a3f5f"
          },
          "geo": {
           "bgcolor": "white",
           "lakecolor": "white",
           "landcolor": "#E5ECF6",
           "showlakes": true,
           "showland": true,
           "subunitcolor": "white"
          },
          "hoverlabel": {
           "align": "left"
          },
          "hovermode": "closest",
          "mapbox": {
           "style": "light"
          },
          "paper_bgcolor": "white",
          "plot_bgcolor": "#E5ECF6",
          "polar": {
           "angularaxis": {
            "gridcolor": "white",
            "linecolor": "white",
            "ticks": ""
           },
           "bgcolor": "#E5ECF6",
           "radialaxis": {
            "gridcolor": "white",
            "linecolor": "white",
            "ticks": ""
           }
          },
          "scene": {
           "xaxis": {
            "backgroundcolor": "#E5ECF6",
            "gridcolor": "white",
            "gridwidth": 2,
            "linecolor": "white",
            "showbackground": true,
            "ticks": "",
            "zerolinecolor": "white"
           },
           "yaxis": {
            "backgroundcolor": "#E5ECF6",
            "gridcolor": "white",
            "gridwidth": 2,
            "linecolor": "white",
            "showbackground": true,
            "ticks": "",
            "zerolinecolor": "white"
           },
           "zaxis": {
            "backgroundcolor": "#E5ECF6",
            "gridcolor": "white",
            "gridwidth": 2,
            "linecolor": "white",
            "showbackground": true,
            "ticks": "",
            "zerolinecolor": "white"
           }
          },
          "shapedefaults": {
           "line": {
            "color": "#2a3f5f"
           }
          },
          "ternary": {
           "aaxis": {
            "gridcolor": "white",
            "linecolor": "white",
            "ticks": ""
           },
           "baxis": {
            "gridcolor": "white",
            "linecolor": "white",
            "ticks": ""
           },
           "bgcolor": "#E5ECF6",
           "caxis": {
            "gridcolor": "white",
            "linecolor": "white",
            "ticks": ""
           }
          },
          "title": {
           "x": 0.05
          },
          "xaxis": {
           "automargin": true,
           "gridcolor": "white",
           "linecolor": "white",
           "ticks": "",
           "title": {
            "standoff": 15
           },
           "zerolinecolor": "white",
           "zerolinewidth": 2
          },
          "yaxis": {
           "automargin": true,
           "gridcolor": "white",
           "linecolor": "white",
           "ticks": "",
           "title": {
            "standoff": 15
           },
           "zerolinecolor": "white",
           "zerolinewidth": 2
          }
         }
        },
        "title": {
         "text": "Cumulative Volume of Trades Across Phases and Journey"
        },
        "xaxis": {
         "title": {
          "text": "Journey and Phase"
         }
        },
        "yaxis": {
         "title": {
          "text": "Cumulative Volume"
         }
        }
       }
      }
     },
     "metadata": {},
     "output_type": "display_data"
    },
    {
     "data": {
      "application/vnd.plotly.v1+json": {
       "config": {
        "plotlyServerURL": "https://plot.ly"
       },
       "data": [
        {
         "name": "Total NFTs Minted",
         "type": "bar",
         "x": [
          1,
          2,
          3,
          4,
          5,
          6,
          7,
          8,
          9,
          10,
          11,
          12,
          13,
          14,
          15,
          16,
          17,
          18,
          19,
          20,
          21,
          22,
          23,
          24,
          25,
          26,
          27,
          28,
          29,
          30,
          31,
          32,
          33
         ],
         "y": [
          190546,
          301839,
          380235,
          441815,
          493278,
          537886,
          576850,
          611383,
          642020,
          669402,
          693917,
          715808,
          735468,
          753156,
          769019,
          783251,
          796033,
          807505,
          817796,
          827043,
          835311,
          842748,
          849412,
          855396,
          860789,
          865642,
          869998,
          873910,
          877438,
          880616,
          883463,
          886026,
          888337
         ]
        }
       ],
       "layout": {
        "template": {
         "data": {
          "bar": [
           {
            "error_x": {
             "color": "#2a3f5f"
            },
            "error_y": {
             "color": "#2a3f5f"
            },
            "marker": {
             "line": {
              "color": "#E5ECF6",
              "width": 0.5
             },
             "pattern": {
              "fillmode": "overlay",
              "size": 10,
              "solidity": 0.2
             }
            },
            "type": "bar"
           }
          ],
          "barpolar": [
           {
            "marker": {
             "line": {
              "color": "#E5ECF6",
              "width": 0.5
             },
             "pattern": {
              "fillmode": "overlay",
              "size": 10,
              "solidity": 0.2
             }
            },
            "type": "barpolar"
           }
          ],
          "carpet": [
           {
            "aaxis": {
             "endlinecolor": "#2a3f5f",
             "gridcolor": "white",
             "linecolor": "white",
             "minorgridcolor": "white",
             "startlinecolor": "#2a3f5f"
            },
            "baxis": {
             "endlinecolor": "#2a3f5f",
             "gridcolor": "white",
             "linecolor": "white",
             "minorgridcolor": "white",
             "startlinecolor": "#2a3f5f"
            },
            "type": "carpet"
           }
          ],
          "choropleth": [
           {
            "colorbar": {
             "outlinewidth": 0,
             "ticks": ""
            },
            "type": "choropleth"
           }
          ],
          "contour": [
           {
            "colorbar": {
             "outlinewidth": 0,
             "ticks": ""
            },
            "colorscale": [
             [
              0,
              "#0d0887"
             ],
             [
              0.1111111111111111,
              "#46039f"
             ],
             [
              0.2222222222222222,
              "#7201a8"
             ],
             [
              0.3333333333333333,
              "#9c179e"
             ],
             [
              0.4444444444444444,
              "#bd3786"
             ],
             [
              0.5555555555555556,
              "#d8576b"
             ],
             [
              0.6666666666666666,
              "#ed7953"
             ],
             [
              0.7777777777777778,
              "#fb9f3a"
             ],
             [
              0.8888888888888888,
              "#fdca26"
             ],
             [
              1,
              "#f0f921"
             ]
            ],
            "type": "contour"
           }
          ],
          "contourcarpet": [
           {
            "colorbar": {
             "outlinewidth": 0,
             "ticks": ""
            },
            "type": "contourcarpet"
           }
          ],
          "heatmap": [
           {
            "colorbar": {
             "outlinewidth": 0,
             "ticks": ""
            },
            "colorscale": [
             [
              0,
              "#0d0887"
             ],
             [
              0.1111111111111111,
              "#46039f"
             ],
             [
              0.2222222222222222,
              "#7201a8"
             ],
             [
              0.3333333333333333,
              "#9c179e"
             ],
             [
              0.4444444444444444,
              "#bd3786"
             ],
             [
              0.5555555555555556,
              "#d8576b"
             ],
             [
              0.6666666666666666,
              "#ed7953"
             ],
             [
              0.7777777777777778,
              "#fb9f3a"
             ],
             [
              0.8888888888888888,
              "#fdca26"
             ],
             [
              1,
              "#f0f921"
             ]
            ],
            "type": "heatmap"
           }
          ],
          "heatmapgl": [
           {
            "colorbar": {
             "outlinewidth": 0,
             "ticks": ""
            },
            "colorscale": [
             [
              0,
              "#0d0887"
             ],
             [
              0.1111111111111111,
              "#46039f"
             ],
             [
              0.2222222222222222,
              "#7201a8"
             ],
             [
              0.3333333333333333,
              "#9c179e"
             ],
             [
              0.4444444444444444,
              "#bd3786"
             ],
             [
              0.5555555555555556,
              "#d8576b"
             ],
             [
              0.6666666666666666,
              "#ed7953"
             ],
             [
              0.7777777777777778,
              "#fb9f3a"
             ],
             [
              0.8888888888888888,
              "#fdca26"
             ],
             [
              1,
              "#f0f921"
             ]
            ],
            "type": "heatmapgl"
           }
          ],
          "histogram": [
           {
            "marker": {
             "pattern": {
              "fillmode": "overlay",
              "size": 10,
              "solidity": 0.2
             }
            },
            "type": "histogram"
           }
          ],
          "histogram2d": [
           {
            "colorbar": {
             "outlinewidth": 0,
             "ticks": ""
            },
            "colorscale": [
             [
              0,
              "#0d0887"
             ],
             [
              0.1111111111111111,
              "#46039f"
             ],
             [
              0.2222222222222222,
              "#7201a8"
             ],
             [
              0.3333333333333333,
              "#9c179e"
             ],
             [
              0.4444444444444444,
              "#bd3786"
             ],
             [
              0.5555555555555556,
              "#d8576b"
             ],
             [
              0.6666666666666666,
              "#ed7953"
             ],
             [
              0.7777777777777778,
              "#fb9f3a"
             ],
             [
              0.8888888888888888,
              "#fdca26"
             ],
             [
              1,
              "#f0f921"
             ]
            ],
            "type": "histogram2d"
           }
          ],
          "histogram2dcontour": [
           {
            "colorbar": {
             "outlinewidth": 0,
             "ticks": ""
            },
            "colorscale": [
             [
              0,
              "#0d0887"
             ],
             [
              0.1111111111111111,
              "#46039f"
             ],
             [
              0.2222222222222222,
              "#7201a8"
             ],
             [
              0.3333333333333333,
              "#9c179e"
             ],
             [
              0.4444444444444444,
              "#bd3786"
             ],
             [
              0.5555555555555556,
              "#d8576b"
             ],
             [
              0.6666666666666666,
              "#ed7953"
             ],
             [
              0.7777777777777778,
              "#fb9f3a"
             ],
             [
              0.8888888888888888,
              "#fdca26"
             ],
             [
              1,
              "#f0f921"
             ]
            ],
            "type": "histogram2dcontour"
           }
          ],
          "mesh3d": [
           {
            "colorbar": {
             "outlinewidth": 0,
             "ticks": ""
            },
            "type": "mesh3d"
           }
          ],
          "parcoords": [
           {
            "line": {
             "colorbar": {
              "outlinewidth": 0,
              "ticks": ""
             }
            },
            "type": "parcoords"
           }
          ],
          "pie": [
           {
            "automargin": true,
            "type": "pie"
           }
          ],
          "scatter": [
           {
            "fillpattern": {
             "fillmode": "overlay",
             "size": 10,
             "solidity": 0.2
            },
            "type": "scatter"
           }
          ],
          "scatter3d": [
           {
            "line": {
             "colorbar": {
              "outlinewidth": 0,
              "ticks": ""
             }
            },
            "marker": {
             "colorbar": {
              "outlinewidth": 0,
              "ticks": ""
             }
            },
            "type": "scatter3d"
           }
          ],
          "scattercarpet": [
           {
            "marker": {
             "colorbar": {
              "outlinewidth": 0,
              "ticks": ""
             }
            },
            "type": "scattercarpet"
           }
          ],
          "scattergeo": [
           {
            "marker": {
             "colorbar": {
              "outlinewidth": 0,
              "ticks": ""
             }
            },
            "type": "scattergeo"
           }
          ],
          "scattergl": [
           {
            "marker": {
             "colorbar": {
              "outlinewidth": 0,
              "ticks": ""
             }
            },
            "type": "scattergl"
           }
          ],
          "scattermapbox": [
           {
            "marker": {
             "colorbar": {
              "outlinewidth": 0,
              "ticks": ""
             }
            },
            "type": "scattermapbox"
           }
          ],
          "scatterpolar": [
           {
            "marker": {
             "colorbar": {
              "outlinewidth": 0,
              "ticks": ""
             }
            },
            "type": "scatterpolar"
           }
          ],
          "scatterpolargl": [
           {
            "marker": {
             "colorbar": {
              "outlinewidth": 0,
              "ticks": ""
             }
            },
            "type": "scatterpolargl"
           }
          ],
          "scatterternary": [
           {
            "marker": {
             "colorbar": {
              "outlinewidth": 0,
              "ticks": ""
             }
            },
            "type": "scatterternary"
           }
          ],
          "surface": [
           {
            "colorbar": {
             "outlinewidth": 0,
             "ticks": ""
            },
            "colorscale": [
             [
              0,
              "#0d0887"
             ],
             [
              0.1111111111111111,
              "#46039f"
             ],
             [
              0.2222222222222222,
              "#7201a8"
             ],
             [
              0.3333333333333333,
              "#9c179e"
             ],
             [
              0.4444444444444444,
              "#bd3786"
             ],
             [
              0.5555555555555556,
              "#d8576b"
             ],
             [
              0.6666666666666666,
              "#ed7953"
             ],
             [
              0.7777777777777778,
              "#fb9f3a"
             ],
             [
              0.8888888888888888,
              "#fdca26"
             ],
             [
              1,
              "#f0f921"
             ]
            ],
            "type": "surface"
           }
          ],
          "table": [
           {
            "cells": {
             "fill": {
              "color": "#EBF0F8"
             },
             "line": {
              "color": "white"
             }
            },
            "header": {
             "fill": {
              "color": "#C8D4E3"
             },
             "line": {
              "color": "white"
             }
            },
            "type": "table"
           }
          ]
         },
         "layout": {
          "annotationdefaults": {
           "arrowcolor": "#2a3f5f",
           "arrowhead": 0,
           "arrowwidth": 1
          },
          "autotypenumbers": "strict",
          "coloraxis": {
           "colorbar": {
            "outlinewidth": 0,
            "ticks": ""
           }
          },
          "colorscale": {
           "diverging": [
            [
             0,
             "#8e0152"
            ],
            [
             0.1,
             "#c51b7d"
            ],
            [
             0.2,
             "#de77ae"
            ],
            [
             0.3,
             "#f1b6da"
            ],
            [
             0.4,
             "#fde0ef"
            ],
            [
             0.5,
             "#f7f7f7"
            ],
            [
             0.6,
             "#e6f5d0"
            ],
            [
             0.7,
             "#b8e186"
            ],
            [
             0.8,
             "#7fbc41"
            ],
            [
             0.9,
             "#4d9221"
            ],
            [
             1,
             "#276419"
            ]
           ],
           "sequential": [
            [
             0,
             "#0d0887"
            ],
            [
             0.1111111111111111,
             "#46039f"
            ],
            [
             0.2222222222222222,
             "#7201a8"
            ],
            [
             0.3333333333333333,
             "#9c179e"
            ],
            [
             0.4444444444444444,
             "#bd3786"
            ],
            [
             0.5555555555555556,
             "#d8576b"
            ],
            [
             0.6666666666666666,
             "#ed7953"
            ],
            [
             0.7777777777777778,
             "#fb9f3a"
            ],
            [
             0.8888888888888888,
             "#fdca26"
            ],
            [
             1,
             "#f0f921"
            ]
           ],
           "sequentialminus": [
            [
             0,
             "#0d0887"
            ],
            [
             0.1111111111111111,
             "#46039f"
            ],
            [
             0.2222222222222222,
             "#7201a8"
            ],
            [
             0.3333333333333333,
             "#9c179e"
            ],
            [
             0.4444444444444444,
             "#bd3786"
            ],
            [
             0.5555555555555556,
             "#d8576b"
            ],
            [
             0.6666666666666666,
             "#ed7953"
            ],
            [
             0.7777777777777778,
             "#fb9f3a"
            ],
            [
             0.8888888888888888,
             "#fdca26"
            ],
            [
             1,
             "#f0f921"
            ]
           ]
          },
          "colorway": [
           "#636efa",
           "#EF553B",
           "#00cc96",
           "#ab63fa",
           "#FFA15A",
           "#19d3f3",
           "#FF6692",
           "#B6E880",
           "#FF97FF",
           "#FECB52"
          ],
          "font": {
           "color": "#2a3f5f"
          },
          "geo": {
           "bgcolor": "white",
           "lakecolor": "white",
           "landcolor": "#E5ECF6",
           "showlakes": true,
           "showland": true,
           "subunitcolor": "white"
          },
          "hoverlabel": {
           "align": "left"
          },
          "hovermode": "closest",
          "mapbox": {
           "style": "light"
          },
          "paper_bgcolor": "white",
          "plot_bgcolor": "#E5ECF6",
          "polar": {
           "angularaxis": {
            "gridcolor": "white",
            "linecolor": "white",
            "ticks": ""
           },
           "bgcolor": "#E5ECF6",
           "radialaxis": {
            "gridcolor": "white",
            "linecolor": "white",
            "ticks": ""
           }
          },
          "scene": {
           "xaxis": {
            "backgroundcolor": "#E5ECF6",
            "gridcolor": "white",
            "gridwidth": 2,
            "linecolor": "white",
            "showbackground": true,
            "ticks": "",
            "zerolinecolor": "white"
           },
           "yaxis": {
            "backgroundcolor": "#E5ECF6",
            "gridcolor": "white",
            "gridwidth": 2,
            "linecolor": "white",
            "showbackground": true,
            "ticks": "",
            "zerolinecolor": "white"
           },
           "zaxis": {
            "backgroundcolor": "#E5ECF6",
            "gridcolor": "white",
            "gridwidth": 2,
            "linecolor": "white",
            "showbackground": true,
            "ticks": "",
            "zerolinecolor": "white"
           }
          },
          "shapedefaults": {
           "line": {
            "color": "#2a3f5f"
           }
          },
          "ternary": {
           "aaxis": {
            "gridcolor": "white",
            "linecolor": "white",
            "ticks": ""
           },
           "baxis": {
            "gridcolor": "white",
            "linecolor": "white",
            "ticks": ""
           },
           "bgcolor": "#E5ECF6",
           "caxis": {
            "gridcolor": "white",
            "linecolor": "white",
            "ticks": ""
           }
          },
          "title": {
           "x": 0.05
          },
          "xaxis": {
           "automargin": true,
           "gridcolor": "white",
           "linecolor": "white",
           "ticks": "",
           "title": {
            "standoff": 15
           },
           "zerolinecolor": "white",
           "zerolinewidth": 2
          },
          "yaxis": {
           "automargin": true,
           "gridcolor": "white",
           "linecolor": "white",
           "ticks": "",
           "title": {
            "standoff": 15
           },
           "zerolinecolor": "white",
           "zerolinewidth": 2
          }
         }
        },
        "title": {
         "text": "Total Number of NFTs Minted in Each Journey"
        },
        "xaxis": {
         "title": {
          "text": "Journey"
         }
        },
        "yaxis": {
         "title": {
          "text": "Total NFTs Minted"
         }
        }
       }
      }
     },
     "metadata": {},
     "output_type": "display_data"
    },
    {
     "data": {
      "application/vnd.plotly.v1+json": {
       "config": {
        "plotlyServerURL": "https://plot.ly"
       },
       "data": [
        {
         "mode": "lines+markers",
         "name": "Evil Address Balance",
         "type": "scatter",
         "x": [
          0.3333333333333333,
          0.6666666666666666,
          1,
          1.3333333333333333,
          1.6666666666666665,
          2,
          2.3333333333333335,
          2.6666666666666665,
          3,
          3.3333333333333335,
          3.6666666666666665,
          4,
          4.333333333333333,
          4.666666666666667,
          5,
          5.333333333333333,
          5.666666666666667,
          6,
          6.333333333333333,
          6.666666666666667,
          7,
          7.333333333333333,
          7.666666666666667,
          8,
          8.333333333333334,
          8.666666666666666,
          9,
          9.333333333333334,
          9.666666666666666,
          10,
          10.333333333333334,
          10.666666666666666,
          11,
          11.333333333333334,
          11.666666666666666,
          12,
          12.333333333333334,
          12.666666666666666,
          13,
          13.333333333333334,
          13.666666666666666,
          14,
          14.333333333333334,
          14.666666666666666,
          15,
          15.333333333333334,
          15.666666666666666,
          16,
          16.333333333333332,
          16.666666666666668,
          17,
          17.333333333333332,
          17.666666666666668,
          18,
          18.333333333333332,
          18.666666666666668,
          19,
          19.333333333333332,
          19.666666666666668,
          20,
          20.333333333333332,
          20.666666666666668,
          21,
          21.333333333333332,
          21.666666666666668,
          22,
          22.333333333333332,
          22.666666666666668,
          23,
          23.333333333333332,
          23.666666666666668,
          24,
          24.333333333333332,
          24.666666666666668,
          25,
          25.333333333333332,
          25.666666666666668,
          26,
          26.333333333333332,
          26.666666666666668,
          27,
          27.333333333333332,
          27.666666666666668,
          28,
          28.333333333333332,
          28.666666666666668,
          29,
          29.333333333333332,
          29.666666666666668,
          30,
          30.333333333333332,
          30.666666666666668,
          31,
          31.333333333333332,
          31.666666666666668,
          32,
          32.333333333333336,
          32.666666666666664,
          33,
          33.333333333333336,
          33.666666666666664,
          34
         ],
         "y": [
          650000,
          650000,
          650000,
          582962,
          596216.0292914347,
          596216.0292914347,
          535882.0292914346,
          547789.8407129641,
          547789.8407129641,
          493488.840712964,
          504322.1827159994,
          504322.1827159994,
          455452.1827159994,
          465363.1942306533,
          465363.1942306533,
          421380.19423065335,
          430442.3063225547,
          430442.3063225547,
          390857.3063225547,
          398721.06424422585,
          398721.06424422585,
          363095.0642442258,
          370409.4271217304,
          370409.4271217304,
          338345.4271217304,
          344801.6265438013,
          344801.6265438013,
          315944.6265438012,
          321714.3052992721,
          321714.3052992721,
          295742.3052992721,
          300920.0741956279,
          300920.0741956279,
          277546.07419562794,
          282251.2840001704,
          282251.2840001704,
          261214.28400017045,
          265540.1935562233,
          265540.1935562233,
          246607.1935562233,
          250413.6958988921,
          250413.6958988921,
          233373.6958988921,
          236789.91664043986,
          236789.91664043986,
          221453.91664043986,
          224541.61084849012,
          224541.61084849012,
          210739.61084849012,
          213443.76093331774,
          213443.76093331774,
          201021.76093331774,
          203445.88139693384,
          203445.88139693384,
          192265.88139693384,
          194483.3218522973,
          194483.3218522973,
          184421.32185229732,
          186450.2543805047,
          186450.2543805047,
          177395.2543805047,
          179234.79360520857,
          179234.79360520857,
          171084.79360520857,
          172716.1613230119,
          172716.1613230119,
          165381.1613230119,
          166849.6627283358,
          166849.6627283358,
          160248.6627283358,
          161581.38647404162,
          161581.38647404162,
          155640.3864740416,
          156836.86612448844,
          156836.86612448844,
          151489.86612448844,
          152567.49494505484,
          152567.49494505484,
          147755.49494505487,
          148724.35740518008,
          148724.35740518008,
          144393.35740518008,
          145264.55914471345,
          145264.55914471345,
          141366.55914471345,
          142148.96069874358,
          142148.96069874358,
          138640.96069874358,
          139345.91287817413,
          139345.91287817413,
          136188.91287817413,
          136824.51410319784,
          136824.51410319784,
          133983.5141031978,
          134552.91526171923,
          134552.91526171923,
          131995.91526171923,
          132508.51625573935,
          132508.51625573935,
          130207.51625573935,
          130667.08842928355,
          130667.08842928355
         ]
        }
       ],
       "layout": {
        "template": {
         "data": {
          "bar": [
           {
            "error_x": {
             "color": "#2a3f5f"
            },
            "error_y": {
             "color": "#2a3f5f"
            },
            "marker": {
             "line": {
              "color": "#E5ECF6",
              "width": 0.5
             },
             "pattern": {
              "fillmode": "overlay",
              "size": 10,
              "solidity": 0.2
             }
            },
            "type": "bar"
           }
          ],
          "barpolar": [
           {
            "marker": {
             "line": {
              "color": "#E5ECF6",
              "width": 0.5
             },
             "pattern": {
              "fillmode": "overlay",
              "size": 10,
              "solidity": 0.2
             }
            },
            "type": "barpolar"
           }
          ],
          "carpet": [
           {
            "aaxis": {
             "endlinecolor": "#2a3f5f",
             "gridcolor": "white",
             "linecolor": "white",
             "minorgridcolor": "white",
             "startlinecolor": "#2a3f5f"
            },
            "baxis": {
             "endlinecolor": "#2a3f5f",
             "gridcolor": "white",
             "linecolor": "white",
             "minorgridcolor": "white",
             "startlinecolor": "#2a3f5f"
            },
            "type": "carpet"
           }
          ],
          "choropleth": [
           {
            "colorbar": {
             "outlinewidth": 0,
             "ticks": ""
            },
            "type": "choropleth"
           }
          ],
          "contour": [
           {
            "colorbar": {
             "outlinewidth": 0,
             "ticks": ""
            },
            "colorscale": [
             [
              0,
              "#0d0887"
             ],
             [
              0.1111111111111111,
              "#46039f"
             ],
             [
              0.2222222222222222,
              "#7201a8"
             ],
             [
              0.3333333333333333,
              "#9c179e"
             ],
             [
              0.4444444444444444,
              "#bd3786"
             ],
             [
              0.5555555555555556,
              "#d8576b"
             ],
             [
              0.6666666666666666,
              "#ed7953"
             ],
             [
              0.7777777777777778,
              "#fb9f3a"
             ],
             [
              0.8888888888888888,
              "#fdca26"
             ],
             [
              1,
              "#f0f921"
             ]
            ],
            "type": "contour"
           }
          ],
          "contourcarpet": [
           {
            "colorbar": {
             "outlinewidth": 0,
             "ticks": ""
            },
            "type": "contourcarpet"
           }
          ],
          "heatmap": [
           {
            "colorbar": {
             "outlinewidth": 0,
             "ticks": ""
            },
            "colorscale": [
             [
              0,
              "#0d0887"
             ],
             [
              0.1111111111111111,
              "#46039f"
             ],
             [
              0.2222222222222222,
              "#7201a8"
             ],
             [
              0.3333333333333333,
              "#9c179e"
             ],
             [
              0.4444444444444444,
              "#bd3786"
             ],
             [
              0.5555555555555556,
              "#d8576b"
             ],
             [
              0.6666666666666666,
              "#ed7953"
             ],
             [
              0.7777777777777778,
              "#fb9f3a"
             ],
             [
              0.8888888888888888,
              "#fdca26"
             ],
             [
              1,
              "#f0f921"
             ]
            ],
            "type": "heatmap"
           }
          ],
          "heatmapgl": [
           {
            "colorbar": {
             "outlinewidth": 0,
             "ticks": ""
            },
            "colorscale": [
             [
              0,
              "#0d0887"
             ],
             [
              0.1111111111111111,
              "#46039f"
             ],
             [
              0.2222222222222222,
              "#7201a8"
             ],
             [
              0.3333333333333333,
              "#9c179e"
             ],
             [
              0.4444444444444444,
              "#bd3786"
             ],
             [
              0.5555555555555556,
              "#d8576b"
             ],
             [
              0.6666666666666666,
              "#ed7953"
             ],
             [
              0.7777777777777778,
              "#fb9f3a"
             ],
             [
              0.8888888888888888,
              "#fdca26"
             ],
             [
              1,
              "#f0f921"
             ]
            ],
            "type": "heatmapgl"
           }
          ],
          "histogram": [
           {
            "marker": {
             "pattern": {
              "fillmode": "overlay",
              "size": 10,
              "solidity": 0.2
             }
            },
            "type": "histogram"
           }
          ],
          "histogram2d": [
           {
            "colorbar": {
             "outlinewidth": 0,
             "ticks": ""
            },
            "colorscale": [
             [
              0,
              "#0d0887"
             ],
             [
              0.1111111111111111,
              "#46039f"
             ],
             [
              0.2222222222222222,
              "#7201a8"
             ],
             [
              0.3333333333333333,
              "#9c179e"
             ],
             [
              0.4444444444444444,
              "#bd3786"
             ],
             [
              0.5555555555555556,
              "#d8576b"
             ],
             [
              0.6666666666666666,
              "#ed7953"
             ],
             [
              0.7777777777777778,
              "#fb9f3a"
             ],
             [
              0.8888888888888888,
              "#fdca26"
             ],
             [
              1,
              "#f0f921"
             ]
            ],
            "type": "histogram2d"
           }
          ],
          "histogram2dcontour": [
           {
            "colorbar": {
             "outlinewidth": 0,
             "ticks": ""
            },
            "colorscale": [
             [
              0,
              "#0d0887"
             ],
             [
              0.1111111111111111,
              "#46039f"
             ],
             [
              0.2222222222222222,
              "#7201a8"
             ],
             [
              0.3333333333333333,
              "#9c179e"
             ],
             [
              0.4444444444444444,
              "#bd3786"
             ],
             [
              0.5555555555555556,
              "#d8576b"
             ],
             [
              0.6666666666666666,
              "#ed7953"
             ],
             [
              0.7777777777777778,
              "#fb9f3a"
             ],
             [
              0.8888888888888888,
              "#fdca26"
             ],
             [
              1,
              "#f0f921"
             ]
            ],
            "type": "histogram2dcontour"
           }
          ],
          "mesh3d": [
           {
            "colorbar": {
             "outlinewidth": 0,
             "ticks": ""
            },
            "type": "mesh3d"
           }
          ],
          "parcoords": [
           {
            "line": {
             "colorbar": {
              "outlinewidth": 0,
              "ticks": ""
             }
            },
            "type": "parcoords"
           }
          ],
          "pie": [
           {
            "automargin": true,
            "type": "pie"
           }
          ],
          "scatter": [
           {
            "fillpattern": {
             "fillmode": "overlay",
             "size": 10,
             "solidity": 0.2
            },
            "type": "scatter"
           }
          ],
          "scatter3d": [
           {
            "line": {
             "colorbar": {
              "outlinewidth": 0,
              "ticks": ""
             }
            },
            "marker": {
             "colorbar": {
              "outlinewidth": 0,
              "ticks": ""
             }
            },
            "type": "scatter3d"
           }
          ],
          "scattercarpet": [
           {
            "marker": {
             "colorbar": {
              "outlinewidth": 0,
              "ticks": ""
             }
            },
            "type": "scattercarpet"
           }
          ],
          "scattergeo": [
           {
            "marker": {
             "colorbar": {
              "outlinewidth": 0,
              "ticks": ""
             }
            },
            "type": "scattergeo"
           }
          ],
          "scattergl": [
           {
            "marker": {
             "colorbar": {
              "outlinewidth": 0,
              "ticks": ""
             }
            },
            "type": "scattergl"
           }
          ],
          "scattermapbox": [
           {
            "marker": {
             "colorbar": {
              "outlinewidth": 0,
              "ticks": ""
             }
            },
            "type": "scattermapbox"
           }
          ],
          "scatterpolar": [
           {
            "marker": {
             "colorbar": {
              "outlinewidth": 0,
              "ticks": ""
             }
            },
            "type": "scatterpolar"
           }
          ],
          "scatterpolargl": [
           {
            "marker": {
             "colorbar": {
              "outlinewidth": 0,
              "ticks": ""
             }
            },
            "type": "scatterpolargl"
           }
          ],
          "scatterternary": [
           {
            "marker": {
             "colorbar": {
              "outlinewidth": 0,
              "ticks": ""
             }
            },
            "type": "scatterternary"
           }
          ],
          "surface": [
           {
            "colorbar": {
             "outlinewidth": 0,
             "ticks": ""
            },
            "colorscale": [
             [
              0,
              "#0d0887"
             ],
             [
              0.1111111111111111,
              "#46039f"
             ],
             [
              0.2222222222222222,
              "#7201a8"
             ],
             [
              0.3333333333333333,
              "#9c179e"
             ],
             [
              0.4444444444444444,
              "#bd3786"
             ],
             [
              0.5555555555555556,
              "#d8576b"
             ],
             [
              0.6666666666666666,
              "#ed7953"
             ],
             [
              0.7777777777777778,
              "#fb9f3a"
             ],
             [
              0.8888888888888888,
              "#fdca26"
             ],
             [
              1,
              "#f0f921"
             ]
            ],
            "type": "surface"
           }
          ],
          "table": [
           {
            "cells": {
             "fill": {
              "color": "#EBF0F8"
             },
             "line": {
              "color": "white"
             }
            },
            "header": {
             "fill": {
              "color": "#C8D4E3"
             },
             "line": {
              "color": "white"
             }
            },
            "type": "table"
           }
          ]
         },
         "layout": {
          "annotationdefaults": {
           "arrowcolor": "#2a3f5f",
           "arrowhead": 0,
           "arrowwidth": 1
          },
          "autotypenumbers": "strict",
          "coloraxis": {
           "colorbar": {
            "outlinewidth": 0,
            "ticks": ""
           }
          },
          "colorscale": {
           "diverging": [
            [
             0,
             "#8e0152"
            ],
            [
             0.1,
             "#c51b7d"
            ],
            [
             0.2,
             "#de77ae"
            ],
            [
             0.3,
             "#f1b6da"
            ],
            [
             0.4,
             "#fde0ef"
            ],
            [
             0.5,
             "#f7f7f7"
            ],
            [
             0.6,
             "#e6f5d0"
            ],
            [
             0.7,
             "#b8e186"
            ],
            [
             0.8,
             "#7fbc41"
            ],
            [
             0.9,
             "#4d9221"
            ],
            [
             1,
             "#276419"
            ]
           ],
           "sequential": [
            [
             0,
             "#0d0887"
            ],
            [
             0.1111111111111111,
             "#46039f"
            ],
            [
             0.2222222222222222,
             "#7201a8"
            ],
            [
             0.3333333333333333,
             "#9c179e"
            ],
            [
             0.4444444444444444,
             "#bd3786"
            ],
            [
             0.5555555555555556,
             "#d8576b"
            ],
            [
             0.6666666666666666,
             "#ed7953"
            ],
            [
             0.7777777777777778,
             "#fb9f3a"
            ],
            [
             0.8888888888888888,
             "#fdca26"
            ],
            [
             1,
             "#f0f921"
            ]
           ],
           "sequentialminus": [
            [
             0,
             "#0d0887"
            ],
            [
             0.1111111111111111,
             "#46039f"
            ],
            [
             0.2222222222222222,
             "#7201a8"
            ],
            [
             0.3333333333333333,
             "#9c179e"
            ],
            [
             0.4444444444444444,
             "#bd3786"
            ],
            [
             0.5555555555555556,
             "#d8576b"
            ],
            [
             0.6666666666666666,
             "#ed7953"
            ],
            [
             0.7777777777777778,
             "#fb9f3a"
            ],
            [
             0.8888888888888888,
             "#fdca26"
            ],
            [
             1,
             "#f0f921"
            ]
           ]
          },
          "colorway": [
           "#636efa",
           "#EF553B",
           "#00cc96",
           "#ab63fa",
           "#FFA15A",
           "#19d3f3",
           "#FF6692",
           "#B6E880",
           "#FF97FF",
           "#FECB52"
          ],
          "font": {
           "color": "#2a3f5f"
          },
          "geo": {
           "bgcolor": "white",
           "lakecolor": "white",
           "landcolor": "#E5ECF6",
           "showlakes": true,
           "showland": true,
           "subunitcolor": "white"
          },
          "hoverlabel": {
           "align": "left"
          },
          "hovermode": "closest",
          "mapbox": {
           "style": "light"
          },
          "paper_bgcolor": "white",
          "plot_bgcolor": "#E5ECF6",
          "polar": {
           "angularaxis": {
            "gridcolor": "white",
            "linecolor": "white",
            "ticks": ""
           },
           "bgcolor": "#E5ECF6",
           "radialaxis": {
            "gridcolor": "white",
            "linecolor": "white",
            "ticks": ""
           }
          },
          "scene": {
           "xaxis": {
            "backgroundcolor": "#E5ECF6",
            "gridcolor": "white",
            "gridwidth": 2,
            "linecolor": "white",
            "showbackground": true,
            "ticks": "",
            "zerolinecolor": "white"
           },
           "yaxis": {
            "backgroundcolor": "#E5ECF6",
            "gridcolor": "white",
            "gridwidth": 2,
            "linecolor": "white",
            "showbackground": true,
            "ticks": "",
            "zerolinecolor": "white"
           },
           "zaxis": {
            "backgroundcolor": "#E5ECF6",
            "gridcolor": "white",
            "gridwidth": 2,
            "linecolor": "white",
            "showbackground": true,
            "ticks": "",
            "zerolinecolor": "white"
           }
          },
          "shapedefaults": {
           "line": {
            "color": "#2a3f5f"
           }
          },
          "ternary": {
           "aaxis": {
            "gridcolor": "white",
            "linecolor": "white",
            "ticks": ""
           },
           "baxis": {
            "gridcolor": "white",
            "linecolor": "white",
            "ticks": ""
           },
           "bgcolor": "#E5ECF6",
           "caxis": {
            "gridcolor": "white",
            "linecolor": "white",
            "ticks": ""
           }
          },
          "title": {
           "x": 0.05
          },
          "xaxis": {
           "automargin": true,
           "gridcolor": "white",
           "linecolor": "white",
           "ticks": "",
           "title": {
            "standoff": 15
           },
           "zerolinecolor": "white",
           "zerolinewidth": 2
          },
          "yaxis": {
           "automargin": true,
           "gridcolor": "white",
           "linecolor": "white",
           "ticks": "",
           "title": {
            "standoff": 15
           },
           "zerolinecolor": "white",
           "zerolinewidth": 2
          }
         }
        },
        "title": {
         "text": "Change of Balance of Evil Address Across Each Journey and Their Phase"
        },
        "xaxis": {
         "title": {
          "text": "Journey and Phase"
         }
        },
        "yaxis": {
         "title": {
          "text": "Balance of Evil Address"
         }
        }
       }
      }
     },
     "metadata": {},
     "output_type": "display_data"
    },
    {
     "data": {
      "application/vnd.plotly.v1+json": {
       "config": {
        "plotlyServerURL": "https://plot.ly"
       },
       "data": [
        {
         "name": "Total Yield Generated",
         "type": "bar",
         "x": [
          1,
          2,
          3,
          4,
          5,
          6,
          7,
          8,
          9,
          10,
          11,
          12,
          13,
          14,
          15,
          16,
          17,
          18,
          19,
          20,
          21,
          22,
          23,
          24,
          25,
          26,
          27,
          28,
          29,
          30,
          31,
          32,
          33
         ],
         "y": [
          4401.612599999996,
          17649.32630999998,
          41452.41754499975,
          76550.59877849912,
          123213.1240216779,
          181432.36039097025,
          250950.52446825354,
          331385.340256171,
          422234.93701383134,
          522950.0025819116,
          632942.6143709011,
          751594.0730698984,
          878302.6325005273,
          1012480.8455196783,
          1153549.0360493534,
          1300953.1409911944,
          1454170.1580675747,
          1612706.1121497552,
          1776097.930016607,
          1943918.016032703,
          2115761.7145444984,
          2291265.4958834075,
          2470089.3272370854,
          2651924.2351820674,
          2836491.6484216754,
          3023535.1577310814,
          3212818.369950787,
          3404126.593288302,
          3597267.8972504274,
          3792066.886504012,
          3988360.7724744612,
          4186004.9889198006,
          4384869.327949772
         ]
        }
       ],
       "layout": {
        "template": {
         "data": {
          "bar": [
           {
            "error_x": {
             "color": "#2a3f5f"
            },
            "error_y": {
             "color": "#2a3f5f"
            },
            "marker": {
             "line": {
              "color": "#E5ECF6",
              "width": 0.5
             },
             "pattern": {
              "fillmode": "overlay",
              "size": 10,
              "solidity": 0.2
             }
            },
            "type": "bar"
           }
          ],
          "barpolar": [
           {
            "marker": {
             "line": {
              "color": "#E5ECF6",
              "width": 0.5
             },
             "pattern": {
              "fillmode": "overlay",
              "size": 10,
              "solidity": 0.2
             }
            },
            "type": "barpolar"
           }
          ],
          "carpet": [
           {
            "aaxis": {
             "endlinecolor": "#2a3f5f",
             "gridcolor": "white",
             "linecolor": "white",
             "minorgridcolor": "white",
             "startlinecolor": "#2a3f5f"
            },
            "baxis": {
             "endlinecolor": "#2a3f5f",
             "gridcolor": "white",
             "linecolor": "white",
             "minorgridcolor": "white",
             "startlinecolor": "#2a3f5f"
            },
            "type": "carpet"
           }
          ],
          "choropleth": [
           {
            "colorbar": {
             "outlinewidth": 0,
             "ticks": ""
            },
            "type": "choropleth"
           }
          ],
          "contour": [
           {
            "colorbar": {
             "outlinewidth": 0,
             "ticks": ""
            },
            "colorscale": [
             [
              0,
              "#0d0887"
             ],
             [
              0.1111111111111111,
              "#46039f"
             ],
             [
              0.2222222222222222,
              "#7201a8"
             ],
             [
              0.3333333333333333,
              "#9c179e"
             ],
             [
              0.4444444444444444,
              "#bd3786"
             ],
             [
              0.5555555555555556,
              "#d8576b"
             ],
             [
              0.6666666666666666,
              "#ed7953"
             ],
             [
              0.7777777777777778,
              "#fb9f3a"
             ],
             [
              0.8888888888888888,
              "#fdca26"
             ],
             [
              1,
              "#f0f921"
             ]
            ],
            "type": "contour"
           }
          ],
          "contourcarpet": [
           {
            "colorbar": {
             "outlinewidth": 0,
             "ticks": ""
            },
            "type": "contourcarpet"
           }
          ],
          "heatmap": [
           {
            "colorbar": {
             "outlinewidth": 0,
             "ticks": ""
            },
            "colorscale": [
             [
              0,
              "#0d0887"
             ],
             [
              0.1111111111111111,
              "#46039f"
             ],
             [
              0.2222222222222222,
              "#7201a8"
             ],
             [
              0.3333333333333333,
              "#9c179e"
             ],
             [
              0.4444444444444444,
              "#bd3786"
             ],
             [
              0.5555555555555556,
              "#d8576b"
             ],
             [
              0.6666666666666666,
              "#ed7953"
             ],
             [
              0.7777777777777778,
              "#fb9f3a"
             ],
             [
              0.8888888888888888,
              "#fdca26"
             ],
             [
              1,
              "#f0f921"
             ]
            ],
            "type": "heatmap"
           }
          ],
          "heatmapgl": [
           {
            "colorbar": {
             "outlinewidth": 0,
             "ticks": ""
            },
            "colorscale": [
             [
              0,
              "#0d0887"
             ],
             [
              0.1111111111111111,
              "#46039f"
             ],
             [
              0.2222222222222222,
              "#7201a8"
             ],
             [
              0.3333333333333333,
              "#9c179e"
             ],
             [
              0.4444444444444444,
              "#bd3786"
             ],
             [
              0.5555555555555556,
              "#d8576b"
             ],
             [
              0.6666666666666666,
              "#ed7953"
             ],
             [
              0.7777777777777778,
              "#fb9f3a"
             ],
             [
              0.8888888888888888,
              "#fdca26"
             ],
             [
              1,
              "#f0f921"
             ]
            ],
            "type": "heatmapgl"
           }
          ],
          "histogram": [
           {
            "marker": {
             "pattern": {
              "fillmode": "overlay",
              "size": 10,
              "solidity": 0.2
             }
            },
            "type": "histogram"
           }
          ],
          "histogram2d": [
           {
            "colorbar": {
             "outlinewidth": 0,
             "ticks": ""
            },
            "colorscale": [
             [
              0,
              "#0d0887"
             ],
             [
              0.1111111111111111,
              "#46039f"
             ],
             [
              0.2222222222222222,
              "#7201a8"
             ],
             [
              0.3333333333333333,
              "#9c179e"
             ],
             [
              0.4444444444444444,
              "#bd3786"
             ],
             [
              0.5555555555555556,
              "#d8576b"
             ],
             [
              0.6666666666666666,
              "#ed7953"
             ],
             [
              0.7777777777777778,
              "#fb9f3a"
             ],
             [
              0.8888888888888888,
              "#fdca26"
             ],
             [
              1,
              "#f0f921"
             ]
            ],
            "type": "histogram2d"
           }
          ],
          "histogram2dcontour": [
           {
            "colorbar": {
             "outlinewidth": 0,
             "ticks": ""
            },
            "colorscale": [
             [
              0,
              "#0d0887"
             ],
             [
              0.1111111111111111,
              "#46039f"
             ],
             [
              0.2222222222222222,
              "#7201a8"
             ],
             [
              0.3333333333333333,
              "#9c179e"
             ],
             [
              0.4444444444444444,
              "#bd3786"
             ],
             [
              0.5555555555555556,
              "#d8576b"
             ],
             [
              0.6666666666666666,
              "#ed7953"
             ],
             [
              0.7777777777777778,
              "#fb9f3a"
             ],
             [
              0.8888888888888888,
              "#fdca26"
             ],
             [
              1,
              "#f0f921"
             ]
            ],
            "type": "histogram2dcontour"
           }
          ],
          "mesh3d": [
           {
            "colorbar": {
             "outlinewidth": 0,
             "ticks": ""
            },
            "type": "mesh3d"
           }
          ],
          "parcoords": [
           {
            "line": {
             "colorbar": {
              "outlinewidth": 0,
              "ticks": ""
             }
            },
            "type": "parcoords"
           }
          ],
          "pie": [
           {
            "automargin": true,
            "type": "pie"
           }
          ],
          "scatter": [
           {
            "fillpattern": {
             "fillmode": "overlay",
             "size": 10,
             "solidity": 0.2
            },
            "type": "scatter"
           }
          ],
          "scatter3d": [
           {
            "line": {
             "colorbar": {
              "outlinewidth": 0,
              "ticks": ""
             }
            },
            "marker": {
             "colorbar": {
              "outlinewidth": 0,
              "ticks": ""
             }
            },
            "type": "scatter3d"
           }
          ],
          "scattercarpet": [
           {
            "marker": {
             "colorbar": {
              "outlinewidth": 0,
              "ticks": ""
             }
            },
            "type": "scattercarpet"
           }
          ],
          "scattergeo": [
           {
            "marker": {
             "colorbar": {
              "outlinewidth": 0,
              "ticks": ""
             }
            },
            "type": "scattergeo"
           }
          ],
          "scattergl": [
           {
            "marker": {
             "colorbar": {
              "outlinewidth": 0,
              "ticks": ""
             }
            },
            "type": "scattergl"
           }
          ],
          "scattermapbox": [
           {
            "marker": {
             "colorbar": {
              "outlinewidth": 0,
              "ticks": ""
             }
            },
            "type": "scattermapbox"
           }
          ],
          "scatterpolar": [
           {
            "marker": {
             "colorbar": {
              "outlinewidth": 0,
              "ticks": ""
             }
            },
            "type": "scatterpolar"
           }
          ],
          "scatterpolargl": [
           {
            "marker": {
             "colorbar": {
              "outlinewidth": 0,
              "ticks": ""
             }
            },
            "type": "scatterpolargl"
           }
          ],
          "scatterternary": [
           {
            "marker": {
             "colorbar": {
              "outlinewidth": 0,
              "ticks": ""
             }
            },
            "type": "scatterternary"
           }
          ],
          "surface": [
           {
            "colorbar": {
             "outlinewidth": 0,
             "ticks": ""
            },
            "colorscale": [
             [
              0,
              "#0d0887"
             ],
             [
              0.1111111111111111,
              "#46039f"
             ],
             [
              0.2222222222222222,
              "#7201a8"
             ],
             [
              0.3333333333333333,
              "#9c179e"
             ],
             [
              0.4444444444444444,
              "#bd3786"
             ],
             [
              0.5555555555555556,
              "#d8576b"
             ],
             [
              0.6666666666666666,
              "#ed7953"
             ],
             [
              0.7777777777777778,
              "#fb9f3a"
             ],
             [
              0.8888888888888888,
              "#fdca26"
             ],
             [
              1,
              "#f0f921"
             ]
            ],
            "type": "surface"
           }
          ],
          "table": [
           {
            "cells": {
             "fill": {
              "color": "#EBF0F8"
             },
             "line": {
              "color": "white"
             }
            },
            "header": {
             "fill": {
              "color": "#C8D4E3"
             },
             "line": {
              "color": "white"
             }
            },
            "type": "table"
           }
          ]
         },
         "layout": {
          "annotationdefaults": {
           "arrowcolor": "#2a3f5f",
           "arrowhead": 0,
           "arrowwidth": 1
          },
          "autotypenumbers": "strict",
          "coloraxis": {
           "colorbar": {
            "outlinewidth": 0,
            "ticks": ""
           }
          },
          "colorscale": {
           "diverging": [
            [
             0,
             "#8e0152"
            ],
            [
             0.1,
             "#c51b7d"
            ],
            [
             0.2,
             "#de77ae"
            ],
            [
             0.3,
             "#f1b6da"
            ],
            [
             0.4,
             "#fde0ef"
            ],
            [
             0.5,
             "#f7f7f7"
            ],
            [
             0.6,
             "#e6f5d0"
            ],
            [
             0.7,
             "#b8e186"
            ],
            [
             0.8,
             "#7fbc41"
            ],
            [
             0.9,
             "#4d9221"
            ],
            [
             1,
             "#276419"
            ]
           ],
           "sequential": [
            [
             0,
             "#0d0887"
            ],
            [
             0.1111111111111111,
             "#46039f"
            ],
            [
             0.2222222222222222,
             "#7201a8"
            ],
            [
             0.3333333333333333,
             "#9c179e"
            ],
            [
             0.4444444444444444,
             "#bd3786"
            ],
            [
             0.5555555555555556,
             "#d8576b"
            ],
            [
             0.6666666666666666,
             "#ed7953"
            ],
            [
             0.7777777777777778,
             "#fb9f3a"
            ],
            [
             0.8888888888888888,
             "#fdca26"
            ],
            [
             1,
             "#f0f921"
            ]
           ],
           "sequentialminus": [
            [
             0,
             "#0d0887"
            ],
            [
             0.1111111111111111,
             "#46039f"
            ],
            [
             0.2222222222222222,
             "#7201a8"
            ],
            [
             0.3333333333333333,
             "#9c179e"
            ],
            [
             0.4444444444444444,
             "#bd3786"
            ],
            [
             0.5555555555555556,
             "#d8576b"
            ],
            [
             0.6666666666666666,
             "#ed7953"
            ],
            [
             0.7777777777777778,
             "#fb9f3a"
            ],
            [
             0.8888888888888888,
             "#fdca26"
            ],
            [
             1,
             "#f0f921"
            ]
           ]
          },
          "colorway": [
           "#636efa",
           "#EF553B",
           "#00cc96",
           "#ab63fa",
           "#FFA15A",
           "#19d3f3",
           "#FF6692",
           "#B6E880",
           "#FF97FF",
           "#FECB52"
          ],
          "font": {
           "color": "#2a3f5f"
          },
          "geo": {
           "bgcolor": "white",
           "lakecolor": "white",
           "landcolor": "#E5ECF6",
           "showlakes": true,
           "showland": true,
           "subunitcolor": "white"
          },
          "hoverlabel": {
           "align": "left"
          },
          "hovermode": "closest",
          "mapbox": {
           "style": "light"
          },
          "paper_bgcolor": "white",
          "plot_bgcolor": "#E5ECF6",
          "polar": {
           "angularaxis": {
            "gridcolor": "white",
            "linecolor": "white",
            "ticks": ""
           },
           "bgcolor": "#E5ECF6",
           "radialaxis": {
            "gridcolor": "white",
            "linecolor": "white",
            "ticks": ""
           }
          },
          "scene": {
           "xaxis": {
            "backgroundcolor": "#E5ECF6",
            "gridcolor": "white",
            "gridwidth": 2,
            "linecolor": "white",
            "showbackground": true,
            "ticks": "",
            "zerolinecolor": "white"
           },
           "yaxis": {
            "backgroundcolor": "#E5ECF6",
            "gridcolor": "white",
            "gridwidth": 2,
            "linecolor": "white",
            "showbackground": true,
            "ticks": "",
            "zerolinecolor": "white"
           },
           "zaxis": {
            "backgroundcolor": "#E5ECF6",
            "gridcolor": "white",
            "gridwidth": 2,
            "linecolor": "white",
            "showbackground": true,
            "ticks": "",
            "zerolinecolor": "white"
           }
          },
          "shapedefaults": {
           "line": {
            "color": "#2a3f5f"
           }
          },
          "ternary": {
           "aaxis": {
            "gridcolor": "white",
            "linecolor": "white",
            "ticks": ""
           },
           "baxis": {
            "gridcolor": "white",
            "linecolor": "white",
            "ticks": ""
           },
           "bgcolor": "#E5ECF6",
           "caxis": {
            "gridcolor": "white",
            "linecolor": "white",
            "ticks": ""
           }
          },
          "title": {
           "x": 0.05
          },
          "xaxis": {
           "automargin": true,
           "gridcolor": "white",
           "linecolor": "white",
           "ticks": "",
           "title": {
            "standoff": 15
           },
           "zerolinecolor": "white",
           "zerolinewidth": 2
          },
          "yaxis": {
           "automargin": true,
           "gridcolor": "white",
           "linecolor": "white",
           "ticks": "",
           "title": {
            "standoff": 15
           },
           "zerolinecolor": "white",
           "zerolinewidth": 2
          }
         }
        },
        "title": {
         "text": "Total Yield Generated by NFTs Minted in Each Journey"
        },
        "xaxis": {
         "title": {
          "text": "Journey"
         }
        },
        "yaxis": {
         "title": {
          "text": "Total Yield"
         }
        }
       }
      }
     },
     "metadata": {},
     "output_type": "display_data"
    },
    {
     "data": {
      "application/vnd.plotly.v1+json": {
       "config": {
        "plotlyServerURL": "https://plot.ly"
       },
       "data": [
        {
         "mode": "lines+markers",
         "name": "Cumulative Yield for NFTs Minted in Journey 1",
         "type": "scatter",
         "x": [
          1,
          2,
          3,
          4,
          5,
          6,
          7,
          8,
          9,
          10,
          11,
          12,
          13,
          14,
          15,
          16,
          17,
          18,
          19,
          20,
          21,
          22,
          23,
          24,
          25,
          26,
          27,
          28,
          29,
          30,
          31,
          32,
          33
         ],
         "y": [
          0.023099999999999978,
          0.059692113715323264,
          0.10578821911769286,
          0.1593497029588641,
          0.21915007557229968,
          0.2843583014075292,
          0.35429015513313705,
          0.4284084640978994,
          0.5062409140050064,
          0.5873928993523755,
          0.6715168520986964,
          0.7582946632309212,
          0.8474558673496186,
          0.9387613977727274,
          1.0319900087118283,
          1.1269439731088886,
          1.2234475066388624,
          1.3213417972563644,
          1.4204836716594098,
          1.520746565133966,
          1.6220117929529854,
          1.7241786125136316,
          1.8271533125860704,
          1.9308534563833841,
          2.0352073966392963,
          2.140149668846548,
          2.245620021412348,
          2.3515646279640627,
          2.457936935963197,
          2.564694514710602,
          2.6717972368879397,
          2.7792106730136155,
          2.8869042729842422
         ]
        }
       ],
       "layout": {
        "template": {
         "data": {
          "bar": [
           {
            "error_x": {
             "color": "#2a3f5f"
            },
            "error_y": {
             "color": "#2a3f5f"
            },
            "marker": {
             "line": {
              "color": "#E5ECF6",
              "width": 0.5
             },
             "pattern": {
              "fillmode": "overlay",
              "size": 10,
              "solidity": 0.2
             }
            },
            "type": "bar"
           }
          ],
          "barpolar": [
           {
            "marker": {
             "line": {
              "color": "#E5ECF6",
              "width": 0.5
             },
             "pattern": {
              "fillmode": "overlay",
              "size": 10,
              "solidity": 0.2
             }
            },
            "type": "barpolar"
           }
          ],
          "carpet": [
           {
            "aaxis": {
             "endlinecolor": "#2a3f5f",
             "gridcolor": "white",
             "linecolor": "white",
             "minorgridcolor": "white",
             "startlinecolor": "#2a3f5f"
            },
            "baxis": {
             "endlinecolor": "#2a3f5f",
             "gridcolor": "white",
             "linecolor": "white",
             "minorgridcolor": "white",
             "startlinecolor": "#2a3f5f"
            },
            "type": "carpet"
           }
          ],
          "choropleth": [
           {
            "colorbar": {
             "outlinewidth": 0,
             "ticks": ""
            },
            "type": "choropleth"
           }
          ],
          "contour": [
           {
            "colorbar": {
             "outlinewidth": 0,
             "ticks": ""
            },
            "colorscale": [
             [
              0,
              "#0d0887"
             ],
             [
              0.1111111111111111,
              "#46039f"
             ],
             [
              0.2222222222222222,
              "#7201a8"
             ],
             [
              0.3333333333333333,
              "#9c179e"
             ],
             [
              0.4444444444444444,
              "#bd3786"
             ],
             [
              0.5555555555555556,
              "#d8576b"
             ],
             [
              0.6666666666666666,
              "#ed7953"
             ],
             [
              0.7777777777777778,
              "#fb9f3a"
             ],
             [
              0.8888888888888888,
              "#fdca26"
             ],
             [
              1,
              "#f0f921"
             ]
            ],
            "type": "contour"
           }
          ],
          "contourcarpet": [
           {
            "colorbar": {
             "outlinewidth": 0,
             "ticks": ""
            },
            "type": "contourcarpet"
           }
          ],
          "heatmap": [
           {
            "colorbar": {
             "outlinewidth": 0,
             "ticks": ""
            },
            "colorscale": [
             [
              0,
              "#0d0887"
             ],
             [
              0.1111111111111111,
              "#46039f"
             ],
             [
              0.2222222222222222,
              "#7201a8"
             ],
             [
              0.3333333333333333,
              "#9c179e"
             ],
             [
              0.4444444444444444,
              "#bd3786"
             ],
             [
              0.5555555555555556,
              "#d8576b"
             ],
             [
              0.6666666666666666,
              "#ed7953"
             ],
             [
              0.7777777777777778,
              "#fb9f3a"
             ],
             [
              0.8888888888888888,
              "#fdca26"
             ],
             [
              1,
              "#f0f921"
             ]
            ],
            "type": "heatmap"
           }
          ],
          "heatmapgl": [
           {
            "colorbar": {
             "outlinewidth": 0,
             "ticks": ""
            },
            "colorscale": [
             [
              0,
              "#0d0887"
             ],
             [
              0.1111111111111111,
              "#46039f"
             ],
             [
              0.2222222222222222,
              "#7201a8"
             ],
             [
              0.3333333333333333,
              "#9c179e"
             ],
             [
              0.4444444444444444,
              "#bd3786"
             ],
             [
              0.5555555555555556,
              "#d8576b"
             ],
             [
              0.6666666666666666,
              "#ed7953"
             ],
             [
              0.7777777777777778,
              "#fb9f3a"
             ],
             [
              0.8888888888888888,
              "#fdca26"
             ],
             [
              1,
              "#f0f921"
             ]
            ],
            "type": "heatmapgl"
           }
          ],
          "histogram": [
           {
            "marker": {
             "pattern": {
              "fillmode": "overlay",
              "size": 10,
              "solidity": 0.2
             }
            },
            "type": "histogram"
           }
          ],
          "histogram2d": [
           {
            "colorbar": {
             "outlinewidth": 0,
             "ticks": ""
            },
            "colorscale": [
             [
              0,
              "#0d0887"
             ],
             [
              0.1111111111111111,
              "#46039f"
             ],
             [
              0.2222222222222222,
              "#7201a8"
             ],
             [
              0.3333333333333333,
              "#9c179e"
             ],
             [
              0.4444444444444444,
              "#bd3786"
             ],
             [
              0.5555555555555556,
              "#d8576b"
             ],
             [
              0.6666666666666666,
              "#ed7953"
             ],
             [
              0.7777777777777778,
              "#fb9f3a"
             ],
             [
              0.8888888888888888,
              "#fdca26"
             ],
             [
              1,
              "#f0f921"
             ]
            ],
            "type": "histogram2d"
           }
          ],
          "histogram2dcontour": [
           {
            "colorbar": {
             "outlinewidth": 0,
             "ticks": ""
            },
            "colorscale": [
             [
              0,
              "#0d0887"
             ],
             [
              0.1111111111111111,
              "#46039f"
             ],
             [
              0.2222222222222222,
              "#7201a8"
             ],
             [
              0.3333333333333333,
              "#9c179e"
             ],
             [
              0.4444444444444444,
              "#bd3786"
             ],
             [
              0.5555555555555556,
              "#d8576b"
             ],
             [
              0.6666666666666666,
              "#ed7953"
             ],
             [
              0.7777777777777778,
              "#fb9f3a"
             ],
             [
              0.8888888888888888,
              "#fdca26"
             ],
             [
              1,
              "#f0f921"
             ]
            ],
            "type": "histogram2dcontour"
           }
          ],
          "mesh3d": [
           {
            "colorbar": {
             "outlinewidth": 0,
             "ticks": ""
            },
            "type": "mesh3d"
           }
          ],
          "parcoords": [
           {
            "line": {
             "colorbar": {
              "outlinewidth": 0,
              "ticks": ""
             }
            },
            "type": "parcoords"
           }
          ],
          "pie": [
           {
            "automargin": true,
            "type": "pie"
           }
          ],
          "scatter": [
           {
            "fillpattern": {
             "fillmode": "overlay",
             "size": 10,
             "solidity": 0.2
            },
            "type": "scatter"
           }
          ],
          "scatter3d": [
           {
            "line": {
             "colorbar": {
              "outlinewidth": 0,
              "ticks": ""
             }
            },
            "marker": {
             "colorbar": {
              "outlinewidth": 0,
              "ticks": ""
             }
            },
            "type": "scatter3d"
           }
          ],
          "scattercarpet": [
           {
            "marker": {
             "colorbar": {
              "outlinewidth": 0,
              "ticks": ""
             }
            },
            "type": "scattercarpet"
           }
          ],
          "scattergeo": [
           {
            "marker": {
             "colorbar": {
              "outlinewidth": 0,
              "ticks": ""
             }
            },
            "type": "scattergeo"
           }
          ],
          "scattergl": [
           {
            "marker": {
             "colorbar": {
              "outlinewidth": 0,
              "ticks": ""
             }
            },
            "type": "scattergl"
           }
          ],
          "scattermapbox": [
           {
            "marker": {
             "colorbar": {
              "outlinewidth": 0,
              "ticks": ""
             }
            },
            "type": "scattermapbox"
           }
          ],
          "scatterpolar": [
           {
            "marker": {
             "colorbar": {
              "outlinewidth": 0,
              "ticks": ""
             }
            },
            "type": "scatterpolar"
           }
          ],
          "scatterpolargl": [
           {
            "marker": {
             "colorbar": {
              "outlinewidth": 0,
              "ticks": ""
             }
            },
            "type": "scatterpolargl"
           }
          ],
          "scatterternary": [
           {
            "marker": {
             "colorbar": {
              "outlinewidth": 0,
              "ticks": ""
             }
            },
            "type": "scatterternary"
           }
          ],
          "surface": [
           {
            "colorbar": {
             "outlinewidth": 0,
             "ticks": ""
            },
            "colorscale": [
             [
              0,
              "#0d0887"
             ],
             [
              0.1111111111111111,
              "#46039f"
             ],
             [
              0.2222222222222222,
              "#7201a8"
             ],
             [
              0.3333333333333333,
              "#9c179e"
             ],
             [
              0.4444444444444444,
              "#bd3786"
             ],
             [
              0.5555555555555556,
              "#d8576b"
             ],
             [
              0.6666666666666666,
              "#ed7953"
             ],
             [
              0.7777777777777778,
              "#fb9f3a"
             ],
             [
              0.8888888888888888,
              "#fdca26"
             ],
             [
              1,
              "#f0f921"
             ]
            ],
            "type": "surface"
           }
          ],
          "table": [
           {
            "cells": {
             "fill": {
              "color": "#EBF0F8"
             },
             "line": {
              "color": "white"
             }
            },
            "header": {
             "fill": {
              "color": "#C8D4E3"
             },
             "line": {
              "color": "white"
             }
            },
            "type": "table"
           }
          ]
         },
         "layout": {
          "annotationdefaults": {
           "arrowcolor": "#2a3f5f",
           "arrowhead": 0,
           "arrowwidth": 1
          },
          "autotypenumbers": "strict",
          "coloraxis": {
           "colorbar": {
            "outlinewidth": 0,
            "ticks": ""
           }
          },
          "colorscale": {
           "diverging": [
            [
             0,
             "#8e0152"
            ],
            [
             0.1,
             "#c51b7d"
            ],
            [
             0.2,
             "#de77ae"
            ],
            [
             0.3,
             "#f1b6da"
            ],
            [
             0.4,
             "#fde0ef"
            ],
            [
             0.5,
             "#f7f7f7"
            ],
            [
             0.6,
             "#e6f5d0"
            ],
            [
             0.7,
             "#b8e186"
            ],
            [
             0.8,
             "#7fbc41"
            ],
            [
             0.9,
             "#4d9221"
            ],
            [
             1,
             "#276419"
            ]
           ],
           "sequential": [
            [
             0,
             "#0d0887"
            ],
            [
             0.1111111111111111,
             "#46039f"
            ],
            [
             0.2222222222222222,
             "#7201a8"
            ],
            [
             0.3333333333333333,
             "#9c179e"
            ],
            [
             0.4444444444444444,
             "#bd3786"
            ],
            [
             0.5555555555555556,
             "#d8576b"
            ],
            [
             0.6666666666666666,
             "#ed7953"
            ],
            [
             0.7777777777777778,
             "#fb9f3a"
            ],
            [
             0.8888888888888888,
             "#fdca26"
            ],
            [
             1,
             "#f0f921"
            ]
           ],
           "sequentialminus": [
            [
             0,
             "#0d0887"
            ],
            [
             0.1111111111111111,
             "#46039f"
            ],
            [
             0.2222222222222222,
             "#7201a8"
            ],
            [
             0.3333333333333333,
             "#9c179e"
            ],
            [
             0.4444444444444444,
             "#bd3786"
            ],
            [
             0.5555555555555556,
             "#d8576b"
            ],
            [
             0.6666666666666666,
             "#ed7953"
            ],
            [
             0.7777777777777778,
             "#fb9f3a"
            ],
            [
             0.8888888888888888,
             "#fdca26"
            ],
            [
             1,
             "#f0f921"
            ]
           ]
          },
          "colorway": [
           "#636efa",
           "#EF553B",
           "#00cc96",
           "#ab63fa",
           "#FFA15A",
           "#19d3f3",
           "#FF6692",
           "#B6E880",
           "#FF97FF",
           "#FECB52"
          ],
          "font": {
           "color": "#2a3f5f"
          },
          "geo": {
           "bgcolor": "white",
           "lakecolor": "white",
           "landcolor": "#E5ECF6",
           "showlakes": true,
           "showland": true,
           "subunitcolor": "white"
          },
          "hoverlabel": {
           "align": "left"
          },
          "hovermode": "closest",
          "mapbox": {
           "style": "light"
          },
          "paper_bgcolor": "white",
          "plot_bgcolor": "#E5ECF6",
          "polar": {
           "angularaxis": {
            "gridcolor": "white",
            "linecolor": "white",
            "ticks": ""
           },
           "bgcolor": "#E5ECF6",
           "radialaxis": {
            "gridcolor": "white",
            "linecolor": "white",
            "ticks": ""
           }
          },
          "scene": {
           "xaxis": {
            "backgroundcolor": "#E5ECF6",
            "gridcolor": "white",
            "gridwidth": 2,
            "linecolor": "white",
            "showbackground": true,
            "ticks": "",
            "zerolinecolor": "white"
           },
           "yaxis": {
            "backgroundcolor": "#E5ECF6",
            "gridcolor": "white",
            "gridwidth": 2,
            "linecolor": "white",
            "showbackground": true,
            "ticks": "",
            "zerolinecolor": "white"
           },
           "zaxis": {
            "backgroundcolor": "#E5ECF6",
            "gridcolor": "white",
            "gridwidth": 2,
            "linecolor": "white",
            "showbackground": true,
            "ticks": "",
            "zerolinecolor": "white"
           }
          },
          "shapedefaults": {
           "line": {
            "color": "#2a3f5f"
           }
          },
          "ternary": {
           "aaxis": {
            "gridcolor": "white",
            "linecolor": "white",
            "ticks": ""
           },
           "baxis": {
            "gridcolor": "white",
            "linecolor": "white",
            "ticks": ""
           },
           "bgcolor": "#E5ECF6",
           "caxis": {
            "gridcolor": "white",
            "linecolor": "white",
            "ticks": ""
           }
          },
          "title": {
           "x": 0.05
          },
          "xaxis": {
           "automargin": true,
           "gridcolor": "white",
           "linecolor": "white",
           "ticks": "",
           "title": {
            "standoff": 15
           },
           "zerolinecolor": "white",
           "zerolinewidth": 2
          },
          "yaxis": {
           "automargin": true,
           "gridcolor": "white",
           "linecolor": "white",
           "ticks": "",
           "title": {
            "standoff": 15
           },
           "zerolinecolor": "white",
           "zerolinewidth": 2
          }
         }
        },
        "title": {
         "text": "Cumulative Yield for NFTs Minted in Journey 1"
        },
        "xaxis": {
         "title": {
          "text": "Journey"
         }
        },
        "yaxis": {
         "title": {
          "text": "Cumulative Yield"
         }
        }
       }
      }
     },
     "metadata": {},
     "output_type": "display_data"
    },
    {
     "data": {
      "application/vnd.plotly.v1+json": {
       "config": {
        "plotlyServerURL": "https://plot.ly"
       },
       "data": [
        {
         "mode": "lines+markers",
         "name": "Dark Reserve in Pool",
         "type": "scatter",
         "x": [
          0.3333333333333333,
          0.6666666666666666,
          1,
          1.3333333333333333,
          1.6666666666666665,
          2,
          2.3333333333333335,
          2.6666666666666665,
          3,
          3.3333333333333335,
          3.6666666666666665,
          4,
          4.333333333333333,
          4.666666666666667,
          5,
          5.333333333333333,
          5.666666666666667,
          6,
          6.333333333333333,
          6.666666666666667,
          7,
          7.333333333333333,
          7.666666666666667,
          8,
          8.333333333333334,
          8.666666666666666,
          9,
          9.333333333333334,
          9.666666666666666,
          10,
          10.333333333333334,
          10.666666666666666,
          11,
          11.333333333333334,
          11.666666666666666,
          12,
          12.333333333333334,
          12.666666666666666,
          13,
          13.333333333333334,
          13.666666666666666,
          14,
          14.333333333333334,
          14.666666666666666,
          15,
          15.333333333333334,
          15.666666666666666,
          16,
          16.333333333333332,
          16.666666666666668,
          17,
          17.333333333333332,
          17.666666666666668,
          18,
          18.333333333333332,
          18.666666666666668,
          19,
          19.333333333333332,
          19.666666666666668,
          20,
          20.333333333333332,
          20.666666666666668,
          21,
          21.333333333333332,
          21.666666666666668,
          22,
          22.333333333333332,
          22.666666666666668,
          23,
          23.333333333333332,
          23.666666666666668,
          24,
          24.333333333333332,
          24.666666666666668,
          25,
          25.333333333333332,
          25.666666666666668,
          26,
          26.333333333333332,
          26.666666666666668,
          27,
          27.333333333333332,
          27.666666666666668,
          28,
          28.333333333333332,
          28.666666666666668,
          29,
          29.333333333333332,
          29.666666666666668,
          30,
          30.333333333333332,
          30.666666666666668,
          31,
          31.333333333333332,
          31.666666666666668,
          32,
          32.333333333333336,
          32.666666666666664,
          33,
          33.333333333333336,
          33.666666666666664,
          34
         ],
         "y": [
          100000,
          100000,
          100000,
          76155.37452838378,
          100497.89913633907,
          100759.43738219372,
          50168.899564440195,
          60278.86718996598,
          59883.28750430657,
          36280.195405566934,
          40955.648690177855,
          41063.6640234553,
          28698.422117229915,
          31102.369617716497,
          30956.989636329614,
          23428.507026428037,
          24635.879477234917,
          24581.160166288515,
          19812.386793660706,
          20868.613014236034,
          20786.522621666216,
          17529.537797768557,
          17955.613057731207,
          17994.701804552413,
          15554.940168897012,
          16046.689320482563,
          15978.725767413489,
          14206.534188309137,
          14538.489172999245,
          14498.092263118631,
          13106.48813697648,
          13449.432597841764,
          13389.57617509969,
          12283.178868452153,
          12546.74297712874,
          12522.696676241114,
          11698.490496066883,
          11728.862080982371,
          11614.941722676302,
          11044.168316275203,
          11133.758368829205,
          11196.201055043304,
          10553.418525046234,
          10663.619271750063,
          10590.723269192711,
          10071.623898457106,
          10203.42222447363,
          10132.87993540455,
          9769.110232113584,
          9840.640761255969,
          9887.130753123798,
          9482.395186542344,
          9719.940146066732,
          9643.24834794359,
          9359.434796252819,
          9479.135162288167,
          9417.23435058101,
          9230.569373981552,
          9237.038503907028,
          9270.003978530538,
          9068.696838694019,
          9064.13098853721,
          9022.566706375816,
          8972.520942523406,
          8979.279468855004,
          8970.276906855346,
          8873.60967459429,
          8905.829801661212,
          8936.43413851286,
          8786.165353908491,
          8882.223155781756,
          8851.280790242201,
          8794.403040232202,
          8785.749663054852,
          8820.100038339651,
          8771.55182528968,
          8724.64211422219,
          8720.874333723408,
          8720.132024852292,
          8702.889254679258,
          8676.236633040158,
          8667.187822097325,
          8683.507265565273,
          8690.38123168547,
          8633.943600266804,
          8648.77439960782,
          8610.663087185541,
          8645.08006513596,
          8605.748866402224,
          8605.16602849393,
          8651.796601802465,
          8616.693787454918,
          8678.525979687205,
          8650.23826218981,
          8603.423463663503,
          8674.264017885307,
          8639.26139643633,
          8635.009073377714,
          8628.850096943035,
          8540.16306610061,
          8575.28249416934,
          8526.995079805358
         ]
        }
       ],
       "layout": {
        "template": {
         "data": {
          "bar": [
           {
            "error_x": {
             "color": "#2a3f5f"
            },
            "error_y": {
             "color": "#2a3f5f"
            },
            "marker": {
             "line": {
              "color": "#E5ECF6",
              "width": 0.5
             },
             "pattern": {
              "fillmode": "overlay",
              "size": 10,
              "solidity": 0.2
             }
            },
            "type": "bar"
           }
          ],
          "barpolar": [
           {
            "marker": {
             "line": {
              "color": "#E5ECF6",
              "width": 0.5
             },
             "pattern": {
              "fillmode": "overlay",
              "size": 10,
              "solidity": 0.2
             }
            },
            "type": "barpolar"
           }
          ],
          "carpet": [
           {
            "aaxis": {
             "endlinecolor": "#2a3f5f",
             "gridcolor": "white",
             "linecolor": "white",
             "minorgridcolor": "white",
             "startlinecolor": "#2a3f5f"
            },
            "baxis": {
             "endlinecolor": "#2a3f5f",
             "gridcolor": "white",
             "linecolor": "white",
             "minorgridcolor": "white",
             "startlinecolor": "#2a3f5f"
            },
            "type": "carpet"
           }
          ],
          "choropleth": [
           {
            "colorbar": {
             "outlinewidth": 0,
             "ticks": ""
            },
            "type": "choropleth"
           }
          ],
          "contour": [
           {
            "colorbar": {
             "outlinewidth": 0,
             "ticks": ""
            },
            "colorscale": [
             [
              0,
              "#0d0887"
             ],
             [
              0.1111111111111111,
              "#46039f"
             ],
             [
              0.2222222222222222,
              "#7201a8"
             ],
             [
              0.3333333333333333,
              "#9c179e"
             ],
             [
              0.4444444444444444,
              "#bd3786"
             ],
             [
              0.5555555555555556,
              "#d8576b"
             ],
             [
              0.6666666666666666,
              "#ed7953"
             ],
             [
              0.7777777777777778,
              "#fb9f3a"
             ],
             [
              0.8888888888888888,
              "#fdca26"
             ],
             [
              1,
              "#f0f921"
             ]
            ],
            "type": "contour"
           }
          ],
          "contourcarpet": [
           {
            "colorbar": {
             "outlinewidth": 0,
             "ticks": ""
            },
            "type": "contourcarpet"
           }
          ],
          "heatmap": [
           {
            "colorbar": {
             "outlinewidth": 0,
             "ticks": ""
            },
            "colorscale": [
             [
              0,
              "#0d0887"
             ],
             [
              0.1111111111111111,
              "#46039f"
             ],
             [
              0.2222222222222222,
              "#7201a8"
             ],
             [
              0.3333333333333333,
              "#9c179e"
             ],
             [
              0.4444444444444444,
              "#bd3786"
             ],
             [
              0.5555555555555556,
              "#d8576b"
             ],
             [
              0.6666666666666666,
              "#ed7953"
             ],
             [
              0.7777777777777778,
              "#fb9f3a"
             ],
             [
              0.8888888888888888,
              "#fdca26"
             ],
             [
              1,
              "#f0f921"
             ]
            ],
            "type": "heatmap"
           }
          ],
          "heatmapgl": [
           {
            "colorbar": {
             "outlinewidth": 0,
             "ticks": ""
            },
            "colorscale": [
             [
              0,
              "#0d0887"
             ],
             [
              0.1111111111111111,
              "#46039f"
             ],
             [
              0.2222222222222222,
              "#7201a8"
             ],
             [
              0.3333333333333333,
              "#9c179e"
             ],
             [
              0.4444444444444444,
              "#bd3786"
             ],
             [
              0.5555555555555556,
              "#d8576b"
             ],
             [
              0.6666666666666666,
              "#ed7953"
             ],
             [
              0.7777777777777778,
              "#fb9f3a"
             ],
             [
              0.8888888888888888,
              "#fdca26"
             ],
             [
              1,
              "#f0f921"
             ]
            ],
            "type": "heatmapgl"
           }
          ],
          "histogram": [
           {
            "marker": {
             "pattern": {
              "fillmode": "overlay",
              "size": 10,
              "solidity": 0.2
             }
            },
            "type": "histogram"
           }
          ],
          "histogram2d": [
           {
            "colorbar": {
             "outlinewidth": 0,
             "ticks": ""
            },
            "colorscale": [
             [
              0,
              "#0d0887"
             ],
             [
              0.1111111111111111,
              "#46039f"
             ],
             [
              0.2222222222222222,
              "#7201a8"
             ],
             [
              0.3333333333333333,
              "#9c179e"
             ],
             [
              0.4444444444444444,
              "#bd3786"
             ],
             [
              0.5555555555555556,
              "#d8576b"
             ],
             [
              0.6666666666666666,
              "#ed7953"
             ],
             [
              0.7777777777777778,
              "#fb9f3a"
             ],
             [
              0.8888888888888888,
              "#fdca26"
             ],
             [
              1,
              "#f0f921"
             ]
            ],
            "type": "histogram2d"
           }
          ],
          "histogram2dcontour": [
           {
            "colorbar": {
             "outlinewidth": 0,
             "ticks": ""
            },
            "colorscale": [
             [
              0,
              "#0d0887"
             ],
             [
              0.1111111111111111,
              "#46039f"
             ],
             [
              0.2222222222222222,
              "#7201a8"
             ],
             [
              0.3333333333333333,
              "#9c179e"
             ],
             [
              0.4444444444444444,
              "#bd3786"
             ],
             [
              0.5555555555555556,
              "#d8576b"
             ],
             [
              0.6666666666666666,
              "#ed7953"
             ],
             [
              0.7777777777777778,
              "#fb9f3a"
             ],
             [
              0.8888888888888888,
              "#fdca26"
             ],
             [
              1,
              "#f0f921"
             ]
            ],
            "type": "histogram2dcontour"
           }
          ],
          "mesh3d": [
           {
            "colorbar": {
             "outlinewidth": 0,
             "ticks": ""
            },
            "type": "mesh3d"
           }
          ],
          "parcoords": [
           {
            "line": {
             "colorbar": {
              "outlinewidth": 0,
              "ticks": ""
             }
            },
            "type": "parcoords"
           }
          ],
          "pie": [
           {
            "automargin": true,
            "type": "pie"
           }
          ],
          "scatter": [
           {
            "fillpattern": {
             "fillmode": "overlay",
             "size": 10,
             "solidity": 0.2
            },
            "type": "scatter"
           }
          ],
          "scatter3d": [
           {
            "line": {
             "colorbar": {
              "outlinewidth": 0,
              "ticks": ""
             }
            },
            "marker": {
             "colorbar": {
              "outlinewidth": 0,
              "ticks": ""
             }
            },
            "type": "scatter3d"
           }
          ],
          "scattercarpet": [
           {
            "marker": {
             "colorbar": {
              "outlinewidth": 0,
              "ticks": ""
             }
            },
            "type": "scattercarpet"
           }
          ],
          "scattergeo": [
           {
            "marker": {
             "colorbar": {
              "outlinewidth": 0,
              "ticks": ""
             }
            },
            "type": "scattergeo"
           }
          ],
          "scattergl": [
           {
            "marker": {
             "colorbar": {
              "outlinewidth": 0,
              "ticks": ""
             }
            },
            "type": "scattergl"
           }
          ],
          "scattermapbox": [
           {
            "marker": {
             "colorbar": {
              "outlinewidth": 0,
              "ticks": ""
             }
            },
            "type": "scattermapbox"
           }
          ],
          "scatterpolar": [
           {
            "marker": {
             "colorbar": {
              "outlinewidth": 0,
              "ticks": ""
             }
            },
            "type": "scatterpolar"
           }
          ],
          "scatterpolargl": [
           {
            "marker": {
             "colorbar": {
              "outlinewidth": 0,
              "ticks": ""
             }
            },
            "type": "scatterpolargl"
           }
          ],
          "scatterternary": [
           {
            "marker": {
             "colorbar": {
              "outlinewidth": 0,
              "ticks": ""
             }
            },
            "type": "scatterternary"
           }
          ],
          "surface": [
           {
            "colorbar": {
             "outlinewidth": 0,
             "ticks": ""
            },
            "colorscale": [
             [
              0,
              "#0d0887"
             ],
             [
              0.1111111111111111,
              "#46039f"
             ],
             [
              0.2222222222222222,
              "#7201a8"
             ],
             [
              0.3333333333333333,
              "#9c179e"
             ],
             [
              0.4444444444444444,
              "#bd3786"
             ],
             [
              0.5555555555555556,
              "#d8576b"
             ],
             [
              0.6666666666666666,
              "#ed7953"
             ],
             [
              0.7777777777777778,
              "#fb9f3a"
             ],
             [
              0.8888888888888888,
              "#fdca26"
             ],
             [
              1,
              "#f0f921"
             ]
            ],
            "type": "surface"
           }
          ],
          "table": [
           {
            "cells": {
             "fill": {
              "color": "#EBF0F8"
             },
             "line": {
              "color": "white"
             }
            },
            "header": {
             "fill": {
              "color": "#C8D4E3"
             },
             "line": {
              "color": "white"
             }
            },
            "type": "table"
           }
          ]
         },
         "layout": {
          "annotationdefaults": {
           "arrowcolor": "#2a3f5f",
           "arrowhead": 0,
           "arrowwidth": 1
          },
          "autotypenumbers": "strict",
          "coloraxis": {
           "colorbar": {
            "outlinewidth": 0,
            "ticks": ""
           }
          },
          "colorscale": {
           "diverging": [
            [
             0,
             "#8e0152"
            ],
            [
             0.1,
             "#c51b7d"
            ],
            [
             0.2,
             "#de77ae"
            ],
            [
             0.3,
             "#f1b6da"
            ],
            [
             0.4,
             "#fde0ef"
            ],
            [
             0.5,
             "#f7f7f7"
            ],
            [
             0.6,
             "#e6f5d0"
            ],
            [
             0.7,
             "#b8e186"
            ],
            [
             0.8,
             "#7fbc41"
            ],
            [
             0.9,
             "#4d9221"
            ],
            [
             1,
             "#276419"
            ]
           ],
           "sequential": [
            [
             0,
             "#0d0887"
            ],
            [
             0.1111111111111111,
             "#46039f"
            ],
            [
             0.2222222222222222,
             "#7201a8"
            ],
            [
             0.3333333333333333,
             "#9c179e"
            ],
            [
             0.4444444444444444,
             "#bd3786"
            ],
            [
             0.5555555555555556,
             "#d8576b"
            ],
            [
             0.6666666666666666,
             "#ed7953"
            ],
            [
             0.7777777777777778,
             "#fb9f3a"
            ],
            [
             0.8888888888888888,
             "#fdca26"
            ],
            [
             1,
             "#f0f921"
            ]
           ],
           "sequentialminus": [
            [
             0,
             "#0d0887"
            ],
            [
             0.1111111111111111,
             "#46039f"
            ],
            [
             0.2222222222222222,
             "#7201a8"
            ],
            [
             0.3333333333333333,
             "#9c179e"
            ],
            [
             0.4444444444444444,
             "#bd3786"
            ],
            [
             0.5555555555555556,
             "#d8576b"
            ],
            [
             0.6666666666666666,
             "#ed7953"
            ],
            [
             0.7777777777777778,
             "#fb9f3a"
            ],
            [
             0.8888888888888888,
             "#fdca26"
            ],
            [
             1,
             "#f0f921"
            ]
           ]
          },
          "colorway": [
           "#636efa",
           "#EF553B",
           "#00cc96",
           "#ab63fa",
           "#FFA15A",
           "#19d3f3",
           "#FF6692",
           "#B6E880",
           "#FF97FF",
           "#FECB52"
          ],
          "font": {
           "color": "#2a3f5f"
          },
          "geo": {
           "bgcolor": "white",
           "lakecolor": "white",
           "landcolor": "#E5ECF6",
           "showlakes": true,
           "showland": true,
           "subunitcolor": "white"
          },
          "hoverlabel": {
           "align": "left"
          },
          "hovermode": "closest",
          "mapbox": {
           "style": "light"
          },
          "paper_bgcolor": "white",
          "plot_bgcolor": "#E5ECF6",
          "polar": {
           "angularaxis": {
            "gridcolor": "white",
            "linecolor": "white",
            "ticks": ""
           },
           "bgcolor": "#E5ECF6",
           "radialaxis": {
            "gridcolor": "white",
            "linecolor": "white",
            "ticks": ""
           }
          },
          "scene": {
           "xaxis": {
            "backgroundcolor": "#E5ECF6",
            "gridcolor": "white",
            "gridwidth": 2,
            "linecolor": "white",
            "showbackground": true,
            "ticks": "",
            "zerolinecolor": "white"
           },
           "yaxis": {
            "backgroundcolor": "#E5ECF6",
            "gridcolor": "white",
            "gridwidth": 2,
            "linecolor": "white",
            "showbackground": true,
            "ticks": "",
            "zerolinecolor": "white"
           },
           "zaxis": {
            "backgroundcolor": "#E5ECF6",
            "gridcolor": "white",
            "gridwidth": 2,
            "linecolor": "white",
            "showbackground": true,
            "ticks": "",
            "zerolinecolor": "white"
           }
          },
          "shapedefaults": {
           "line": {
            "color": "#2a3f5f"
           }
          },
          "ternary": {
           "aaxis": {
            "gridcolor": "white",
            "linecolor": "white",
            "ticks": ""
           },
           "baxis": {
            "gridcolor": "white",
            "linecolor": "white",
            "ticks": ""
           },
           "bgcolor": "#E5ECF6",
           "caxis": {
            "gridcolor": "white",
            "linecolor": "white",
            "ticks": ""
           }
          },
          "title": {
           "x": 0.05
          },
          "xaxis": {
           "automargin": true,
           "gridcolor": "white",
           "linecolor": "white",
           "ticks": "",
           "title": {
            "standoff": 15
           },
           "zerolinecolor": "white",
           "zerolinewidth": 2
          },
          "yaxis": {
           "automargin": true,
           "gridcolor": "white",
           "linecolor": "white",
           "ticks": "",
           "title": {
            "standoff": 15
           },
           "zerolinecolor": "white",
           "zerolinewidth": 2
          }
         }
        },
        "title": {
         "text": "Change in Dark Token Reserves in the Pool Across Journeys and Their Phase"
        },
        "xaxis": {
         "title": {
          "text": "Journey and Phase"
         }
        },
        "yaxis": {
         "title": {
          "text": "Dark Token Reserve"
         }
        }
       }
      }
     },
     "metadata": {},
     "output_type": "display_data"
    },
    {
     "data": {
      "application/vnd.plotly.v1+json": {
       "config": {
        "plotlyServerURL": "https://plot.ly"
       },
       "data": [
        {
         "mode": "lines+markers",
         "name": "DAI Reserve in Pool",
         "type": "scatter",
         "x": [
          0.3333333333333333,
          0.6666666666666666,
          1,
          1.3333333333333333,
          1.6666666666666665,
          2,
          2.3333333333333335,
          2.6666666666666665,
          3,
          3.3333333333333335,
          3.6666666666666665,
          4,
          4.333333333333333,
          4.666666666666667,
          5,
          5.333333333333333,
          5.666666666666667,
          6,
          6.333333333333333,
          6.666666666666667,
          7,
          7.333333333333333,
          7.666666666666667,
          8,
          8.333333333333334,
          8.666666666666666,
          9,
          9.333333333333334,
          9.666666666666666,
          10,
          10.333333333333334,
          10.666666666666666,
          11,
          11.333333333333334,
          11.666666666666666,
          12,
          12.333333333333334,
          12.666666666666666,
          13,
          13.333333333333334,
          13.666666666666666,
          14,
          14.333333333333334,
          14.666666666666666,
          15,
          15.333333333333334,
          15.666666666666666,
          16,
          16.333333333333332,
          16.666666666666668,
          17,
          17.333333333333332,
          17.666666666666668,
          18,
          18.333333333333332,
          18.666666666666668,
          19,
          19.333333333333332,
          19.666666666666668,
          20,
          20.333333333333332,
          20.666666666666668,
          21,
          21.333333333333332,
          21.666666666666668,
          22,
          22.333333333333332,
          22.666666666666668,
          23,
          23.333333333333332,
          23.666666666666668,
          24,
          24.333333333333332,
          24.666666666666668,
          25,
          25.333333333333332,
          25.666666666666668,
          26,
          26.333333333333332,
          26.666666666666668,
          27,
          27.333333333333332,
          27.666666666666668,
          28,
          28.333333333333332,
          28.666666666666668,
          29,
          29.333333333333332,
          29.666666666666668,
          30,
          30.333333333333332,
          30.666666666666668,
          31,
          31.333333333333332,
          31.666666666666668,
          32,
          32.333333333333336,
          32.666666666666664,
          33,
          33.333333333333336,
          33.666666666666664,
          34
         ],
         "y": [
          300000,
          300000,
          300000,
          391899.8334358152,
          262043.97806107736,
          259750.6876475984,
          520712.1058709315,
          410581.05824377626,
          411587.91999433626,
          678583.2167857608,
          587246.6369400414,
          584339.780361834,
          835685.173646643,
          763537.6974609869,
          766137.3912020111,
          1012385.3112608012,
          957719.702041375,
          958657.436643142,
          1189127.121052705,
          1123294.8935421838,
          1126970.5993738973,
          1336201.7567509944,
          1299679.0353394244,
          1295865.815172816,
          1498390.661557062,
          1448886.89238993,
          1453732.2693069272,
          1634994.0795697246,
          1594597.2791316728,
          1597876.746887969,
          1767306.6138551612,
          1719140.9319339988,
          1726150.288483211,
          1881323.6598557376,
          1839158.178430445,
          1842208.717162826,
          1971806.3802125256,
          1963679.1368298044,
          1981434.5075414083,
          2083168.9620495748,
          2064259.4749655623,
          2051906.2722574659,
          2176833.3483209787,
          2152261.915056901,
          2166132.116054186,
          2277084.594317162,
          2245266.9434684007,
          2259930.067067544,
          2342997.6958483704,
          2323107.1362571856,
          2310765.185650362,
          2408439.919688147,
          2345496.529723159,
          2363668.9863625667,
          2434645.2824817956,
          2401303.6587754097,
          2416461.820849191,
          2464230.846606707,
          2459383.086909058,
          2449148.5899326364,
          2502414.562468893,
          2500619.7537527173,
          2511583.6925828103,
          2523684.3874937426,
          2519891.3449731,
          2521661.401966802,
          2548368.161301591,
          2536608.7323293,
          2526688.8410400497,
          2569115.056018819,
          2539172.3231609296,
          2547082.767699918,
          2560885.1817644364,
          2560450.1751756696,
          2549173.554271348,
          2561001.3631648975,
          2573518.8014027355,
          2573627.169297458,
          2572653.472336062,
          2576308.549627326,
          2582690.992017948,
          2584256.1892560427,
          2576338.7893894315,
          2573420.5903146393,
          2588816.7620031983,
          2582444.0881682457,
          2593572.925456825,
          2581831.3445242248,
          2590260.8372991304,
          2589709.5264561633,
          2573802.843255324,
          2581805.3207199913,
          2561193.3091414627,
          2567439.608651556,
          2579232.2632941892,
          2557484.2011678647,
          2567339.4978290107,
          2566609.510055888,
          2567763.381361782,
          2592904.9634099067,
          2580251.088216958,
          2592843.2312505557
         ]
        }
       ],
       "layout": {
        "template": {
         "data": {
          "bar": [
           {
            "error_x": {
             "color": "#2a3f5f"
            },
            "error_y": {
             "color": "#2a3f5f"
            },
            "marker": {
             "line": {
              "color": "#E5ECF6",
              "width": 0.5
             },
             "pattern": {
              "fillmode": "overlay",
              "size": 10,
              "solidity": 0.2
             }
            },
            "type": "bar"
           }
          ],
          "barpolar": [
           {
            "marker": {
             "line": {
              "color": "#E5ECF6",
              "width": 0.5
             },
             "pattern": {
              "fillmode": "overlay",
              "size": 10,
              "solidity": 0.2
             }
            },
            "type": "barpolar"
           }
          ],
          "carpet": [
           {
            "aaxis": {
             "endlinecolor": "#2a3f5f",
             "gridcolor": "white",
             "linecolor": "white",
             "minorgridcolor": "white",
             "startlinecolor": "#2a3f5f"
            },
            "baxis": {
             "endlinecolor": "#2a3f5f",
             "gridcolor": "white",
             "linecolor": "white",
             "minorgridcolor": "white",
             "startlinecolor": "#2a3f5f"
            },
            "type": "carpet"
           }
          ],
          "choropleth": [
           {
            "colorbar": {
             "outlinewidth": 0,
             "ticks": ""
            },
            "type": "choropleth"
           }
          ],
          "contour": [
           {
            "colorbar": {
             "outlinewidth": 0,
             "ticks": ""
            },
            "colorscale": [
             [
              0,
              "#0d0887"
             ],
             [
              0.1111111111111111,
              "#46039f"
             ],
             [
              0.2222222222222222,
              "#7201a8"
             ],
             [
              0.3333333333333333,
              "#9c179e"
             ],
             [
              0.4444444444444444,
              "#bd3786"
             ],
             [
              0.5555555555555556,
              "#d8576b"
             ],
             [
              0.6666666666666666,
              "#ed7953"
             ],
             [
              0.7777777777777778,
              "#fb9f3a"
             ],
             [
              0.8888888888888888,
              "#fdca26"
             ],
             [
              1,
              "#f0f921"
             ]
            ],
            "type": "contour"
           }
          ],
          "contourcarpet": [
           {
            "colorbar": {
             "outlinewidth": 0,
             "ticks": ""
            },
            "type": "contourcarpet"
           }
          ],
          "heatmap": [
           {
            "colorbar": {
             "outlinewidth": 0,
             "ticks": ""
            },
            "colorscale": [
             [
              0,
              "#0d0887"
             ],
             [
              0.1111111111111111,
              "#46039f"
             ],
             [
              0.2222222222222222,
              "#7201a8"
             ],
             [
              0.3333333333333333,
              "#9c179e"
             ],
             [
              0.4444444444444444,
              "#bd3786"
             ],
             [
              0.5555555555555556,
              "#d8576b"
             ],
             [
              0.6666666666666666,
              "#ed7953"
             ],
             [
              0.7777777777777778,
              "#fb9f3a"
             ],
             [
              0.8888888888888888,
              "#fdca26"
             ],
             [
              1,
              "#f0f921"
             ]
            ],
            "type": "heatmap"
           }
          ],
          "heatmapgl": [
           {
            "colorbar": {
             "outlinewidth": 0,
             "ticks": ""
            },
            "colorscale": [
             [
              0,
              "#0d0887"
             ],
             [
              0.1111111111111111,
              "#46039f"
             ],
             [
              0.2222222222222222,
              "#7201a8"
             ],
             [
              0.3333333333333333,
              "#9c179e"
             ],
             [
              0.4444444444444444,
              "#bd3786"
             ],
             [
              0.5555555555555556,
              "#d8576b"
             ],
             [
              0.6666666666666666,
              "#ed7953"
             ],
             [
              0.7777777777777778,
              "#fb9f3a"
             ],
             [
              0.8888888888888888,
              "#fdca26"
             ],
             [
              1,
              "#f0f921"
             ]
            ],
            "type": "heatmapgl"
           }
          ],
          "histogram": [
           {
            "marker": {
             "pattern": {
              "fillmode": "overlay",
              "size": 10,
              "solidity": 0.2
             }
            },
            "type": "histogram"
           }
          ],
          "histogram2d": [
           {
            "colorbar": {
             "outlinewidth": 0,
             "ticks": ""
            },
            "colorscale": [
             [
              0,
              "#0d0887"
             ],
             [
              0.1111111111111111,
              "#46039f"
             ],
             [
              0.2222222222222222,
              "#7201a8"
             ],
             [
              0.3333333333333333,
              "#9c179e"
             ],
             [
              0.4444444444444444,
              "#bd3786"
             ],
             [
              0.5555555555555556,
              "#d8576b"
             ],
             [
              0.6666666666666666,
              "#ed7953"
             ],
             [
              0.7777777777777778,
              "#fb9f3a"
             ],
             [
              0.8888888888888888,
              "#fdca26"
             ],
             [
              1,
              "#f0f921"
             ]
            ],
            "type": "histogram2d"
           }
          ],
          "histogram2dcontour": [
           {
            "colorbar": {
             "outlinewidth": 0,
             "ticks": ""
            },
            "colorscale": [
             [
              0,
              "#0d0887"
             ],
             [
              0.1111111111111111,
              "#46039f"
             ],
             [
              0.2222222222222222,
              "#7201a8"
             ],
             [
              0.3333333333333333,
              "#9c179e"
             ],
             [
              0.4444444444444444,
              "#bd3786"
             ],
             [
              0.5555555555555556,
              "#d8576b"
             ],
             [
              0.6666666666666666,
              "#ed7953"
             ],
             [
              0.7777777777777778,
              "#fb9f3a"
             ],
             [
              0.8888888888888888,
              "#fdca26"
             ],
             [
              1,
              "#f0f921"
             ]
            ],
            "type": "histogram2dcontour"
           }
          ],
          "mesh3d": [
           {
            "colorbar": {
             "outlinewidth": 0,
             "ticks": ""
            },
            "type": "mesh3d"
           }
          ],
          "parcoords": [
           {
            "line": {
             "colorbar": {
              "outlinewidth": 0,
              "ticks": ""
             }
            },
            "type": "parcoords"
           }
          ],
          "pie": [
           {
            "automargin": true,
            "type": "pie"
           }
          ],
          "scatter": [
           {
            "fillpattern": {
             "fillmode": "overlay",
             "size": 10,
             "solidity": 0.2
            },
            "type": "scatter"
           }
          ],
          "scatter3d": [
           {
            "line": {
             "colorbar": {
              "outlinewidth": 0,
              "ticks": ""
             }
            },
            "marker": {
             "colorbar": {
              "outlinewidth": 0,
              "ticks": ""
             }
            },
            "type": "scatter3d"
           }
          ],
          "scattercarpet": [
           {
            "marker": {
             "colorbar": {
              "outlinewidth": 0,
              "ticks": ""
             }
            },
            "type": "scattercarpet"
           }
          ],
          "scattergeo": [
           {
            "marker": {
             "colorbar": {
              "outlinewidth": 0,
              "ticks": ""
             }
            },
            "type": "scattergeo"
           }
          ],
          "scattergl": [
           {
            "marker": {
             "colorbar": {
              "outlinewidth": 0,
              "ticks": ""
             }
            },
            "type": "scattergl"
           }
          ],
          "scattermapbox": [
           {
            "marker": {
             "colorbar": {
              "outlinewidth": 0,
              "ticks": ""
             }
            },
            "type": "scattermapbox"
           }
          ],
          "scatterpolar": [
           {
            "marker": {
             "colorbar": {
              "outlinewidth": 0,
              "ticks": ""
             }
            },
            "type": "scatterpolar"
           }
          ],
          "scatterpolargl": [
           {
            "marker": {
             "colorbar": {
              "outlinewidth": 0,
              "ticks": ""
             }
            },
            "type": "scatterpolargl"
           }
          ],
          "scatterternary": [
           {
            "marker": {
             "colorbar": {
              "outlinewidth": 0,
              "ticks": ""
             }
            },
            "type": "scatterternary"
           }
          ],
          "surface": [
           {
            "colorbar": {
             "outlinewidth": 0,
             "ticks": ""
            },
            "colorscale": [
             [
              0,
              "#0d0887"
             ],
             [
              0.1111111111111111,
              "#46039f"
             ],
             [
              0.2222222222222222,
              "#7201a8"
             ],
             [
              0.3333333333333333,
              "#9c179e"
             ],
             [
              0.4444444444444444,
              "#bd3786"
             ],
             [
              0.5555555555555556,
              "#d8576b"
             ],
             [
              0.6666666666666666,
              "#ed7953"
             ],
             [
              0.7777777777777778,
              "#fb9f3a"
             ],
             [
              0.8888888888888888,
              "#fdca26"
             ],
             [
              1,
              "#f0f921"
             ]
            ],
            "type": "surface"
           }
          ],
          "table": [
           {
            "cells": {
             "fill": {
              "color": "#EBF0F8"
             },
             "line": {
              "color": "white"
             }
            },
            "header": {
             "fill": {
              "color": "#C8D4E3"
             },
             "line": {
              "color": "white"
             }
            },
            "type": "table"
           }
          ]
         },
         "layout": {
          "annotationdefaults": {
           "arrowcolor": "#2a3f5f",
           "arrowhead": 0,
           "arrowwidth": 1
          },
          "autotypenumbers": "strict",
          "coloraxis": {
           "colorbar": {
            "outlinewidth": 0,
            "ticks": ""
           }
          },
          "colorscale": {
           "diverging": [
            [
             0,
             "#8e0152"
            ],
            [
             0.1,
             "#c51b7d"
            ],
            [
             0.2,
             "#de77ae"
            ],
            [
             0.3,
             "#f1b6da"
            ],
            [
             0.4,
             "#fde0ef"
            ],
            [
             0.5,
             "#f7f7f7"
            ],
            [
             0.6,
             "#e6f5d0"
            ],
            [
             0.7,
             "#b8e186"
            ],
            [
             0.8,
             "#7fbc41"
            ],
            [
             0.9,
             "#4d9221"
            ],
            [
             1,
             "#276419"
            ]
           ],
           "sequential": [
            [
             0,
             "#0d0887"
            ],
            [
             0.1111111111111111,
             "#46039f"
            ],
            [
             0.2222222222222222,
             "#7201a8"
            ],
            [
             0.3333333333333333,
             "#9c179e"
            ],
            [
             0.4444444444444444,
             "#bd3786"
            ],
            [
             0.5555555555555556,
             "#d8576b"
            ],
            [
             0.6666666666666666,
             "#ed7953"
            ],
            [
             0.7777777777777778,
             "#fb9f3a"
            ],
            [
             0.8888888888888888,
             "#fdca26"
            ],
            [
             1,
             "#f0f921"
            ]
           ],
           "sequentialminus": [
            [
             0,
             "#0d0887"
            ],
            [
             0.1111111111111111,
             "#46039f"
            ],
            [
             0.2222222222222222,
             "#7201a8"
            ],
            [
             0.3333333333333333,
             "#9c179e"
            ],
            [
             0.4444444444444444,
             "#bd3786"
            ],
            [
             0.5555555555555556,
             "#d8576b"
            ],
            [
             0.6666666666666666,
             "#ed7953"
            ],
            [
             0.7777777777777778,
             "#fb9f3a"
            ],
            [
             0.8888888888888888,
             "#fdca26"
            ],
            [
             1,
             "#f0f921"
            ]
           ]
          },
          "colorway": [
           "#636efa",
           "#EF553B",
           "#00cc96",
           "#ab63fa",
           "#FFA15A",
           "#19d3f3",
           "#FF6692",
           "#B6E880",
           "#FF97FF",
           "#FECB52"
          ],
          "font": {
           "color": "#2a3f5f"
          },
          "geo": {
           "bgcolor": "white",
           "lakecolor": "white",
           "landcolor": "#E5ECF6",
           "showlakes": true,
           "showland": true,
           "subunitcolor": "white"
          },
          "hoverlabel": {
           "align": "left"
          },
          "hovermode": "closest",
          "mapbox": {
           "style": "light"
          },
          "paper_bgcolor": "white",
          "plot_bgcolor": "#E5ECF6",
          "polar": {
           "angularaxis": {
            "gridcolor": "white",
            "linecolor": "white",
            "ticks": ""
           },
           "bgcolor": "#E5ECF6",
           "radialaxis": {
            "gridcolor": "white",
            "linecolor": "white",
            "ticks": ""
           }
          },
          "scene": {
           "xaxis": {
            "backgroundcolor": "#E5ECF6",
            "gridcolor": "white",
            "gridwidth": 2,
            "linecolor": "white",
            "showbackground": true,
            "ticks": "",
            "zerolinecolor": "white"
           },
           "yaxis": {
            "backgroundcolor": "#E5ECF6",
            "gridcolor": "white",
            "gridwidth": 2,
            "linecolor": "white",
            "showbackground": true,
            "ticks": "",
            "zerolinecolor": "white"
           },
           "zaxis": {
            "backgroundcolor": "#E5ECF6",
            "gridcolor": "white",
            "gridwidth": 2,
            "linecolor": "white",
            "showbackground": true,
            "ticks": "",
            "zerolinecolor": "white"
           }
          },
          "shapedefaults": {
           "line": {
            "color": "#2a3f5f"
           }
          },
          "ternary": {
           "aaxis": {
            "gridcolor": "white",
            "linecolor": "white",
            "ticks": ""
           },
           "baxis": {
            "gridcolor": "white",
            "linecolor": "white",
            "ticks": ""
           },
           "bgcolor": "#E5ECF6",
           "caxis": {
            "gridcolor": "white",
            "linecolor": "white",
            "ticks": ""
           }
          },
          "title": {
           "x": 0.05
          },
          "xaxis": {
           "automargin": true,
           "gridcolor": "white",
           "linecolor": "white",
           "ticks": "",
           "title": {
            "standoff": 15
           },
           "zerolinecolor": "white",
           "zerolinewidth": 2
          },
          "yaxis": {
           "automargin": true,
           "gridcolor": "white",
           "linecolor": "white",
           "ticks": "",
           "title": {
            "standoff": 15
           },
           "zerolinecolor": "white",
           "zerolinewidth": 2
          }
         }
        },
        "title": {
         "text": "Change in DAI Token Reserves in the Pool Across Journeys and Their Phase"
        },
        "xaxis": {
         "title": {
          "text": "Journey and Phase"
         }
        },
        "yaxis": {
         "title": {
          "text": "DAI Token Reserve"
         }
        }
       }
      }
     },
     "metadata": {},
     "output_type": "display_data"
    },
    {
     "data": {
      "application/vnd.plotly.v1+json": {
       "config": {
        "plotlyServerURL": "https://plot.ly"
       },
       "data": [
        {
         "hoverinfo": "x+y",
         "mode": "lines",
         "name": "Magic Box Account",
         "stackgroup": "one",
         "type": "scatter",
         "x": [
          0.3333333333333333,
          0.6666666666666666,
          1,
          1.3333333333333333,
          1.6666666666666665,
          2,
          2.3333333333333335,
          2.6666666666666665,
          3,
          3.3333333333333335,
          3.6666666666666665,
          4,
          4.333333333333333,
          4.666666666666667,
          5,
          5.333333333333333,
          5.666666666666667,
          6,
          6.333333333333333,
          6.666666666666667,
          7,
          7.333333333333333,
          7.666666666666667,
          8,
          8.333333333333334,
          8.666666666666666,
          9,
          9.333333333333334,
          9.666666666666666,
          10,
          10.333333333333334,
          10.666666666666666,
          11,
          11.333333333333334,
          11.666666666666666,
          12,
          12.333333333333334,
          12.666666666666666,
          13,
          13.333333333333334,
          13.666666666666666,
          14,
          14.333333333333334,
          14.666666666666666,
          15,
          15.333333333333334,
          15.666666666666666,
          16,
          16.333333333333332,
          16.666666666666668,
          17,
          17.333333333333332,
          17.666666666666668,
          18,
          18.333333333333332,
          18.666666666666668,
          19,
          19.333333333333332,
          19.666666666666668,
          20,
          20.333333333333332,
          20.666666666666668,
          21,
          21.333333333333332,
          21.666666666666668,
          22,
          22.333333333333332,
          22.666666666666668,
          23,
          23.333333333333332,
          23.666666666666668,
          24,
          24.333333333333332,
          24.666666666666668,
          25,
          25.333333333333332,
          25.666666666666668,
          26,
          26.333333333333332,
          26.666666666666668,
          27,
          27.333333333333332,
          27.666666666666668,
          28,
          28.333333333333332,
          28.666666666666668,
          29,
          29.333333333333332,
          29.666666666666668,
          30,
          30.333333333333332,
          30.666666666666668,
          31,
          31.333333333333332,
          31.666666666666668,
          32,
          32.333333333333336,
          32.666666666666664,
          33,
          33.333333333333336,
          33.666666666666664,
          34
         ],
         "y": [
          150000,
          150000,
          150000,
          150000,
          150000,
          150000,
          150000,
          150000,
          150000,
          150000,
          150000,
          150000,
          150000,
          150000,
          150000,
          150000,
          150000,
          150000,
          150000,
          150000,
          150000,
          150000,
          150000,
          150000,
          150000,
          150000,
          150000,
          150000,
          150000,
          150000,
          150000,
          150000,
          150000,
          150000,
          150000,
          150000,
          150000,
          150000,
          150000,
          150000,
          150000,
          150000,
          150000,
          150000,
          150000,
          150000,
          150000,
          150000,
          150000,
          150000,
          150000,
          150000,
          150000,
          150000,
          150000,
          150000,
          150000,
          150000,
          150000,
          150000,
          150000,
          150000,
          150000,
          150000,
          150000,
          150000,
          150000,
          150000,
          150000,
          150000,
          150000,
          150000,
          150000,
          150000,
          150000,
          150000,
          150000,
          150000,
          150000,
          150000,
          150000,
          150000,
          150000,
          150000,
          150000,
          150000,
          150000,
          150000,
          150000,
          150000,
          150000,
          150000,
          150000,
          150000,
          150000,
          150000,
          150000,
          150000,
          150000,
          150000,
          150000,
          150000
         ]
        },
        {
         "hoverinfo": "x+y",
         "mode": "lines",
         "name": "Pool",
         "stackgroup": "one",
         "type": "scatter",
         "x": [
          0.3333333333333333,
          0.6666666666666666,
          1,
          1.3333333333333333,
          1.6666666666666665,
          2,
          2.3333333333333335,
          2.6666666666666665,
          3,
          3.3333333333333335,
          3.6666666666666665,
          4,
          4.333333333333333,
          4.666666666666667,
          5,
          5.333333333333333,
          5.666666666666667,
          6,
          6.333333333333333,
          6.666666666666667,
          7,
          7.333333333333333,
          7.666666666666667,
          8,
          8.333333333333334,
          8.666666666666666,
          9,
          9.333333333333334,
          9.666666666666666,
          10,
          10.333333333333334,
          10.666666666666666,
          11,
          11.333333333333334,
          11.666666666666666,
          12,
          12.333333333333334,
          12.666666666666666,
          13,
          13.333333333333334,
          13.666666666666666,
          14,
          14.333333333333334,
          14.666666666666666,
          15,
          15.333333333333334,
          15.666666666666666,
          16,
          16.333333333333332,
          16.666666666666668,
          17,
          17.333333333333332,
          17.666666666666668,
          18,
          18.333333333333332,
          18.666666666666668,
          19,
          19.333333333333332,
          19.666666666666668,
          20,
          20.333333333333332,
          20.666666666666668,
          21,
          21.333333333333332,
          21.666666666666668,
          22,
          22.333333333333332,
          22.666666666666668,
          23,
          23.333333333333332,
          23.666666666666668,
          24,
          24.333333333333332,
          24.666666666666668,
          25,
          25.333333333333332,
          25.666666666666668,
          26,
          26.333333333333332,
          26.666666666666668,
          27,
          27.333333333333332,
          27.666666666666668,
          28,
          28.333333333333332,
          28.666666666666668,
          29,
          29.333333333333332,
          29.666666666666668,
          30,
          30.333333333333332,
          30.666666666666668,
          31,
          31.333333333333332,
          31.666666666666668,
          32,
          32.333333333333336,
          32.666666666666664,
          33,
          33.333333333333336,
          33.666666666666664,
          34
         ],
         "y": [
          100000,
          100000,
          100000,
          76155.37452838378,
          100497.89913633907,
          100759.43738219372,
          50168.899564440195,
          60278.86718996598,
          59883.28750430657,
          36280.195405566934,
          40955.648690177855,
          41063.6640234553,
          28698.422117229915,
          31102.369617716497,
          30956.989636329614,
          23428.507026428037,
          24635.879477234917,
          24581.160166288515,
          19812.386793660706,
          20868.613014236034,
          20786.522621666216,
          17529.537797768557,
          17955.613057731207,
          17994.701804552413,
          15554.940168897012,
          16046.689320482563,
          15978.725767413489,
          14206.534188309137,
          14538.489172999245,
          14498.092263118631,
          13106.48813697648,
          13449.432597841764,
          13389.57617509969,
          12283.178868452153,
          12546.74297712874,
          12522.696676241114,
          11698.490496066883,
          11728.862080982371,
          11614.941722676302,
          11044.168316275203,
          11133.758368829205,
          11196.201055043304,
          10553.418525046234,
          10663.619271750063,
          10590.723269192711,
          10071.623898457106,
          10203.42222447363,
          10132.87993540455,
          9769.110232113584,
          9840.640761255969,
          9887.130753123798,
          9482.395186542344,
          9719.940146066732,
          9643.24834794359,
          9359.434796252819,
          9479.135162288167,
          9417.23435058101,
          9230.569373981552,
          9237.038503907028,
          9270.003978530538,
          9068.696838694019,
          9064.13098853721,
          9022.566706375816,
          8972.520942523406,
          8979.279468855004,
          8970.276906855346,
          8873.60967459429,
          8905.829801661212,
          8936.43413851286,
          8786.165353908491,
          8882.223155781756,
          8851.280790242201,
          8794.403040232202,
          8785.749663054852,
          8820.100038339651,
          8771.55182528968,
          8724.64211422219,
          8720.874333723408,
          8720.132024852292,
          8702.889254679258,
          8676.236633040158,
          8667.187822097325,
          8683.507265565273,
          8690.38123168547,
          8633.943600266804,
          8648.77439960782,
          8610.663087185541,
          8645.08006513596,
          8605.748866402224,
          8605.16602849393,
          8651.796601802465,
          8616.693787454918,
          8678.525979687205,
          8650.23826218981,
          8603.423463663503,
          8674.264017885307,
          8639.26139643633,
          8635.009073377714,
          8628.850096943035,
          8540.16306610061,
          8575.28249416934,
          8526.995079805358
         ]
        },
        {
         "hoverinfo": "x+y",
         "mode": "lines",
         "name": "Treasury Account",
         "stackgroup": "one",
         "type": "scatter",
         "x": [
          0.3333333333333333,
          0.6666666666666666,
          1,
          1.3333333333333333,
          1.6666666666666665,
          2,
          2.3333333333333335,
          2.6666666666666665,
          3,
          3.3333333333333335,
          3.6666666666666665,
          4,
          4.333333333333333,
          4.666666666666667,
          5,
          5.333333333333333,
          5.666666666666667,
          6,
          6.333333333333333,
          6.666666666666667,
          7,
          7.333333333333333,
          7.666666666666667,
          8,
          8.333333333333334,
          8.666666666666666,
          9,
          9.333333333333334,
          9.666666666666666,
          10,
          10.333333333333334,
          10.666666666666666,
          11,
          11.333333333333334,
          11.666666666666666,
          12,
          12.333333333333334,
          12.666666666666666,
          13,
          13.333333333333334,
          13.666666666666666,
          14,
          14.333333333333334,
          14.666666666666666,
          15,
          15.333333333333334,
          15.666666666666666,
          16,
          16.333333333333332,
          16.666666666666668,
          17,
          17.333333333333332,
          17.666666666666668,
          18,
          18.333333333333332,
          18.666666666666668,
          19,
          19.333333333333332,
          19.666666666666668,
          20,
          20.333333333333332,
          20.666666666666668,
          21,
          21.333333333333332,
          21.666666666666668,
          22,
          22.333333333333332,
          22.666666666666668,
          23,
          23.333333333333332,
          23.666666666666668,
          24,
          24.333333333333332,
          24.666666666666668,
          25,
          25.333333333333332,
          25.666666666666668,
          26,
          26.333333333333332,
          26.666666666666668,
          27,
          27.333333333333332,
          27.666666666666668,
          28,
          28.333333333333332,
          28.666666666666668,
          29,
          29.333333333333332,
          29.666666666666668,
          30,
          30.333333333333332,
          30.666666666666668,
          31,
          31.333333333333332,
          31.666666666666668,
          32,
          32.333333333333336,
          32.666666666666664,
          33,
          33.333333333333336,
          33.666666666666664,
          34
         ],
         "y": [
          0,
          0,
          0,
          146720.41999999984,
          146720.41999999984,
          146720.41999999984,
          232416.02999999968,
          232416.02999999968,
          232416.02999999968,
          292780.94999999716,
          292780.94999999716,
          292780.94999999716,
          340197.5499999939,
          340197.5499999939,
          340197.5499999939,
          379824.05999999004,
          379824.05999999004,
          379824.05999999004,
          414172.21999998833,
          414172.21999998833,
          414172.21999998833,
          444174.499999989,
          444174.499999989,
          444174.499999989,
          470764.90999998694,
          470764.90999998694,
          470764.90999998694,
          494355.39999998664,
          494355.39999998664,
          494355.39999998664,
          515439.5399999938,
          515439.5399999938,
          515439.5399999938,
          534316.0900000148,
          534316.0900000148,
          534316.0900000148,
          551172.1600000305,
          551172.1600000305,
          551172.1600000305,
          566310.3600000438,
          566310.3600000438,
          566310.3600000438,
          579930.1200000559,
          579930.1200000559,
          579930.1200000559,
          592144.6300000655,
          592144.6300000655,
          592144.6300000655,
          603103.2700000734,
          603103.2700000734,
          603103.2700000734,
          612945.4100000799,
          612945.4100000799,
          612945.4100000799,
          621778.8500000852,
          621778.8500000852,
          621778.8500000852,
          629702.9200000893,
          629702.9200000893,
          629702.9200000893,
          636823.1100000928,
          636823.1100000928,
          636823.1100000928,
          643189.4700000947,
          643189.4700000947,
          643189.4700000947,
          648915.9600000965,
          648915.9600000965,
          648915.9600000965,
          654047.2400000977,
          654047.2400000977,
          654047.2400000977,
          658654.9200000984,
          658654.9200000984,
          658654.9200000984,
          662807.5300000992,
          662807.5300000992,
          662807.5300000992,
          666544.3400000999,
          666544.3400000999,
          666544.3400000999,
          669898.4600001002,
          669898.4600001002,
          669898.4600001002,
          672910.7000001003,
          672910.7000001003,
          672910.7000001003,
          675627.2600001005,
          675627.2600001005,
          675627.2600001005,
          678074.3200001008,
          678074.3200001008,
          678074.3200001008,
          680266.5100001008,
          680266.5100001008,
          680266.5100001008,
          682240.020000101,
          682240.020000101,
          682240.020000101,
          684019.490000101,
          684019.490000101,
          684019.490000101
         ]
        },
        {
         "hoverinfo": "x+y",
         "mode": "lines",
         "name": "Jackpot Account",
         "stackgroup": "one",
         "type": "scatter",
         "x": [
          0.3333333333333333,
          0.6666666666666666,
          1,
          1.3333333333333333,
          1.6666666666666665,
          2,
          2.3333333333333335,
          2.6666666666666665,
          3,
          3.3333333333333335,
          3.6666666666666665,
          4,
          4.333333333333333,
          4.666666666666667,
          5,
          5.333333333333333,
          5.666666666666667,
          6,
          6.333333333333333,
          6.666666666666667,
          7,
          7.333333333333333,
          7.666666666666667,
          8,
          8.333333333333334,
          8.666666666666666,
          9,
          9.333333333333334,
          9.666666666666666,
          10,
          10.333333333333334,
          10.666666666666666,
          11,
          11.333333333333334,
          11.666666666666666,
          12,
          12.333333333333334,
          12.666666666666666,
          13,
          13.333333333333334,
          13.666666666666666,
          14,
          14.333333333333334,
          14.666666666666666,
          15,
          15.333333333333334,
          15.666666666666666,
          16,
          16.333333333333332,
          16.666666666666668,
          17,
          17.333333333333332,
          17.666666666666668,
          18,
          18.333333333333332,
          18.666666666666668,
          19,
          19.333333333333332,
          19.666666666666668,
          20,
          20.333333333333332,
          20.666666666666668,
          21,
          21.333333333333332,
          21.666666666666668,
          22,
          22.333333333333332,
          22.666666666666668,
          23,
          23.333333333333332,
          23.666666666666668,
          24,
          24.333333333333332,
          24.666666666666668,
          25,
          25.333333333333332,
          25.666666666666668,
          26,
          26.333333333333332,
          26.666666666666668,
          27,
          27.333333333333332,
          27.666666666666668,
          28,
          28.333333333333332,
          28.666666666666668,
          29,
          29.333333333333332,
          29.666666666666668,
          30,
          30.333333333333332,
          30.666666666666668,
          31,
          31.333333333333332,
          31.666666666666668,
          32,
          32.333333333333336,
          32.666666666666664,
          33,
          33.333333333333336,
          33.666666666666664,
          34
         ],
         "y": [
          0,
          0,
          0,
          38109.199999999975,
          0.6669110046124231,
          0.6669110046124231,
          22259.266911004666,
          0.3895371716499767,
          0.3895371716499767,
          15679.58953717173,
          0.27439281661457215,
          0.27439281661457215,
          12316.274392816651,
          0.21553480181037799,
          0.21553480181037799,
          10292.8155348019,
          0.18012427174961232,
          0.18012427174961232,
          8921.780124271772,
          0.15613115204681094,
          0.15613115204681094,
          7792.9561311520165,
          0.1363767322137619,
          0.1363767322137619,
          6906.736376732042,
          0.12086788668359105,
          0.12086788668359105,
          6127.520867886389,
          0.10723161511788959,
          0.10723161511788959,
          5476.507231614865,
          0.09583887657304757,
          0.09583887657304757,
          4903.095838876368,
          0.08580417718530953,
          0.08580417718530953,
          4378.285804177032,
          0.07662000155939808,
          0.07662000155939808,
          3932.076620001431,
          0.06881134084719776,
          0.06881134084719776,
          3537.6688113407295,
          0.061909204225621295,
          0.061909204225621295,
          3172.6619092041315,
          0.055521583424010146,
          0.055521583424010146,
          2846.455521583348,
          0.04981297163396903,
          0.04981297163396903,
          2556.44981297157,
          0.044737871722077216,
          0.044737871722077216,
          2294.4447378716704,
          0.0401527829290913,
          0.0401527829290913,
          2058.2401527829275,
          0.036019202676556006,
          0.036019202676556006,
          1849.4360192026852,
          0.03236513032866384,
          0.03236513032866384,
          1653.6323651303335,
          0.028938566386180753,
          0.028938566386180753,
          1487.4289385663906,
          0.026030006424321073,
          0.026030006424321073,
          1332.8260300064271,
          0.023324455519691867,
          0.023324455519691867,
          1196.8233244555215,
          0.020944408180191942,
          0.020944408180191942,
          1078.6209444081824,
          0.018875866523842433,
          0.018875866523842433,
          970.6188758665254,
          0.016985830328145823,
          0.016985830328145823,
          871.216985830329,
          0.015246297251827912,
          0.015246297251827912,
          782.4152462972523,
          0.013692266809670173,
          0.013692266809670173,
          705.6136922668101,
          0.012348239614908607,
          0.012348239614908607,
          635.6123482396156,
          0.011123216094496513,
          0.011123216094496513,
          569.4111232160948,
          0.009964694655280937,
          0.009964694655280937,
          512.6099646946554,
          0.008970674381515664,
          0.008970674381515664,
          462.2089706743815,
          0.008088656986409148,
          0.008088656986409148
         ]
        },
        {
         "hoverinfo": "x+y",
         "mode": "lines",
         "name": "Evil Address Account",
         "stackgroup": "one",
         "type": "scatter",
         "x": [
          0.3333333333333333,
          0.6666666666666666,
          1,
          1.3333333333333333,
          1.6666666666666665,
          2,
          2.3333333333333335,
          2.6666666666666665,
          3,
          3.3333333333333335,
          3.6666666666666665,
          4,
          4.333333333333333,
          4.666666666666667,
          5,
          5.333333333333333,
          5.666666666666667,
          6,
          6.333333333333333,
          6.666666666666667,
          7,
          7.333333333333333,
          7.666666666666667,
          8,
          8.333333333333334,
          8.666666666666666,
          9,
          9.333333333333334,
          9.666666666666666,
          10,
          10.333333333333334,
          10.666666666666666,
          11,
          11.333333333333334,
          11.666666666666666,
          12,
          12.333333333333334,
          12.666666666666666,
          13,
          13.333333333333334,
          13.666666666666666,
          14,
          14.333333333333334,
          14.666666666666666,
          15,
          15.333333333333334,
          15.666666666666666,
          16,
          16.333333333333332,
          16.666666666666668,
          17,
          17.333333333333332,
          17.666666666666668,
          18,
          18.333333333333332,
          18.666666666666668,
          19,
          19.333333333333332,
          19.666666666666668,
          20,
          20.333333333333332,
          20.666666666666668,
          21,
          21.333333333333332,
          21.666666666666668,
          22,
          22.333333333333332,
          22.666666666666668,
          23,
          23.333333333333332,
          23.666666666666668,
          24,
          24.333333333333332,
          24.666666666666668,
          25,
          25.333333333333332,
          25.666666666666668,
          26,
          26.333333333333332,
          26.666666666666668,
          27,
          27.333333333333332,
          27.666666666666668,
          28,
          28.333333333333332,
          28.666666666666668,
          29,
          29.333333333333332,
          29.666666666666668,
          30,
          30.333333333333332,
          30.666666666666668,
          31,
          31.333333333333332,
          31.666666666666668,
          32,
          32.333333333333336,
          32.666666666666664,
          33,
          33.333333333333336,
          33.666666666666664,
          34
         ],
         "y": [
          650000,
          650000,
          650000,
          582962,
          596216.0292914347,
          596216.0292914347,
          535882.0292914346,
          547789.8407129641,
          547789.8407129641,
          493488.840712964,
          504322.1827159994,
          504322.1827159994,
          455452.1827159994,
          465363.1942306533,
          465363.1942306533,
          421380.19423065335,
          430442.3063225547,
          430442.3063225547,
          390857.3063225547,
          398721.06424422585,
          398721.06424422585,
          363095.0642442258,
          370409.4271217304,
          370409.4271217304,
          338345.4271217304,
          344801.6265438013,
          344801.6265438013,
          315944.6265438012,
          321714.3052992721,
          321714.3052992721,
          295742.3052992721,
          300920.0741956279,
          300920.0741956279,
          277546.07419562794,
          282251.2840001704,
          282251.2840001704,
          261214.28400017045,
          265540.1935562233,
          265540.1935562233,
          246607.1935562233,
          250413.6958988921,
          250413.6958988921,
          233373.6958988921,
          236789.91664043986,
          236789.91664043986,
          221453.91664043986,
          224541.61084849012,
          224541.61084849012,
          210739.61084849012,
          213443.76093331774,
          213443.76093331774,
          201021.76093331774,
          203445.88139693384,
          203445.88139693384,
          192265.88139693384,
          194483.3218522973,
          194483.3218522973,
          184421.32185229732,
          186450.2543805047,
          186450.2543805047,
          177395.2543805047,
          179234.79360520857,
          179234.79360520857,
          171084.79360520857,
          172716.1613230119,
          172716.1613230119,
          165381.1613230119,
          166849.6627283358,
          166849.6627283358,
          160248.6627283358,
          161581.38647404162,
          161581.38647404162,
          155640.3864740416,
          156836.86612448844,
          156836.86612448844,
          151489.86612448844,
          152567.49494505484,
          152567.49494505484,
          147755.49494505487,
          148724.35740518008,
          148724.35740518008,
          144393.35740518008,
          145264.55914471345,
          145264.55914471345,
          141366.55914471345,
          142148.96069874358,
          142148.96069874358,
          138640.96069874358,
          139345.91287817413,
          139345.91287817413,
          136188.91287817413,
          136824.51410319784,
          136824.51410319784,
          133983.5141031978,
          134552.91526171923,
          134552.91526171923,
          131995.91526171923,
          132508.51625573935,
          132508.51625573935,
          130207.51625573935,
          130667.08842928355,
          130667.08842928355
         ]
        },
        {
         "hoverinfo": "x+y",
         "mode": "lines",
         "name": "Public Account",
         "stackgroup": "one",
         "type": "scatter",
         "x": [
          0.3333333333333333,
          0.6666666666666666,
          1,
          1.3333333333333333,
          1.6666666666666665,
          2,
          2.3333333333333335,
          2.6666666666666665,
          3,
          3.3333333333333335,
          3.6666666666666665,
          4,
          4.333333333333333,
          4.666666666666667,
          5,
          5.333333333333333,
          5.666666666666667,
          6,
          6.333333333333333,
          6.666666666666667,
          7,
          7.333333333333333,
          7.666666666666667,
          8,
          8.333333333333334,
          8.666666666666666,
          9,
          9.333333333333334,
          9.666666666666666,
          10,
          10.333333333333334,
          10.666666666666666,
          11,
          11.333333333333334,
          11.666666666666666,
          12,
          12.333333333333334,
          12.666666666666666,
          13,
          13.333333333333334,
          13.666666666666666,
          14,
          14.333333333333334,
          14.666666666666666,
          15,
          15.333333333333334,
          15.666666666666666,
          16,
          16.333333333333332,
          16.666666666666668,
          17,
          17.333333333333332,
          17.666666666666668,
          18,
          18.333333333333332,
          18.666666666666668,
          19,
          19.333333333333332,
          19.666666666666668,
          20,
          20.333333333333332,
          20.666666666666668,
          21,
          21.333333333333332,
          21.666666666666668,
          22,
          22.333333333333332,
          22.666666666666668,
          23,
          23.333333333333332,
          23.666666666666668,
          24,
          24.333333333333332,
          24.666666666666668,
          25,
          25.333333333333332,
          25.666666666666668,
          26,
          26.333333333333332,
          26.666666666666668,
          27,
          27.333333333333332,
          27.666666666666668,
          28,
          28.333333333333332,
          28.666666666666668,
          29,
          29.333333333333332,
          29.666666666666668,
          30,
          30.333333333333332,
          30.666666666666668,
          31,
          31.333333333333332,
          31.666666666666668,
          32,
          32.333333333333336,
          32.666666666666664,
          33,
          33.333333333333336,
          33.666666666666664,
          34
         ],
         "y": [
          100000,
          100000,
          100000,
          336.6254716158443,
          848.6046611975396,
          587.0664153429566,
          218.60423309645245,
          459.7025598915177,
          855.2822455509519,
          363.37434429062046,
          533.8942010119132,
          425.8788677345036,
          81.12077395993491,
          82.22061683390075,
          227.6005982208003,
          276.08320812235684,
          299.23407594332934,
          353.95338688973055,
          99.72675951762375,
          101.3666103926198,
          183.4570029624601,
          102.44182686011548,
          154.82344381899512,
          115.73469699785133,
          86.49633265322922,
          45.16326783937706,
          113.12682090846923,
          105.31840001281311,
          131.0982961246376,
          171.49520600522868,
          153.09933214740664,
          108.79736766461336,
          168.6537904066941,
          134.05109705422427,
          68.28721853255102,
          92.33351942017745,
          62.53969959444086,
          84.46774280381663,
          198.38810110989874,
          42.161507510982226,
          78.07692095049082,
          15.634234736387329,
          10.416764733462218,
          21.602178616774086,
          94.49818117414412,
          86.5975519097661,
          39.71140546466675,
          110.25369453373688,
          44.02339782468382,
          114.7484924656996,
          68.25850059787015,
          112.99406717931326,
          7.733719137794249,
          84.42551726095118,
          76.23906895176009,
          33.502832642114996,
          95.40364434927837,
          53.06862094875028,
          75.8710963961318,
          42.905621772597364,
          52.21276160911577,
          66.64304113332535,
          108.20732329473671,
          40.25308714716343,
          55.730269577038236,
          64.73283157666792,
          59.40006383774025,
          46.08144000759699,
          15.47710315593667,
          102.7458877603041,
          6.767045732173487,
          37.70941127172821,
          51.58716128171284,
          60.563268058965846,
          26.212892774186265,
          28.761105824139044,
          76.64406486684759,
          80.41184536560486,
          40.154154236708735,
          59.136354320177176,
          85.7889759592947,
          69.83778690214213,
          53.518343434152484,
          46.644377313974466,
          89.08200873265784,
          74.25120939166267,
          112.36252181395952,
          57.945543863569654,
          97.92590719415311,
          98.50874510243798,
          30.878171793882093,
          65.98098614144543,
          4.14879390913714,
          26.43651140653799,
          73.25130993285617,
          2.410755711033298,
          31.41337716001377,
          35.66570021859128,
          41.824676653246435,
          120.51170749565102,
          88.02098790015332,
          136.30840226413403
         ]
        },
        {
         "hoverinfo": "x+y",
         "mode": "lines",
         "name": "Team Account",
         "stackgroup": "one",
         "type": "scatter",
         "x": [
          0.3333333333333333,
          0.6666666666666666,
          1,
          1.3333333333333333,
          1.6666666666666665,
          2,
          2.3333333333333335,
          2.6666666666666665,
          3,
          3.3333333333333335,
          3.6666666666666665,
          4,
          4.333333333333333,
          4.666666666666667,
          5,
          5.333333333333333,
          5.666666666666667,
          6,
          6.333333333333333,
          6.666666666666667,
          7,
          7.333333333333333,
          7.666666666666667,
          8,
          8.333333333333334,
          8.666666666666666,
          9,
          9.333333333333334,
          9.666666666666666,
          10,
          10.333333333333334,
          10.666666666666666,
          11,
          11.333333333333334,
          11.666666666666666,
          12,
          12.333333333333334,
          12.666666666666666,
          13,
          13.333333333333334,
          13.666666666666666,
          14,
          14.333333333333334,
          14.666666666666666,
          15,
          15.333333333333334,
          15.666666666666666,
          16,
          16.333333333333332,
          16.666666666666668,
          17,
          17.333333333333332,
          17.666666666666668,
          18,
          18.333333333333332,
          18.666666666666668,
          19,
          19.333333333333332,
          19.666666666666668,
          20,
          20.333333333333332,
          20.666666666666668,
          21,
          21.333333333333332,
          21.666666666666668,
          22,
          22.333333333333332,
          22.666666666666668,
          23,
          23.333333333333332,
          23.666666666666668,
          24,
          24.333333333333332,
          24.666666666666668,
          25,
          25.333333333333332,
          25.666666666666668,
          26,
          26.333333333333332,
          26.666666666666668,
          27,
          27.333333333333332,
          27.666666666666668,
          28,
          28.333333333333332,
          28.666666666666668,
          29,
          29.333333333333332,
          29.666666666666668,
          30,
          30.333333333333332,
          30.666666666666668,
          31,
          31.333333333333332,
          31.666666666666668,
          32,
          32.333333333333336,
          32.666666666666664,
          33,
          33.333333333333336,
          33.666666666666664,
          34
         ],
         "y": [
          0,
          0,
          0,
          5716.380000000009,
          5716.380000000009,
          5716.380000000009,
          9055.170000000007,
          9055.170000000007,
          9055.170000000007,
          11407.04999999998,
          11407.04999999998,
          11407.04999999998,
          13254.449999999957,
          13254.449999999957,
          13254.449999999957,
          14798.34000000001,
          14798.34000000001,
          14798.34000000001,
          16136.58000000029,
          16136.58000000029,
          16136.58000000029,
          17305.500000000247,
          17305.500000000247,
          17305.500000000247,
          18341.490000000373,
          18341.490000000373,
          18341.490000000373,
          19260.60000000039,
          19260.60000000039,
          19260.60000000039,
          20082.059999999943,
          20082.059999999943,
          20082.059999999943,
          20817.5099999991,
          20817.5099999991,
          20817.5099999991,
          21474.23999999813,
          21474.23999999813,
          21474.23999999813,
          22064.03999999731,
          22064.03999999731,
          22064.03999999731,
          22594.679999996555,
          22594.679999996555,
          22594.679999996555,
          23070.569999995954,
          23070.569999995954,
          23070.569999995954,
          23497.52999999547,
          23497.52999999547,
          23497.52999999547,
          23880.989999995058,
          23880.989999995058,
          23880.989999995058,
          24225.14999999473,
          24225.14999999473,
          24225.14999999473,
          24533.879999994475,
          24533.879999994475,
          24533.879999994475,
          24811.289999994257,
          24811.289999994257,
          24811.289999994257,
          25059.32999999413,
          25059.32999999413,
          25059.32999999413,
          25282.439999994018,
          25282.439999994018,
          25282.439999994018,
          25482.359999993943,
          25482.359999993943,
          25482.359999993943,
          25661.879999993896,
          25661.879999993896,
          25661.879999993896,
          25823.669999993846,
          25823.669999993846,
          25823.669999993846,
          25969.25999999381,
          25969.25999999381,
          25969.25999999381,
          26099.939999993792,
          26099.939999993792,
          26099.939999993792,
          26217.29999999378,
          26217.29999999378,
          26217.29999999378,
          26323.13999999377,
          26323.13999999377,
          26323.13999999377,
          26418.479999993757,
          26418.479999993757,
          26418.479999993757,
          26503.88999999375,
          26503.88999999375,
          26503.88999999375,
          26580.77999999374,
          26580.77999999374,
          26580.77999999374,
          26650.109999993732,
          26650.109999993732,
          26650.109999993732
         ]
        }
       ],
       "layout": {
        "template": {
         "data": {
          "bar": [
           {
            "error_x": {
             "color": "#2a3f5f"
            },
            "error_y": {
             "color": "#2a3f5f"
            },
            "marker": {
             "line": {
              "color": "#E5ECF6",
              "width": 0.5
             },
             "pattern": {
              "fillmode": "overlay",
              "size": 10,
              "solidity": 0.2
             }
            },
            "type": "bar"
           }
          ],
          "barpolar": [
           {
            "marker": {
             "line": {
              "color": "#E5ECF6",
              "width": 0.5
             },
             "pattern": {
              "fillmode": "overlay",
              "size": 10,
              "solidity": 0.2
             }
            },
            "type": "barpolar"
           }
          ],
          "carpet": [
           {
            "aaxis": {
             "endlinecolor": "#2a3f5f",
             "gridcolor": "white",
             "linecolor": "white",
             "minorgridcolor": "white",
             "startlinecolor": "#2a3f5f"
            },
            "baxis": {
             "endlinecolor": "#2a3f5f",
             "gridcolor": "white",
             "linecolor": "white",
             "minorgridcolor": "white",
             "startlinecolor": "#2a3f5f"
            },
            "type": "carpet"
           }
          ],
          "choropleth": [
           {
            "colorbar": {
             "outlinewidth": 0,
             "ticks": ""
            },
            "type": "choropleth"
           }
          ],
          "contour": [
           {
            "colorbar": {
             "outlinewidth": 0,
             "ticks": ""
            },
            "colorscale": [
             [
              0,
              "#0d0887"
             ],
             [
              0.1111111111111111,
              "#46039f"
             ],
             [
              0.2222222222222222,
              "#7201a8"
             ],
             [
              0.3333333333333333,
              "#9c179e"
             ],
             [
              0.4444444444444444,
              "#bd3786"
             ],
             [
              0.5555555555555556,
              "#d8576b"
             ],
             [
              0.6666666666666666,
              "#ed7953"
             ],
             [
              0.7777777777777778,
              "#fb9f3a"
             ],
             [
              0.8888888888888888,
              "#fdca26"
             ],
             [
              1,
              "#f0f921"
             ]
            ],
            "type": "contour"
           }
          ],
          "contourcarpet": [
           {
            "colorbar": {
             "outlinewidth": 0,
             "ticks": ""
            },
            "type": "contourcarpet"
           }
          ],
          "heatmap": [
           {
            "colorbar": {
             "outlinewidth": 0,
             "ticks": ""
            },
            "colorscale": [
             [
              0,
              "#0d0887"
             ],
             [
              0.1111111111111111,
              "#46039f"
             ],
             [
              0.2222222222222222,
              "#7201a8"
             ],
             [
              0.3333333333333333,
              "#9c179e"
             ],
             [
              0.4444444444444444,
              "#bd3786"
             ],
             [
              0.5555555555555556,
              "#d8576b"
             ],
             [
              0.6666666666666666,
              "#ed7953"
             ],
             [
              0.7777777777777778,
              "#fb9f3a"
             ],
             [
              0.8888888888888888,
              "#fdca26"
             ],
             [
              1,
              "#f0f921"
             ]
            ],
            "type": "heatmap"
           }
          ],
          "heatmapgl": [
           {
            "colorbar": {
             "outlinewidth": 0,
             "ticks": ""
            },
            "colorscale": [
             [
              0,
              "#0d0887"
             ],
             [
              0.1111111111111111,
              "#46039f"
             ],
             [
              0.2222222222222222,
              "#7201a8"
             ],
             [
              0.3333333333333333,
              "#9c179e"
             ],
             [
              0.4444444444444444,
              "#bd3786"
             ],
             [
              0.5555555555555556,
              "#d8576b"
             ],
             [
              0.6666666666666666,
              "#ed7953"
             ],
             [
              0.7777777777777778,
              "#fb9f3a"
             ],
             [
              0.8888888888888888,
              "#fdca26"
             ],
             [
              1,
              "#f0f921"
             ]
            ],
            "type": "heatmapgl"
           }
          ],
          "histogram": [
           {
            "marker": {
             "pattern": {
              "fillmode": "overlay",
              "size": 10,
              "solidity": 0.2
             }
            },
            "type": "histogram"
           }
          ],
          "histogram2d": [
           {
            "colorbar": {
             "outlinewidth": 0,
             "ticks": ""
            },
            "colorscale": [
             [
              0,
              "#0d0887"
             ],
             [
              0.1111111111111111,
              "#46039f"
             ],
             [
              0.2222222222222222,
              "#7201a8"
             ],
             [
              0.3333333333333333,
              "#9c179e"
             ],
             [
              0.4444444444444444,
              "#bd3786"
             ],
             [
              0.5555555555555556,
              "#d8576b"
             ],
             [
              0.6666666666666666,
              "#ed7953"
             ],
             [
              0.7777777777777778,
              "#fb9f3a"
             ],
             [
              0.8888888888888888,
              "#fdca26"
             ],
             [
              1,
              "#f0f921"
             ]
            ],
            "type": "histogram2d"
           }
          ],
          "histogram2dcontour": [
           {
            "colorbar": {
             "outlinewidth": 0,
             "ticks": ""
            },
            "colorscale": [
             [
              0,
              "#0d0887"
             ],
             [
              0.1111111111111111,
              "#46039f"
             ],
             [
              0.2222222222222222,
              "#7201a8"
             ],
             [
              0.3333333333333333,
              "#9c179e"
             ],
             [
              0.4444444444444444,
              "#bd3786"
             ],
             [
              0.5555555555555556,
              "#d8576b"
             ],
             [
              0.6666666666666666,
              "#ed7953"
             ],
             [
              0.7777777777777778,
              "#fb9f3a"
             ],
             [
              0.8888888888888888,
              "#fdca26"
             ],
             [
              1,
              "#f0f921"
             ]
            ],
            "type": "histogram2dcontour"
           }
          ],
          "mesh3d": [
           {
            "colorbar": {
             "outlinewidth": 0,
             "ticks": ""
            },
            "type": "mesh3d"
           }
          ],
          "parcoords": [
           {
            "line": {
             "colorbar": {
              "outlinewidth": 0,
              "ticks": ""
             }
            },
            "type": "parcoords"
           }
          ],
          "pie": [
           {
            "automargin": true,
            "type": "pie"
           }
          ],
          "scatter": [
           {
            "fillpattern": {
             "fillmode": "overlay",
             "size": 10,
             "solidity": 0.2
            },
            "type": "scatter"
           }
          ],
          "scatter3d": [
           {
            "line": {
             "colorbar": {
              "outlinewidth": 0,
              "ticks": ""
             }
            },
            "marker": {
             "colorbar": {
              "outlinewidth": 0,
              "ticks": ""
             }
            },
            "type": "scatter3d"
           }
          ],
          "scattercarpet": [
           {
            "marker": {
             "colorbar": {
              "outlinewidth": 0,
              "ticks": ""
             }
            },
            "type": "scattercarpet"
           }
          ],
          "scattergeo": [
           {
            "marker": {
             "colorbar": {
              "outlinewidth": 0,
              "ticks": ""
             }
            },
            "type": "scattergeo"
           }
          ],
          "scattergl": [
           {
            "marker": {
             "colorbar": {
              "outlinewidth": 0,
              "ticks": ""
             }
            },
            "type": "scattergl"
           }
          ],
          "scattermapbox": [
           {
            "marker": {
             "colorbar": {
              "outlinewidth": 0,
              "ticks": ""
             }
            },
            "type": "scattermapbox"
           }
          ],
          "scatterpolar": [
           {
            "marker": {
             "colorbar": {
              "outlinewidth": 0,
              "ticks": ""
             }
            },
            "type": "scatterpolar"
           }
          ],
          "scatterpolargl": [
           {
            "marker": {
             "colorbar": {
              "outlinewidth": 0,
              "ticks": ""
             }
            },
            "type": "scatterpolargl"
           }
          ],
          "scatterternary": [
           {
            "marker": {
             "colorbar": {
              "outlinewidth": 0,
              "ticks": ""
             }
            },
            "type": "scatterternary"
           }
          ],
          "surface": [
           {
            "colorbar": {
             "outlinewidth": 0,
             "ticks": ""
            },
            "colorscale": [
             [
              0,
              "#0d0887"
             ],
             [
              0.1111111111111111,
              "#46039f"
             ],
             [
              0.2222222222222222,
              "#7201a8"
             ],
             [
              0.3333333333333333,
              "#9c179e"
             ],
             [
              0.4444444444444444,
              "#bd3786"
             ],
             [
              0.5555555555555556,
              "#d8576b"
             ],
             [
              0.6666666666666666,
              "#ed7953"
             ],
             [
              0.7777777777777778,
              "#fb9f3a"
             ],
             [
              0.8888888888888888,
              "#fdca26"
             ],
             [
              1,
              "#f0f921"
             ]
            ],
            "type": "surface"
           }
          ],
          "table": [
           {
            "cells": {
             "fill": {
              "color": "#EBF0F8"
             },
             "line": {
              "color": "white"
             }
            },
            "header": {
             "fill": {
              "color": "#C8D4E3"
             },
             "line": {
              "color": "white"
             }
            },
            "type": "table"
           }
          ]
         },
         "layout": {
          "annotationdefaults": {
           "arrowcolor": "#2a3f5f",
           "arrowhead": 0,
           "arrowwidth": 1
          },
          "autotypenumbers": "strict",
          "coloraxis": {
           "colorbar": {
            "outlinewidth": 0,
            "ticks": ""
           }
          },
          "colorscale": {
           "diverging": [
            [
             0,
             "#8e0152"
            ],
            [
             0.1,
             "#c51b7d"
            ],
            [
             0.2,
             "#de77ae"
            ],
            [
             0.3,
             "#f1b6da"
            ],
            [
             0.4,
             "#fde0ef"
            ],
            [
             0.5,
             "#f7f7f7"
            ],
            [
             0.6,
             "#e6f5d0"
            ],
            [
             0.7,
             "#b8e186"
            ],
            [
             0.8,
             "#7fbc41"
            ],
            [
             0.9,
             "#4d9221"
            ],
            [
             1,
             "#276419"
            ]
           ],
           "sequential": [
            [
             0,
             "#0d0887"
            ],
            [
             0.1111111111111111,
             "#46039f"
            ],
            [
             0.2222222222222222,
             "#7201a8"
            ],
            [
             0.3333333333333333,
             "#9c179e"
            ],
            [
             0.4444444444444444,
             "#bd3786"
            ],
            [
             0.5555555555555556,
             "#d8576b"
            ],
            [
             0.6666666666666666,
             "#ed7953"
            ],
            [
             0.7777777777777778,
             "#fb9f3a"
            ],
            [
             0.8888888888888888,
             "#fdca26"
            ],
            [
             1,
             "#f0f921"
            ]
           ],
           "sequentialminus": [
            [
             0,
             "#0d0887"
            ],
            [
             0.1111111111111111,
             "#46039f"
            ],
            [
             0.2222222222222222,
             "#7201a8"
            ],
            [
             0.3333333333333333,
             "#9c179e"
            ],
            [
             0.4444444444444444,
             "#bd3786"
            ],
            [
             0.5555555555555556,
             "#d8576b"
            ],
            [
             0.6666666666666666,
             "#ed7953"
            ],
            [
             0.7777777777777778,
             "#fb9f3a"
            ],
            [
             0.8888888888888888,
             "#fdca26"
            ],
            [
             1,
             "#f0f921"
            ]
           ]
          },
          "colorway": [
           "#636efa",
           "#EF553B",
           "#00cc96",
           "#ab63fa",
           "#FFA15A",
           "#19d3f3",
           "#FF6692",
           "#B6E880",
           "#FF97FF",
           "#FECB52"
          ],
          "font": {
           "color": "#2a3f5f"
          },
          "geo": {
           "bgcolor": "white",
           "lakecolor": "white",
           "landcolor": "#E5ECF6",
           "showlakes": true,
           "showland": true,
           "subunitcolor": "white"
          },
          "hoverlabel": {
           "align": "left"
          },
          "hovermode": "closest",
          "mapbox": {
           "style": "light"
          },
          "paper_bgcolor": "white",
          "plot_bgcolor": "#E5ECF6",
          "polar": {
           "angularaxis": {
            "gridcolor": "white",
            "linecolor": "white",
            "ticks": ""
           },
           "bgcolor": "#E5ECF6",
           "radialaxis": {
            "gridcolor": "white",
            "linecolor": "white",
            "ticks": ""
           }
          },
          "scene": {
           "xaxis": {
            "backgroundcolor": "#E5ECF6",
            "gridcolor": "white",
            "gridwidth": 2,
            "linecolor": "white",
            "showbackground": true,
            "ticks": "",
            "zerolinecolor": "white"
           },
           "yaxis": {
            "backgroundcolor": "#E5ECF6",
            "gridcolor": "white",
            "gridwidth": 2,
            "linecolor": "white",
            "showbackground": true,
            "ticks": "",
            "zerolinecolor": "white"
           },
           "zaxis": {
            "backgroundcolor": "#E5ECF6",
            "gridcolor": "white",
            "gridwidth": 2,
            "linecolor": "white",
            "showbackground": true,
            "ticks": "",
            "zerolinecolor": "white"
           }
          },
          "shapedefaults": {
           "line": {
            "color": "#2a3f5f"
           }
          },
          "ternary": {
           "aaxis": {
            "gridcolor": "white",
            "linecolor": "white",
            "ticks": ""
           },
           "baxis": {
            "gridcolor": "white",
            "linecolor": "white",
            "ticks": ""
           },
           "bgcolor": "#E5ECF6",
           "caxis": {
            "gridcolor": "white",
            "linecolor": "white",
            "ticks": ""
           }
          },
          "title": {
           "x": 0.05
          },
          "xaxis": {
           "automargin": true,
           "gridcolor": "white",
           "linecolor": "white",
           "ticks": "",
           "title": {
            "standoff": 15
           },
           "zerolinecolor": "white",
           "zerolinewidth": 2
          },
          "yaxis": {
           "automargin": true,
           "gridcolor": "white",
           "linecolor": "white",
           "ticks": "",
           "title": {
            "standoff": 15
           },
           "zerolinecolor": "white",
           "zerolinewidth": 2
          }
         }
        },
        "title": {
         "text": "Token Distribution Among Accounts Across Journeys and Their Phase"
        },
        "xaxis": {
         "title": {
          "text": "Journey and Phase"
         }
        },
        "yaxis": {
         "title": {
          "text": "Token Balance"
         }
        }
       }
      }
     },
     "metadata": {},
     "output_type": "display_data"
    }
   ],
   "source": [
    "# Generate Graphs\n",
    "\n",
    "# Convert accumulated data to DataFrames\n",
    "price_df = pd.DataFrame(prices)\n",
    "volume_df = pd.DataFrame(volumes)\n",
    "nfts_minted_df = pd.DataFrame(nfts_minted)\n",
    "evil_address_balance_df = pd.DataFrame(evil_address_balances)\n",
    "yields_df = pd.DataFrame(yields_per_journey)\n",
    "yields_accumulated_df = pd.DataFrame(yields_per_journey_accumulated)\n",
    "cumulative_yield_df = pd.DataFrame(cumulative_yield_per_journey_1)\n",
    "yield_per_nft_df = pd.DataFrame(yield_per_nft_per_journey)\n",
    "pool_dark_reserve_df = pd.DataFrame(pool_dark_reserves)\n",
    "pool_dai_reserve_df = pd.DataFrame(pool_dai_reserves)\n",
    "token_distribution_df = pd.DataFrame(token_distribution)\n",
    "\n",
    "# Plot Price of Dark token across journeys and their phase\n",
    "fig = go.Figure()\n",
    "fig.add_trace(go.Scatter(x=price_df['journey'] + price_df['phase'] / 3, y=price_df['price'], mode='lines+markers', name='Price of Dark Token'))\n",
    "fig.update_layout(title='Price of Dark Token Across Journeys and Their Phase', xaxis_title='Journey and Phase', yaxis_title='Price of Dark Token')\n",
    "fig.show()\n",
    "\n",
    "# Plot Cumulative volume of trades across phases and journey\n",
    "fig = go.Figure()\n",
    "fig.add_trace(go.Scatter(x=volume_df['journey'] + volume_df['phase'] / 3, y=volume_df['volume'], mode='lines+markers', name='Cumulative Volume'))\n",
    "fig.update_layout(title='Cumulative Volume of Trades Across Phases and Journey', xaxis_title='Journey and Phase', yaxis_title='Cumulative Volume')\n",
    "fig.show()\n",
    "\n",
    "# Plot Total number of NFTs minted in each journey\n",
    "fig = go.Figure()\n",
    "fig.add_trace(go.Bar(x=nfts_minted_df['journey'], y=nfts_minted_df['nfts_minted'], name='Total NFTs Minted'))\n",
    "fig.update_layout(title='Total Number of NFTs Minted in Each Journey', xaxis_title='Journey', yaxis_title='Total NFTs Minted')\n",
    "fig.show()\n",
    "\n",
    "# Plot Change of balance of Evil address across each journey and their phase\n",
    "fig = go.Figure()\n",
    "fig.add_trace(go.Scatter(x=evil_address_balance_df['journey'] + evil_address_balance_df['phase'] / 3, y=evil_address_balance_df['balance'], mode='lines+markers', name='Evil Address Balance'))\n",
    "fig.update_layout(title='Change of Balance of Evil Address Across Each Journey and Their Phase', xaxis_title='Journey and Phase', yaxis_title='Balance of Evil Address')\n",
    "fig.show()\n",
    "\n",
    "# Plot Total yield generated by NFT minted in each journey\n",
    "fig = go.Figure()\n",
    "fig.add_trace(go.Bar(x=yields_accumulated_df['journey'], y=yields_accumulated_df['total_yield'], name='Total Yield Generated'))\n",
    "fig.update_layout(title='Total Yield Generated by NFTs Minted in Each Journey', xaxis_title='Journey', yaxis_title='Total Yield')\n",
    "fig.show()\n",
    "\n",
    "# Plot Cumulative yield per journey for NFTs minted in journey 1\n",
    "fig = go.Figure()\n",
    "fig.add_trace(go.Scatter(x=cumulative_yield_df['journey'], y=cumulative_yield_df['total_yield'], mode='lines+markers', name='Cumulative Yield for NFTs Minted in Journey 1'))\n",
    "fig.update_layout(title='Cumulative Yield for NFTs Minted in Journey 1', xaxis_title='Journey', yaxis_title='Cumulative Yield')\n",
    "fig.show()\n",
    "\n",
    "# Plot Change in Dark token reserves in the pool\n",
    "fig = go.Figure()\n",
    "fig.add_trace(go.Scatter(x=pool_dark_reserve_df['journey'] + pool_dark_reserve_df['phase'] / 3, y=pool_dark_reserve_df['dark_reserve'], mode='lines+markers', name='Dark Reserve in Pool'))\n",
    "fig.update_layout(title='Change in Dark Token Reserves in the Pool Across Journeys and Their Phase', xaxis_title='Journey and Phase', yaxis_title='Dark Token Reserve')\n",
    "fig.show()\n",
    "\n",
    "# Plot Change in DAI token reserves in the pool\n",
    "fig = go.Figure()\n",
    "fig.add_trace(go.Scatter(x=pool_dai_reserve_df['journey'] + pool_dai_reserve_df['phase'] / 3, y=pool_dai_reserve_df['dai_reserve'], mode='lines+markers', name='DAI Reserve in Pool'))\n",
    "fig.update_layout(title='Change in DAI Token Reserves in the Pool Across Journeys and Their Phase', xaxis_title='Journey and Phase', yaxis_title='DAI Token Reserve')\n",
    "fig.show()\n",
    "\n",
    "# Plot Token distribution among the accounts across the journeys in a stacked area chart\n",
    "fig = go.Figure()\n",
    "fig.add_trace(go.Scatter(x=token_distribution_df['journey'] + token_distribution_df['phase'] / 3, y=token_distribution_df['magic_box_balance'], mode='lines', stackgroup='one', name='Magic Box Account', hoverinfo='x+y'))\n",
    "fig.add_trace(go.Scatter(x=token_distribution_df['journey'] + token_distribution_df['phase'] / 3, y=token_distribution_df['pool_balance'], mode='lines', stackgroup='one', name='Pool', hoverinfo='x+y'))\n",
    "fig.add_trace(go.Scatter(x=token_distribution_df['journey'] + token_distribution_df['phase'] / 3, y=token_distribution_df['treasury_balance'], mode='lines', stackgroup='one', name='Treasury Account', hoverinfo='x+y'))\n",
    "fig.add_trace(go.Scatter(x=token_distribution_df['journey'] + token_distribution_df['phase'] / 3, y=token_distribution_df['jackpot_balance'], mode='lines', stackgroup='one', name='Jackpot Account', hoverinfo='x+y'))\n",
    "fig.add_trace(go.Scatter(x=token_distribution_df['journey'] + token_distribution_df['phase'] / 3, y=token_distribution_df['evil_address_balance'], mode='lines', stackgroup='one', name='Evil Address Account', hoverinfo='x+y'))\n",
    "fig.add_trace(go.Scatter(x=token_distribution_df['journey'] + token_distribution_df['phase'] / 3, y=token_distribution_df['public_balance'], mode='lines', stackgroup='one', name='Public Account', hoverinfo='x+y'))\n",
    "fig.add_trace(go.Scatter(x=token_distribution_df['journey'] + token_distribution_df['phase'] / 3, y=token_distribution_df['team_balance'], mode='lines', stackgroup='one', name='Team Account', hoverinfo='x+y'))\n",
    "fig.update_layout(title='Token Distribution Among Accounts Across Journeys and Their Phase', xaxis_title='Journey and Phase', yaxis_title='Token Balance')\n",
    "fig.show()\n"
   ]
  }
 ],
 "metadata": {
  "kernelspec": {
   "display_name": "venv",
   "language": "python",
   "name": "python3"
  },
  "language_info": {
   "codemirror_mode": {
    "name": "ipython",
    "version": 3
   },
   "file_extension": ".py",
   "mimetype": "text/x-python",
   "name": "python",
   "nbconvert_exporter": "python",
   "pygments_lexer": "ipython3",
   "version": "3.11.6"
  }
 },
 "nbformat": 4,
 "nbformat_minor": 2
}
